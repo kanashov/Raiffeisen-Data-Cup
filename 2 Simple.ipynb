{
 "cells": [
  {
   "cell_type": "code",
   "execution_count": 8,
   "metadata": {
    "collapsed": true
   },
   "outputs": [],
   "source": [
    "import numpy as np\n",
    "import pandas as pd\n",
    "import seaborn as sns\n",
    "import lightgbm as lgb\n",
    "%matplotlib inline\n",
    "\n",
    "from sklearn.model_selection import train_test_split\n",
    "from sklearn.preprocessing import LabelEncoder, OneHotEncoder"
   ]
  },
  {
   "cell_type": "code",
   "execution_count": 37,
   "metadata": {},
   "outputs": [
    {
     "name": "stderr",
     "output_type": "stream",
     "text": [
      "D:\\Anaconda3\\lib\\site-packages\\IPython\\core\\interactiveshell.py:2698: DtypeWarning: Columns (1,11) have mixed types. Specify dtype option on import or set low_memory=False.\n",
      "  interactivity=interactivity, compiler=compiler, result=result)\n",
      "D:\\Anaconda3\\lib\\site-packages\\IPython\\core\\interactiveshell.py:2698: DtypeWarning: Columns (1,8,9) have mixed types. Specify dtype option on import or set low_memory=False.\n",
      "  interactivity=interactivity, compiler=compiler, result=result)\n"
     ]
    }
   ],
   "source": [
    "train = pd.read_csv('data/train_set.csv')\n",
    "test = pd.read_csv('data/test_set.csv')\n",
    "\n",
    "train.rename(columns={ 'pos_adress_lat' : 'pos_address_lat', \n",
    "                       'pos_adress_lon' : 'pos_address_lon'}, inplace=True)"
   ]
  },
  {
   "cell_type": "code",
   "execution_count": 33,
   "metadata": {},
   "outputs": [
    {
     "data": {
      "text/html": [
       "<div>\n",
       "<style>\n",
       "    .dataframe thead tr:only-child th {\n",
       "        text-align: right;\n",
       "    }\n",
       "\n",
       "    .dataframe thead th {\n",
       "        text-align: left;\n",
       "    }\n",
       "\n",
       "    .dataframe tbody tr th {\n",
       "        vertical-align: top;\n",
       "    }\n",
       "</style>\n",
       "<table border=\"1\" class=\"dataframe\">\n",
       "  <thead>\n",
       "    <tr style=\"text-align: right;\">\n",
       "      <th></th>\n",
       "      <th>amount</th>\n",
       "      <th>atm_address</th>\n",
       "      <th>atm_address_lat</th>\n",
       "      <th>atm_address_lon</th>\n",
       "      <th>city</th>\n",
       "      <th>country</th>\n",
       "      <th>currency</th>\n",
       "      <th>customer_id</th>\n",
       "      <th>home_add_lat</th>\n",
       "      <th>home_add_lon</th>\n",
       "      <th>mcc</th>\n",
       "      <th>pos_address</th>\n",
       "      <th>pos_address_lat</th>\n",
       "      <th>pos_address_lon</th>\n",
       "      <th>terminal_id</th>\n",
       "      <th>transaction_date</th>\n",
       "      <th>work_add_lat</th>\n",
       "      <th>work_add_lon</th>\n",
       "    </tr>\n",
       "  </thead>\n",
       "  <tbody>\n",
       "    <tr>\n",
       "      <th>0</th>\n",
       "      <td>2.884034</td>\n",
       "      <td>NaN</td>\n",
       "      <td>NaN</td>\n",
       "      <td>NaN</td>\n",
       "      <td>ST PETERSBURG</td>\n",
       "      <td>RUS</td>\n",
       "      <td>643.0</td>\n",
       "      <td>0dc0137d280a2a82d2dc89282450ff1b</td>\n",
       "      <td>59.851</td>\n",
       "      <td>30.232</td>\n",
       "      <td>5261</td>\n",
       "      <td>NaN</td>\n",
       "      <td>59.844072</td>\n",
       "      <td>30.179153</td>\n",
       "      <td>11606fde0c814ce78e0d726e39a0a5ee</td>\n",
       "      <td>2017-07-15</td>\n",
       "      <td>59.847</td>\n",
       "      <td>30.177</td>\n",
       "    </tr>\n",
       "    <tr>\n",
       "      <th>1</th>\n",
       "      <td>2.775633</td>\n",
       "      <td>NaN</td>\n",
       "      <td>NaN</td>\n",
       "      <td>NaN</td>\n",
       "      <td>ST PETERSBURG</td>\n",
       "      <td>RUS</td>\n",
       "      <td>643.0</td>\n",
       "      <td>0dc0137d280a2a82d2dc89282450ff1b</td>\n",
       "      <td>59.851</td>\n",
       "      <td>30.232</td>\n",
       "      <td>5261</td>\n",
       "      <td>NaN</td>\n",
       "      <td>59.844072</td>\n",
       "      <td>30.179153</td>\n",
       "      <td>e9647a5e1eacfb06713b6af755ccc595</td>\n",
       "      <td>2017-10-27</td>\n",
       "      <td>59.847</td>\n",
       "      <td>30.177</td>\n",
       "    </tr>\n",
       "  </tbody>\n",
       "</table>\n",
       "</div>"
      ],
      "text/plain": [
       "     amount atm_address  atm_address_lat  atm_address_lon           city  \\\n",
       "0  2.884034         NaN              NaN              NaN  ST PETERSBURG   \n",
       "1  2.775633         NaN              NaN              NaN  ST PETERSBURG   \n",
       "\n",
       "  country  currency                       customer_id  home_add_lat  \\\n",
       "0     RUS     643.0  0dc0137d280a2a82d2dc89282450ff1b        59.851   \n",
       "1     RUS     643.0  0dc0137d280a2a82d2dc89282450ff1b        59.851   \n",
       "\n",
       "   home_add_lon   mcc pos_address  pos_address_lat  pos_address_lon  \\\n",
       "0        30.232  5261         NaN        59.844072        30.179153   \n",
       "1        30.232  5261         NaN        59.844072        30.179153   \n",
       "\n",
       "                        terminal_id transaction_date  work_add_lat  \\\n",
       "0  11606fde0c814ce78e0d726e39a0a5ee       2017-07-15        59.847   \n",
       "1  e9647a5e1eacfb06713b6af755ccc595       2017-10-27        59.847   \n",
       "\n",
       "   work_add_lon  \n",
       "0        30.177  \n",
       "1        30.177  "
      ]
     },
     "execution_count": 33,
     "metadata": {},
     "output_type": "execute_result"
    }
   ],
   "source": [
    "train[:2]"
   ]
  },
  {
   "cell_type": "code",
   "execution_count": 34,
   "metadata": {
    "collapsed": true
   },
   "outputs": [],
   "source": [
    "# Замена NaN на 0\n",
    "train.fillna(value=0, inplace=True)"
   ]
  },
  {
   "cell_type": "code",
   "execution_count": 35,
   "metadata": {},
   "outputs": [
    {
     "data": {
      "text/html": [
       "<div>\n",
       "<style>\n",
       "    .dataframe thead tr:only-child th {\n",
       "        text-align: right;\n",
       "    }\n",
       "\n",
       "    .dataframe thead th {\n",
       "        text-align: left;\n",
       "    }\n",
       "\n",
       "    .dataframe tbody tr th {\n",
       "        vertical-align: top;\n",
       "    }\n",
       "</style>\n",
       "<table border=\"1\" class=\"dataframe\">\n",
       "  <thead>\n",
       "    <tr style=\"text-align: right;\">\n",
       "      <th></th>\n",
       "      <th>amount</th>\n",
       "      <th>atm_address</th>\n",
       "      <th>atm_address_lat</th>\n",
       "      <th>atm_address_lon</th>\n",
       "      <th>city</th>\n",
       "      <th>country</th>\n",
       "      <th>currency</th>\n",
       "      <th>customer_id</th>\n",
       "      <th>home_add_lat</th>\n",
       "      <th>home_add_lon</th>\n",
       "      <th>mcc</th>\n",
       "      <th>pos_address</th>\n",
       "      <th>pos_address_lat</th>\n",
       "      <th>pos_address_lon</th>\n",
       "      <th>terminal_id</th>\n",
       "      <th>transaction_date</th>\n",
       "      <th>work_add_lat</th>\n",
       "      <th>work_add_lon</th>\n",
       "    </tr>\n",
       "  </thead>\n",
       "  <tbody>\n",
       "    <tr>\n",
       "      <th>0</th>\n",
       "      <td>2.884034</td>\n",
       "      <td>0</td>\n",
       "      <td>0.0</td>\n",
       "      <td>0.0</td>\n",
       "      <td>ST PETERSBURG</td>\n",
       "      <td>RUS</td>\n",
       "      <td>643.0</td>\n",
       "      <td>0dc0137d280a2a82d2dc89282450ff1b</td>\n",
       "      <td>59.851</td>\n",
       "      <td>30.232</td>\n",
       "      <td>5261</td>\n",
       "      <td>0</td>\n",
       "      <td>59.844072</td>\n",
       "      <td>30.179153</td>\n",
       "      <td>11606fde0c814ce78e0d726e39a0a5ee</td>\n",
       "      <td>2017-07-15</td>\n",
       "      <td>59.847</td>\n",
       "      <td>30.177</td>\n",
       "    </tr>\n",
       "    <tr>\n",
       "      <th>1</th>\n",
       "      <td>2.775633</td>\n",
       "      <td>0</td>\n",
       "      <td>0.0</td>\n",
       "      <td>0.0</td>\n",
       "      <td>ST PETERSBURG</td>\n",
       "      <td>RUS</td>\n",
       "      <td>643.0</td>\n",
       "      <td>0dc0137d280a2a82d2dc89282450ff1b</td>\n",
       "      <td>59.851</td>\n",
       "      <td>30.232</td>\n",
       "      <td>5261</td>\n",
       "      <td>0</td>\n",
       "      <td>59.844072</td>\n",
       "      <td>30.179153</td>\n",
       "      <td>e9647a5e1eacfb06713b6af755ccc595</td>\n",
       "      <td>2017-10-27</td>\n",
       "      <td>59.847</td>\n",
       "      <td>30.177</td>\n",
       "    </tr>\n",
       "  </tbody>\n",
       "</table>\n",
       "</div>"
      ],
      "text/plain": [
       "     amount atm_address  atm_address_lat  atm_address_lon           city  \\\n",
       "0  2.884034           0              0.0              0.0  ST PETERSBURG   \n",
       "1  2.775633           0              0.0              0.0  ST PETERSBURG   \n",
       "\n",
       "  country  currency                       customer_id  home_add_lat  \\\n",
       "0     RUS     643.0  0dc0137d280a2a82d2dc89282450ff1b        59.851   \n",
       "1     RUS     643.0  0dc0137d280a2a82d2dc89282450ff1b        59.851   \n",
       "\n",
       "   home_add_lon   mcc pos_address  pos_address_lat  pos_address_lon  \\\n",
       "0        30.232  5261           0        59.844072        30.179153   \n",
       "1        30.232  5261           0        59.844072        30.179153   \n",
       "\n",
       "                        terminal_id transaction_date  work_add_lat  \\\n",
       "0  11606fde0c814ce78e0d726e39a0a5ee       2017-07-15        59.847   \n",
       "1  e9647a5e1eacfb06713b6af755ccc595       2017-10-27        59.847   \n",
       "\n",
       "   work_add_lon  \n",
       "0        30.177  \n",
       "1        30.177  "
      ]
     },
     "execution_count": 35,
     "metadata": {},
     "output_type": "execute_result"
    }
   ],
   "source": [
    "train[:2]"
   ]
  },
  {
   "cell_type": "code",
   "execution_count": 43,
   "metadata": {
    "collapsed": true
   },
   "outputs": [],
   "source": [
    "X = train[['amount', 'atm_address_lat', 'atm_address_lon']]"
   ]
  },
  {
   "cell_type": "code",
   "execution_count": 44,
   "metadata": {
    "collapsed": true
   },
   "outputs": [],
   "source": [
    "y = train['home_add_lat']"
   ]
  },
  {
   "cell_type": "code",
   "execution_count": 45,
   "metadata": {
    "collapsed": true
   },
   "outputs": [],
   "source": [
    "X_train, X_valid, y_train, y_valid = train_test_split(train1, y, test_size=0.2, random_state=42, stratify=y)"
   ]
  },
  {
   "cell_type": "code",
   "execution_count": 46,
   "metadata": {
    "collapsed": true
   },
   "outputs": [],
   "source": [
    "data_train_lgb = lgb.Dataset(X_train, label=y_train)\n",
    "data_valid_lgb = lgb.Dataset(X_valid, label=y_valid)"
   ]
  },
  {
   "cell_type": "code",
   "execution_count": 47,
   "metadata": {
    "collapsed": true
   },
   "outputs": [],
   "source": [
    "param = {'num_trees': 100000,\n",
    "         'application':'regression',\n",
    "         'learning_rate': 0.01, \n",
    "         'max_depth': 10,\n",
    "         'lambda_l2': 1e-3}"
   ]
  },
  {
   "cell_type": "code",
   "execution_count": 48,
   "metadata": {},
   "outputs": [
    {
     "name": "stdout",
     "output_type": "stream",
     "text": [
      "[1]\tvalid_0's auc: 0.575087\n",
      "Training until validation scores don't improve for 100 rounds.\n",
      "[2]\tvalid_0's auc: 0.575087\n",
      "[3]\tvalid_0's auc: 0.612297\n",
      "[4]\tvalid_0's auc: 0.608741\n",
      "[5]\tvalid_0's auc: 0.608741\n",
      "[6]\tvalid_0's auc: 0.608741\n",
      "[7]\tvalid_0's auc: 0.608741\n",
      "[8]\tvalid_0's auc: 0.608741\n",
      "[9]\tvalid_0's auc: 0.604748\n",
      "[10]\tvalid_0's auc: 0.604748\n",
      "[11]\tvalid_0's auc: 0.530962\n",
      "[12]\tvalid_0's auc: 0.530962\n",
      "[13]\tvalid_0's auc: 0.530962\n",
      "[14]\tvalid_0's auc: 0.596886\n",
      "[15]\tvalid_0's auc: 0.596886\n",
      "[16]\tvalid_0's auc: 0.596886\n",
      "[17]\tvalid_0's auc: 0.596886\n",
      "[18]\tvalid_0's auc: 0.596886\n",
      "[19]\tvalid_0's auc: 0.596886\n",
      "[20]\tvalid_0's auc: 0.596886\n",
      "[21]\tvalid_0's auc: 0.599598\n",
      "[22]\tvalid_0's auc: 0.599598\n",
      "[23]\tvalid_0's auc: 0.599598\n",
      "[24]\tvalid_0's auc: 0.599598\n",
      "[25]\tvalid_0's auc: 0.599598\n",
      "[26]\tvalid_0's auc: 0.599598\n",
      "[27]\tvalid_0's auc: 0.599598\n",
      "[28]\tvalid_0's auc: 0.599598\n",
      "[29]\tvalid_0's auc: 0.599598\n",
      "[30]\tvalid_0's auc: 0.599598\n",
      "[31]\tvalid_0's auc: 0.599598\n",
      "[32]\tvalid_0's auc: 0.599598\n",
      "[33]\tvalid_0's auc: 0.599766\n",
      "[34]\tvalid_0's auc: 0.60055\n",
      "[35]\tvalid_0's auc: 0.60108\n",
      "[36]\tvalid_0's auc: 0.60108\n",
      "[37]\tvalid_0's auc: 0.60108\n",
      "[38]\tvalid_0's auc: 0.60108\n",
      "[39]\tvalid_0's auc: 0.60108\n",
      "[40]\tvalid_0's auc: 0.60108\n",
      "[41]\tvalid_0's auc: 0.600065\n",
      "[42]\tvalid_0's auc: 0.600992\n",
      "[43]\tvalid_0's auc: 0.600992\n",
      "[44]\tvalid_0's auc: 0.600996\n",
      "[45]\tvalid_0's auc: 0.601004\n",
      "[46]\tvalid_0's auc: 0.601004\n",
      "[47]\tvalid_0's auc: 0.601004\n",
      "[48]\tvalid_0's auc: 0.601004\n",
      "[49]\tvalid_0's auc: 0.601004\n",
      "[50]\tvalid_0's auc: 0.601004\n",
      "[51]\tvalid_0's auc: 0.600992\n",
      "[52]\tvalid_0's auc: 0.600996\n",
      "[53]\tvalid_0's auc: 0.601004\n",
      "[54]\tvalid_0's auc: 0.601004\n",
      "[55]\tvalid_0's auc: 0.601004\n",
      "[56]\tvalid_0's auc: 0.601004\n",
      "[57]\tvalid_0's auc: 0.600992\n",
      "[58]\tvalid_0's auc: 0.600996\n",
      "[59]\tvalid_0's auc: 0.601004\n",
      "[60]\tvalid_0's auc: 0.601004\n",
      "[61]\tvalid_0's auc: 0.601004\n",
      "[62]\tvalid_0's auc: 0.601004\n",
      "[63]\tvalid_0's auc: 0.601004\n",
      "[64]\tvalid_0's auc: 0.601004\n",
      "[65]\tvalid_0's auc: 0.601004\n",
      "[66]\tvalid_0's auc: 0.601004\n",
      "[67]\tvalid_0's auc: 0.601004\n",
      "[68]\tvalid_0's auc: 0.601004\n",
      "[69]\tvalid_0's auc: 0.601004\n",
      "[70]\tvalid_0's auc: 0.601004\n",
      "[71]\tvalid_0's auc: 0.601004\n",
      "[72]\tvalid_0's auc: 0.601004\n",
      "[73]\tvalid_0's auc: 0.601004\n",
      "[74]\tvalid_0's auc: 0.601004\n",
      "[75]\tvalid_0's auc: 0.601004\n",
      "[76]\tvalid_0's auc: 0.601004\n",
      "[77]\tvalid_0's auc: 0.601004\n",
      "[78]\tvalid_0's auc: 0.601004\n",
      "[79]\tvalid_0's auc: 0.601004\n",
      "[80]\tvalid_0's auc: 0.601004\n",
      "[81]\tvalid_0's auc: 0.601004\n",
      "[82]\tvalid_0's auc: 0.601004\n",
      "[83]\tvalid_0's auc: 0.601004\n",
      "[84]\tvalid_0's auc: 0.601004\n",
      "[85]\tvalid_0's auc: 0.601004\n",
      "[86]\tvalid_0's auc: 0.601004\n",
      "[87]\tvalid_0's auc: 0.601004\n",
      "[88]\tvalid_0's auc: 0.601004\n",
      "[89]\tvalid_0's auc: 0.601004\n",
      "[90]\tvalid_0's auc: 0.601004\n",
      "[91]\tvalid_0's auc: 0.597844\n",
      "[92]\tvalid_0's auc: 0.597844\n",
      "[93]\tvalid_0's auc: 0.597844\n",
      "[94]\tvalid_0's auc: 0.597844\n",
      "[95]\tvalid_0's auc: 0.597844\n",
      "[96]\tvalid_0's auc: 0.597844\n",
      "[97]\tvalid_0's auc: 0.597844\n",
      "[98]\tvalid_0's auc: 0.597844\n",
      "[99]\tvalid_0's auc: 0.597844\n",
      "[100]\tvalid_0's auc: 0.597844\n",
      "[101]\tvalid_0's auc: 0.597844\n",
      "[102]\tvalid_0's auc: 0.597844\n",
      "[103]\tvalid_0's auc: 0.597844\n",
      "Early stopping, best iteration is:\n",
      "[3]\tvalid_0's auc: 0.612297\n"
     ]
    }
   ],
   "source": [
    "model = lgb.train(parameters,\n",
    "                       data_train_lgb,\n",
    "                       valid_sets=data_valid_lgb,\n",
    "                       num_boost_round=5000,\n",
    "                       early_stopping_rounds=100)"
   ]
  },
  {
   "cell_type": "code",
   "execution_count": null,
   "metadata": {
    "collapsed": true
   },
   "outputs": [],
   "source": [
    "bst = lgb.train(param, X_train_lgb, early_stopping_rounds=200)"
   ]
  },
  {
   "cell_type": "code",
   "execution_count": null,
   "metadata": {
    "collapsed": true
   },
   "outputs": [],
   "source": []
  },
  {
   "cell_type": "code",
   "execution_count": 4,
   "metadata": {
    "collapsed": true
   },
   "outputs": [],
   "source": [
    "X = train.drop(['home_add_lat', 'home_add_lon','work_add_lat', 'work_add_lon'], axis=1)\n",
    "Y_home_lat = train['home_add_lat']\n",
    "Y_home_lon = train['home_add_lon']\n",
    "Y_work_lat = train['work_add_lat']\n",
    "Y_work_lon = train['work_add_lon']"
   ]
  },
  {
   "cell_type": "code",
   "execution_count": 6,
   "metadata": {
    "collapsed": true
   },
   "outputs": [],
   "source": [
    "#X_train, X_valid, Y_train, Y_valid = train_test_split(X, Y_home_lat, test_size=0.2, random_state=42, stratify=Y_home_lat)\n",
    "X_train, X_valid, Y_train, Y_valid = train_test_split(X, Y_home_lat, test_size=0.2, random_state=42)"
   ]
  },
  {
   "cell_type": "code",
   "execution_count": 8,
   "metadata": {
    "collapsed": true
   },
   "outputs": [],
   "source": [
    "categorical_features = [c for c, col in enumerate(X.columns) if 'cat' in col]"
   ]
  },
  {
   "cell_type": "code",
   "execution_count": 10,
   "metadata": {},
   "outputs": [
    {
     "data": {
      "text/plain": [
       "Index(['amount', 'atm_address', 'atm_address_lat', 'atm_address_lon', 'city',\n",
       "       'country', 'currency', 'customer_id', 'mcc', 'pos_address',\n",
       "       'pos_address_lat', 'pos_address_lon', 'terminal_id',\n",
       "       'transaction_date'],\n",
       "      dtype='object')"
      ]
     },
     "execution_count": 10,
     "metadata": {},
     "output_type": "execute_result"
    }
   ],
   "source": [
    "X.columns"
   ]
  },
  {
   "cell_type": "code",
   "execution_count": 9,
   "metadata": {},
   "outputs": [
    {
     "data": {
      "text/plain": [
       "[]"
      ]
     },
     "execution_count": 9,
     "metadata": {},
     "output_type": "execute_result"
    }
   ],
   "source": [
    "categorical_features"
   ]
  },
  {
   "cell_type": "code",
   "execution_count": 13,
   "metadata": {
    "collapsed": true
   },
   "outputs": [],
   "source": [
    "data_train_lgb = lgb.Dataset(X_train, label=Y_train)\n",
    "data_valid_lgb = lgb.Dataset(X_valid, label=Y_valid)"
   ]
  },
  {
   "cell_type": "code",
   "execution_count": 14,
   "metadata": {
    "collapsed": true
   },
   "outputs": [],
   "source": [
    "parameters = {\n",
    "    'application': 'binary',\n",
    "    'objective': 'binary',\n",
    "    'metric': 'auc',\n",
    "    'is_unbalance': 'true',\n",
    "    'boosting': 'gbdt',\n",
    "    'num_leaves': 31,\n",
    "    'feature_fraction': 0.5,\n",
    "    'bagging_fraction': 0.5,\n",
    "    'bagging_freq': 20,\n",
    "    'learning_rate': 0.05,\n",
    "    'verbose': 0\n",
    "}"
   ]
  },
  {
   "cell_type": "code",
   "execution_count": null,
   "metadata": {
    "collapsed": true
   },
   "outputs": [],
   "source": [
    "model = lgb.train(parameters,\n",
    "                       data_train_lgb,\n",
    "                       valid_sets=data_valid_lgb,\n",
    "                       num_boost_round=5000,\n",
    "                       early_stopping_rounds=100)"
   ]
  },
  {
   "cell_type": "code",
   "execution_count": 9,
   "metadata": {
    "collapsed": true
   },
   "outputs": [],
   "source": [
    "# Категорийные признаки\n",
    "categorical_columns = train.columns[train.dtypes == 'object']"
   ]
  },
  {
   "cell_type": "code",
   "execution_count": 10,
   "metadata": {
    "collapsed": true
   },
   "outputs": [],
   "source": [
    "#categorical_columns = categorical_columns.drop('transaction_date')"
   ]
  },
  {
   "cell_type": "code",
   "execution_count": 11,
   "metadata": {},
   "outputs": [
    {
     "data": {
      "text/plain": [
       "Index(['atm_address', 'city', 'country', 'customer_id', 'pos_address',\n",
       "       'terminal_id', 'transaction_date'],\n",
       "      dtype='object')"
      ]
     },
     "execution_count": 11,
     "metadata": {},
     "output_type": "execute_result"
    }
   ],
   "source": [
    "categorical_columns"
   ]
  },
  {
   "cell_type": "code",
   "execution_count": 12,
   "metadata": {
    "collapsed": true
   },
   "outputs": [],
   "source": [
    "label_encoder = LabelEncoder()"
   ]
  },
  {
   "cell_type": "code",
   "execution_count": 15,
   "metadata": {
    "collapsed": true
   },
   "outputs": [],
   "source": [
    "mapped_country = pd.Series(label_encoder.fit_transform(train['country']))"
   ]
  },
  {
   "cell_type": "code",
   "execution_count": 21,
   "metadata": {},
   "outputs": [
    {
     "data": {
      "text/plain": [
       "127"
      ]
     },
     "execution_count": 21,
     "metadata": {},
     "output_type": "execute_result"
    }
   ],
   "source": [
    "len(train['country'].unique())"
   ]
  },
  {
   "cell_type": "code",
   "execution_count": 18,
   "metadata": {},
   "outputs": [
    {
     "name": "stdout",
     "output_type": "stream",
     "text": [
      "{0: ' ZZ\"', 1: '-bar Campus\"', 2: 'AE ', 3: 'ALB', 4: 'AM ', 5: 'ARE', 6: 'ARM', 7: 'AT ', 8: 'AU ', 9: 'AUS', 10: 'AUT', 11: 'AZ ', 12: 'AZE', 13: 'BEL', 14: 'BG ', 15: 'BGR', 16: 'BIH', 17: 'BLR', 18: 'BY ', 19: 'CAN', 20: 'CH ', 21: 'CHE', 22: 'CHN', 23: 'CN ', 24: 'CUB', 25: 'CY ', 26: 'CYM', 27: 'CYP', 28: 'CZ ', 29: 'CZE', 30: 'DE ', 31: 'DEU', 32: 'DNK', 33: 'DOM', 34: 'EGY', 35: 'ES ', 36: 'ESP', 37: 'EST', 38: 'FI ', 39: 'FIN', 40: 'FR ', 41: 'FRA', 42: 'GB ', 43: 'GBR', 44: 'GE ', 45: 'GEO', 46: 'GR ', 47: 'GRC', 48: 'HK ', 49: 'HKG', 50: 'HR ', 51: 'HRV', 52: 'HU ', 53: 'HUN', 54: 'ID ', 55: 'IDN', 56: 'IL ', 57: 'IN ', 58: 'IND', 59: 'IRL', 60: 'IS ', 61: 'ISL', 62: 'ISR', 63: 'IT ', 64: 'ITA', 65: 'JAM', 66: 'JOR', 67: 'JPN', 68: 'KAZ', 69: 'KEN', 70: 'KG ', 71: 'KGZ', 72: 'KHM', 73: 'KZ ', 74: 'LKA', 75: 'LT ', 76: 'LTU', 77: 'LV ', 78: 'LVA', 79: 'MAR', 80: 'MD ', 81: 'MDA', 82: 'ME ', 83: 'MEX', 84: 'MKD', 85: 'MLT', 86: 'MNE', 87: 'MNG', 88: 'MY ', 89: 'MYS', 90: 'NL ', 91: 'NLD', 92: 'NOR', 93: 'NZL', 94: 'PER', 95: 'PHL', 96: 'PL ', 97: 'POL', 98: 'PRT', 99: 'PT ', 100: 'QA ', 101: 'ROM', 102: 'RU ', 103: 'RUS', 104: 'SAU', 105: 'SG ', 106: 'SGP', 107: 'SRB', 108: 'SVK', 109: 'SVN', 110: 'SWE', 111: 'TH ', 112: 'THA', 113: 'TJK', 114: 'TN ', 115: 'TR ', 116: 'TUN', 117: 'TUR', 118: 'TZ ', 119: 'UA ', 120: 'UKR', 121: 'US ', 122: 'USA', 123: 'UZ ', 124: 'UZB', 125: 'VNM', 126: 'ZAF'}\n"
     ]
    }
   ],
   "source": [
    "print(dict(enumerate(label_encoder.classes_)))"
   ]
  },
  {
   "cell_type": "code",
   "execution_count": 28,
   "metadata": {},
   "outputs": [
    {
     "name": "stderr",
     "output_type": "stream",
     "text": [
      "D:\\Anaconda3\\lib\\site-packages\\ipykernel_launcher.py:1: FutureWarning: reshape is deprecated and will raise in a subsequent release. Please use .values.reshape(...) instead\n",
      "  \"\"\"Entry point for launching an IPython kernel.\n"
     ]
    }
   ],
   "source": [
    "mapped_country = mapped_country.reshape(-1, 1) # Needs to be the correct shape"
   ]
  },
  {
   "cell_type": "code",
   "execution_count": 24,
   "metadata": {
    "collapsed": true
   },
   "outputs": [],
   "source": [
    "onehot_encoder = OneHotEncoder(sparse=False)"
   ]
  },
  {
   "cell_type": "code",
   "execution_count": 29,
   "metadata": {},
   "outputs": [
    {
     "data": {
      "text/plain": [
       "array([[ 0.,  0.,  0., ...,  0.,  0.,  0.],\n",
       "       [ 0.,  0.,  0., ...,  0.,  0.,  0.],\n",
       "       [ 0.,  0.,  0., ...,  0.,  0.,  0.],\n",
       "       ..., \n",
       "       [ 0.,  0.,  0., ...,  0.,  0.,  0.],\n",
       "       [ 0.,  0.,  0., ...,  0.,  0.,  0.],\n",
       "       [ 0.,  0.,  0., ...,  0.,  0.,  0.]])"
      ]
     },
     "execution_count": 29,
     "metadata": {},
     "output_type": "execute_result"
    }
   ],
   "source": [
    "onehot_encoder.fit_transform(mapped_country)"
   ]
  },
  {
   "cell_type": "code",
   "execution_count": null,
   "metadata": {
    "collapsed": true
   },
   "outputs": [],
   "source": [
    "onehot_encoder.fit(train['country'])"
   ]
  },
  {
   "cell_type": "code",
   "execution_count": null,
   "metadata": {
    "collapsed": true
   },
   "outputs": [],
   "source": [
    "onehot_encoder.fit_transform(train['atm_address'])"
   ]
  },
  {
   "cell_type": "code",
   "execution_count": null,
   "metadata": {
    "collapsed": true
   },
   "outputs": [],
   "source": [
    "#onehot_encoder.fit_transform(train[categorical_columns])\n",
    "onehot_encoder.fit_transform(train['city'])"
   ]
  },
  {
   "cell_type": "code",
   "execution_count": null,
   "metadata": {
    "collapsed": true
   },
   "outputs": [],
   "source": [
    "encoded_categorical_columns = pd.DataFrame(onehot_encoder.fit_transform(train[categorical_columns]))"
   ]
  },
  {
   "cell_type": "code",
   "execution_count": null,
   "metadata": {
    "collapsed": true
   },
   "outputs": [],
   "source": [
    "encoded_categorical_columns.head()"
   ]
  },
  {
   "cell_type": "code",
   "execution_count": 43,
   "metadata": {
    "collapsed": true
   },
   "outputs": [],
   "source": [
    "train['city'] = train['city'].fillna(value='0')"
   ]
  },
  {
   "cell_type": "code",
   "execution_count": 44,
   "metadata": {
    "collapsed": true
   },
   "outputs": [],
   "source": [
    "mapped_city = pd.Series(label_encoder.fit_transform(train['city']))"
   ]
  },
  {
   "cell_type": "code",
   "execution_count": null,
   "metadata": {
    "collapsed": true
   },
   "outputs": [],
   "source": []
  },
  {
   "cell_type": "code",
   "execution_count": null,
   "metadata": {
    "collapsed": true
   },
   "outputs": [],
   "source": []
  },
  {
   "cell_type": "code",
   "execution_count": null,
   "metadata": {
    "collapsed": true
   },
   "outputs": [],
   "source": []
  }
 ],
 "metadata": {
  "kernelspec": {
   "display_name": "Python 3",
   "language": "python",
   "name": "python3"
  },
  "language_info": {
   "codemirror_mode": {
    "name": "ipython",
    "version": 3
   },
   "file_extension": ".py",
   "mimetype": "text/x-python",
   "name": "python",
   "nbconvert_exporter": "python",
   "pygments_lexer": "ipython3",
   "version": "3.6.3"
  }
 },
 "nbformat": 4,
 "nbformat_minor": 2
}
