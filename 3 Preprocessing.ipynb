{
 "cells": [
  {
   "cell_type": "code",
   "execution_count": 67,
   "metadata": {
    "collapsed": true
   },
   "outputs": [],
   "source": [
    "import numpy as np\n",
    "import pandas as pd\n",
    "import seaborn as sns\n",
    "import lightgbm as lgb\n",
    "%matplotlib inline\n",
    "from time import time\n",
    "\n",
    "from sklearn.model_selection import train_test_split\n",
    "from sklearn.preprocessing import LabelEncoder, OneHotEncoder\n",
    "from sklearn.linear_model import LinearRegression\n",
    "from sklearn.metrics import classification_report, accuracy_score\n",
    "from sklearn.metrics import roc_auc_score, roc_curve, confusion_matrix"
   ]
  },
  {
   "cell_type": "code",
   "execution_count": 31,
   "metadata": {},
   "outputs": [
    {
     "name": "stderr",
     "output_type": "stream",
     "text": [
      "D:\\Miniconda3\\lib\\site-packages\\IPython\\core\\interactiveshell.py:2698: DtypeWarning: Columns (1,11) have mixed types. Specify dtype option on import or set low_memory=False.\n",
      "  interactivity=interactivity, compiler=compiler, result=result)\n",
      "D:\\Miniconda3\\lib\\site-packages\\IPython\\core\\interactiveshell.py:2698: DtypeWarning: Columns (1,8,9) have mixed types. Specify dtype option on import or set low_memory=False.\n",
      "  interactivity=interactivity, compiler=compiler, result=result)\n"
     ]
    }
   ],
   "source": [
    "train = pd.read_csv('data/train_set.csv')\n",
    "test = pd.read_csv('data/test_set.csv')\n",
    "\n",
    "train.rename(columns={ 'pos_adress_lat' : 'pos_address_lat', \n",
    "                       'pos_adress_lon' : 'pos_address_lon'}, inplace=True)"
   ]
  },
  {
   "cell_type": "code",
   "execution_count": 32,
   "metadata": {
    "collapsed": true
   },
   "outputs": [],
   "source": [
    "# Разделение трейна на X и Y\n",
    "X = train.drop(['home_add_lat', 'home_add_lon','work_add_lat', 'work_add_lon'], axis=1)\n",
    "Y = train[['home_add_lat', 'home_add_lon','work_add_lat', 'work_add_lon']]"
   ]
  },
  {
   "cell_type": "code",
   "execution_count": 33,
   "metadata": {},
   "outputs": [
    {
     "data": {
      "text/plain": [
       "(1224734, 14)"
      ]
     },
     "execution_count": 33,
     "metadata": {},
     "output_type": "execute_result"
    }
   ],
   "source": [
    "X.shape"
   ]
  },
  {
   "cell_type": "code",
   "execution_count": 34,
   "metadata": {},
   "outputs": [
    {
     "data": {
      "text/plain": [
       "(1224734, 4)"
      ]
     },
     "execution_count": 34,
     "metadata": {},
     "output_type": "execute_result"
    }
   ],
   "source": [
    "Y.shape"
   ]
  },
  {
   "cell_type": "code",
   "execution_count": 35,
   "metadata": {
    "collapsed": true
   },
   "outputs": [],
   "source": [
    "# Объединение трейна и теста для общего labelencodera и onehotencodera\n",
    "train_test = pd.concat([X, test])"
   ]
  },
  {
   "cell_type": "code",
   "execution_count": 36,
   "metadata": {},
   "outputs": [
    {
     "data": {
      "text/plain": [
       "((1224734, 14), (1265470, 14), 2490204, (2490204, 14))"
      ]
     },
     "execution_count": 36,
     "metadata": {},
     "output_type": "execute_result"
    }
   ],
   "source": [
    "X.shape, test.shape, X.shape[0]+test.shape[0], train_test.shape"
   ]
  },
  {
   "cell_type": "code",
   "execution_count": 37,
   "metadata": {},
   "outputs": [
    {
     "name": "stdout",
     "output_type": "stream",
     "text": [
      "<class 'pandas.core.frame.DataFrame'>\n",
      "RangeIndex: 1224734 entries, 0 to 1224733\n",
      "Data columns (total 18 columns):\n",
      "amount              1224734 non-null float64\n",
      "atm_address         269473 non-null object\n",
      "atm_address_lat     184680 non-null float64\n",
      "atm_address_lon     184680 non-null float64\n",
      "city                1224725 non-null object\n",
      "country             1224734 non-null object\n",
      "currency            1224690 non-null float64\n",
      "customer_id         1224734 non-null object\n",
      "home_add_lat        1224718 non-null float64\n",
      "home_add_lon        1224718 non-null float64\n",
      "mcc                 1224734 non-null int64\n",
      "pos_address         924991 non-null object\n",
      "pos_address_lat     942614 non-null float64\n",
      "pos_address_lon     942614 non-null float64\n",
      "terminal_id         1224705 non-null object\n",
      "transaction_date    1224690 non-null object\n",
      "work_add_lat        664660 non-null float64\n",
      "work_add_lon        664660 non-null float64\n",
      "dtypes: float64(10), int64(1), object(7)\n",
      "memory usage: 168.2+ MB\n"
     ]
    }
   ],
   "source": [
    "train.info()"
   ]
  },
  {
   "cell_type": "code",
   "execution_count": 38,
   "metadata": {},
   "outputs": [
    {
     "name": "stdout",
     "output_type": "stream",
     "text": [
      "<class 'pandas.core.frame.DataFrame'>\n",
      "Int64Index: 2490204 entries, 0 to 1265469\n",
      "Data columns (total 14 columns):\n",
      "amount              float64\n",
      "atm_address         object\n",
      "atm_address_lat     float64\n",
      "atm_address_lon     float64\n",
      "city                object\n",
      "country             object\n",
      "currency            float64\n",
      "customer_id         object\n",
      "mcc                 object\n",
      "pos_address         object\n",
      "pos_address_lat     float64\n",
      "pos_address_lon     float64\n",
      "terminal_id         object\n",
      "transaction_date    object\n",
      "dtypes: float64(6), object(8)\n",
      "memory usage: 285.0+ MB\n"
     ]
    }
   ],
   "source": [
    "#train.info()\n",
    "train_test.info()"
   ]
  },
  {
   "cell_type": "code",
   "execution_count": 43,
   "metadata": {
    "collapsed": true
   },
   "outputs": [],
   "source": [
    "# Категорийные признаки\n",
    "categorical_columns = train.columns[train.dtypes == 'object']"
   ]
  },
  {
   "cell_type": "code",
   "execution_count": 44,
   "metadata": {
    "collapsed": true
   },
   "outputs": [],
   "source": [
    "#train[categorical_columns] = train[categorical_columns].fillna(value = '0')\n",
    "train_test[categorical_columns] = train_test[categorical_columns].fillna(value = '0')"
   ]
  },
  {
   "cell_type": "code",
   "execution_count": 218,
   "metadata": {},
   "outputs": [
    {
     "data": {
      "text/plain": [
       "19997"
      ]
     },
     "execution_count": 218,
     "metadata": {},
     "output_type": "execute_result"
    }
   ],
   "source": [
    "len(train_test['customer_id'].unique())"
   ]
  },
  {
   "cell_type": "code",
   "execution_count": 45,
   "metadata": {},
   "outputs": [],
   "source": [
    "#train.info()"
   ]
  },
  {
   "cell_type": "code",
   "execution_count": 47,
   "metadata": {
    "collapsed": true
   },
   "outputs": [],
   "source": [
    "label_encoder = LabelEncoder()"
   ]
  },
  {
   "cell_type": "code",
   "execution_count": 48,
   "metadata": {
    "collapsed": true
   },
   "outputs": [],
   "source": [
    "for column in categorical_columns:\n",
    "    train_test[column] = label_encoder.fit_transform(train_test[column])"
   ]
  },
  {
   "cell_type": "code",
   "execution_count": 50,
   "metadata": {},
   "outputs": [
    {
     "data": {
      "text/html": [
       "<div>\n",
       "<style>\n",
       "    .dataframe thead tr:only-child th {\n",
       "        text-align: right;\n",
       "    }\n",
       "\n",
       "    .dataframe thead th {\n",
       "        text-align: left;\n",
       "    }\n",
       "\n",
       "    .dataframe tbody tr th {\n",
       "        vertical-align: top;\n",
       "    }\n",
       "</style>\n",
       "<table border=\"1\" class=\"dataframe\">\n",
       "  <thead>\n",
       "    <tr style=\"text-align: right;\">\n",
       "      <th></th>\n",
       "      <th>amount</th>\n",
       "      <th>atm_address</th>\n",
       "      <th>atm_address_lat</th>\n",
       "      <th>atm_address_lon</th>\n",
       "      <th>city</th>\n",
       "      <th>country</th>\n",
       "      <th>currency</th>\n",
       "      <th>customer_id</th>\n",
       "      <th>mcc</th>\n",
       "      <th>pos_address</th>\n",
       "      <th>pos_address_lat</th>\n",
       "      <th>pos_address_lon</th>\n",
       "      <th>terminal_id</th>\n",
       "      <th>transaction_date</th>\n",
       "    </tr>\n",
       "  </thead>\n",
       "  <tbody>\n",
       "    <tr>\n",
       "      <th>0</th>\n",
       "      <td>2.884034</td>\n",
       "      <td>1547</td>\n",
       "      <td>NaN</td>\n",
       "      <td>NaN</td>\n",
       "      <td>7805</td>\n",
       "      <td>129</td>\n",
       "      <td>643.0</td>\n",
       "      <td>1217</td>\n",
       "      <td>5261</td>\n",
       "      <td>2960</td>\n",
       "      <td>59.844072</td>\n",
       "      <td>30.179153</td>\n",
       "      <td>19895</td>\n",
       "      <td>170</td>\n",
       "    </tr>\n",
       "    <tr>\n",
       "      <th>1</th>\n",
       "      <td>2.775633</td>\n",
       "      <td>1547</td>\n",
       "      <td>NaN</td>\n",
       "      <td>NaN</td>\n",
       "      <td>7805</td>\n",
       "      <td>129</td>\n",
       "      <td>643.0</td>\n",
       "      <td>1217</td>\n",
       "      <td>5261</td>\n",
       "      <td>2960</td>\n",
       "      <td>59.844072</td>\n",
       "      <td>30.179153</td>\n",
       "      <td>264575</td>\n",
       "      <td>274</td>\n",
       "    </tr>\n",
       "    <tr>\n",
       "      <th>2</th>\n",
       "      <td>3.708368</td>\n",
       "      <td>1547</td>\n",
       "      <td>NaN</td>\n",
       "      <td>NaN</td>\n",
       "      <td>8179</td>\n",
       "      <td>129</td>\n",
       "      <td>643.0</td>\n",
       "      <td>1217</td>\n",
       "      <td>5992</td>\n",
       "      <td>104740</td>\n",
       "      <td>59.858198</td>\n",
       "      <td>30.229024</td>\n",
       "      <td>252847</td>\n",
       "      <td>250</td>\n",
       "    </tr>\n",
       "    <tr>\n",
       "      <th>3</th>\n",
       "      <td>2.787498</td>\n",
       "      <td>1547</td>\n",
       "      <td>NaN</td>\n",
       "      <td>NaN</td>\n",
       "      <td>7805</td>\n",
       "      <td>129</td>\n",
       "      <td>643.0</td>\n",
       "      <td>1217</td>\n",
       "      <td>5261</td>\n",
       "      <td>2960</td>\n",
       "      <td>59.844072</td>\n",
       "      <td>30.179153</td>\n",
       "      <td>122687</td>\n",
       "      <td>226</td>\n",
       "    </tr>\n",
       "    <tr>\n",
       "      <th>4</th>\n",
       "      <td>2.892510</td>\n",
       "      <td>1547</td>\n",
       "      <td>NaN</td>\n",
       "      <td>NaN</td>\n",
       "      <td>7805</td>\n",
       "      <td>129</td>\n",
       "      <td>643.0</td>\n",
       "      <td>1217</td>\n",
       "      <td>5261</td>\n",
       "      <td>2960</td>\n",
       "      <td>59.844072</td>\n",
       "      <td>30.179153</td>\n",
       "      <td>6310</td>\n",
       "      <td>161</td>\n",
       "    </tr>\n",
       "  </tbody>\n",
       "</table>\n",
       "</div>"
      ],
      "text/plain": [
       "     amount  atm_address  atm_address_lat  atm_address_lon  city  country  \\\n",
       "0  2.884034         1547              NaN              NaN  7805      129   \n",
       "1  2.775633         1547              NaN              NaN  7805      129   \n",
       "2  3.708368         1547              NaN              NaN  8179      129   \n",
       "3  2.787498         1547              NaN              NaN  7805      129   \n",
       "4  2.892510         1547              NaN              NaN  7805      129   \n",
       "\n",
       "   currency  customer_id   mcc  pos_address  pos_address_lat  pos_address_lon  \\\n",
       "0     643.0         1217  5261         2960        59.844072        30.179153   \n",
       "1     643.0         1217  5261         2960        59.844072        30.179153   \n",
       "2     643.0         1217  5992       104740        59.858198        30.229024   \n",
       "3     643.0         1217  5261         2960        59.844072        30.179153   \n",
       "4     643.0         1217  5261         2960        59.844072        30.179153   \n",
       "\n",
       "   terminal_id  transaction_date  \n",
       "0        19895               170  \n",
       "1       264575               274  \n",
       "2       252847               250  \n",
       "3       122687               226  \n",
       "4         6310               161  "
      ]
     },
     "execution_count": 50,
     "metadata": {},
     "output_type": "execute_result"
    }
   ],
   "source": [
    "train_test[:5]"
   ]
  },
  {
   "cell_type": "code",
   "execution_count": 60,
   "metadata": {
    "collapsed": true
   },
   "outputs": [],
   "source": [
    "# Обратное разделение\n",
    "X1 = train_test[:1224734]\n",
    "X_test = train_test[1224734:]"
   ]
  },
  {
   "cell_type": "code",
   "execution_count": 56,
   "metadata": {},
   "outputs": [
    {
     "name": "stdout",
     "output_type": "stream",
     "text": [
      "<class 'pandas.core.frame.DataFrame'>\n",
      "Int64Index: 1224734 entries, 0 to 1224733\n",
      "Data columns (total 14 columns):\n",
      "amount              1224734 non-null float64\n",
      "atm_address         1224734 non-null int64\n",
      "atm_address_lat     184680 non-null float64\n",
      "atm_address_lon     184680 non-null float64\n",
      "city                1224734 non-null int64\n",
      "country             1224734 non-null int64\n",
      "currency            1224690 non-null float64\n",
      "customer_id         1224734 non-null int64\n",
      "mcc                 1224734 non-null object\n",
      "pos_address         1224734 non-null int64\n",
      "pos_address_lat     942614 non-null float64\n",
      "pos_address_lon     942614 non-null float64\n",
      "terminal_id         1224734 non-null int64\n",
      "transaction_date    1224734 non-null int64\n",
      "dtypes: float64(6), int64(7), object(1)\n",
      "memory usage: 140.2+ MB\n"
     ]
    }
   ],
   "source": [
    "X1_train.info()"
   ]
  },
  {
   "cell_type": "code",
   "execution_count": 57,
   "metadata": {},
   "outputs": [
    {
     "name": "stdout",
     "output_type": "stream",
     "text": [
      "<class 'pandas.core.frame.DataFrame'>\n",
      "RangeIndex: 1224734 entries, 0 to 1224733\n",
      "Data columns (total 4 columns):\n",
      "home_add_lat    1224718 non-null float64\n",
      "home_add_lon    1224718 non-null float64\n",
      "work_add_lat    664660 non-null float64\n",
      "work_add_lon    664660 non-null float64\n",
      "dtypes: float64(4)\n",
      "memory usage: 37.4 MB\n"
     ]
    }
   ],
   "source": [
    "Y.info()"
   ]
  },
  {
   "cell_type": "code",
   "execution_count": 58,
   "metadata": {
    "collapsed": true
   },
   "outputs": [],
   "source": [
    "# Замена нулями в Y (возможно не самый лучший вариант)\n",
    "Y = Y.fillna(value=0)"
   ]
  },
  {
   "cell_type": "code",
   "execution_count": 59,
   "metadata": {},
   "outputs": [
    {
     "name": "stdout",
     "output_type": "stream",
     "text": [
      "<class 'pandas.core.frame.DataFrame'>\n",
      "RangeIndex: 1224734 entries, 0 to 1224733\n",
      "Data columns (total 4 columns):\n",
      "home_add_lat    1224734 non-null float64\n",
      "home_add_lon    1224734 non-null float64\n",
      "work_add_lat    1224734 non-null float64\n",
      "work_add_lon    1224734 non-null float64\n",
      "dtypes: float64(4)\n",
      "memory usage: 37.4 MB\n"
     ]
    }
   ],
   "source": [
    "Y.info()"
   ]
  },
  {
   "cell_type": "code",
   "execution_count": 85,
   "metadata": {},
   "outputs": [
    {
     "data": {
      "text/html": [
       "<div>\n",
       "<style>\n",
       "    .dataframe thead tr:only-child th {\n",
       "        text-align: right;\n",
       "    }\n",
       "\n",
       "    .dataframe thead th {\n",
       "        text-align: left;\n",
       "    }\n",
       "\n",
       "    .dataframe tbody tr th {\n",
       "        vertical-align: top;\n",
       "    }\n",
       "</style>\n",
       "<table border=\"1\" class=\"dataframe\">\n",
       "  <thead>\n",
       "    <tr style=\"text-align: right;\">\n",
       "      <th></th>\n",
       "      <th>home_add_lat</th>\n",
       "      <th>home_add_lon</th>\n",
       "      <th>work_add_lat</th>\n",
       "      <th>work_add_lon</th>\n",
       "    </tr>\n",
       "  </thead>\n",
       "  <tbody>\n",
       "    <tr>\n",
       "      <th>0</th>\n",
       "      <td>59.851</td>\n",
       "      <td>30.232</td>\n",
       "      <td>59.847</td>\n",
       "      <td>30.177</td>\n",
       "    </tr>\n",
       "    <tr>\n",
       "      <th>1</th>\n",
       "      <td>59.851</td>\n",
       "      <td>30.232</td>\n",
       "      <td>59.847</td>\n",
       "      <td>30.177</td>\n",
       "    </tr>\n",
       "    <tr>\n",
       "      <th>2</th>\n",
       "      <td>59.851</td>\n",
       "      <td>30.232</td>\n",
       "      <td>59.847</td>\n",
       "      <td>30.177</td>\n",
       "    </tr>\n",
       "    <tr>\n",
       "      <th>3</th>\n",
       "      <td>59.851</td>\n",
       "      <td>30.232</td>\n",
       "      <td>59.847</td>\n",
       "      <td>30.177</td>\n",
       "    </tr>\n",
       "    <tr>\n",
       "      <th>4</th>\n",
       "      <td>59.851</td>\n",
       "      <td>30.232</td>\n",
       "      <td>59.847</td>\n",
       "      <td>30.177</td>\n",
       "    </tr>\n",
       "  </tbody>\n",
       "</table>\n",
       "</div>"
      ],
      "text/plain": [
       "   home_add_lat  home_add_lon  work_add_lat  work_add_lon\n",
       "0        59.851        30.232        59.847        30.177\n",
       "1        59.851        30.232        59.847        30.177\n",
       "2        59.851        30.232        59.847        30.177\n",
       "3        59.851        30.232        59.847        30.177\n",
       "4        59.851        30.232        59.847        30.177"
      ]
     },
     "execution_count": 85,
     "metadata": {},
     "output_type": "execute_result"
    }
   ],
   "source": [
    "Y.head()"
   ]
  },
  {
   "cell_type": "code",
   "execution_count": 76,
   "metadata": {
    "collapsed": true
   },
   "outputs": [],
   "source": [
    "X1 = X1.fillna(value=0)"
   ]
  },
  {
   "cell_type": "code",
   "execution_count": 87,
   "metadata": {},
   "outputs": [
    {
     "data": {
      "text/html": [
       "<div>\n",
       "<style>\n",
       "    .dataframe thead tr:only-child th {\n",
       "        text-align: right;\n",
       "    }\n",
       "\n",
       "    .dataframe thead th {\n",
       "        text-align: left;\n",
       "    }\n",
       "\n",
       "    .dataframe tbody tr th {\n",
       "        vertical-align: top;\n",
       "    }\n",
       "</style>\n",
       "<table border=\"1\" class=\"dataframe\">\n",
       "  <thead>\n",
       "    <tr style=\"text-align: right;\">\n",
       "      <th></th>\n",
       "      <th>amount</th>\n",
       "      <th>atm_address</th>\n",
       "      <th>atm_address_lat</th>\n",
       "      <th>atm_address_lon</th>\n",
       "      <th>city</th>\n",
       "      <th>country</th>\n",
       "      <th>currency</th>\n",
       "      <th>customer_id</th>\n",
       "      <th>mcc</th>\n",
       "      <th>pos_address</th>\n",
       "      <th>pos_address_lat</th>\n",
       "      <th>pos_address_lon</th>\n",
       "      <th>terminal_id</th>\n",
       "      <th>transaction_date</th>\n",
       "    </tr>\n",
       "  </thead>\n",
       "  <tbody>\n",
       "    <tr>\n",
       "      <th>0</th>\n",
       "      <td>2.884034</td>\n",
       "      <td>1547</td>\n",
       "      <td>0.0</td>\n",
       "      <td>0.0</td>\n",
       "      <td>7805</td>\n",
       "      <td>129</td>\n",
       "      <td>643.0</td>\n",
       "      <td>1217</td>\n",
       "      <td>5261</td>\n",
       "      <td>2960</td>\n",
       "      <td>59.844072</td>\n",
       "      <td>30.179153</td>\n",
       "      <td>19895</td>\n",
       "      <td>170</td>\n",
       "    </tr>\n",
       "    <tr>\n",
       "      <th>1</th>\n",
       "      <td>2.775633</td>\n",
       "      <td>1547</td>\n",
       "      <td>0.0</td>\n",
       "      <td>0.0</td>\n",
       "      <td>7805</td>\n",
       "      <td>129</td>\n",
       "      <td>643.0</td>\n",
       "      <td>1217</td>\n",
       "      <td>5261</td>\n",
       "      <td>2960</td>\n",
       "      <td>59.844072</td>\n",
       "      <td>30.179153</td>\n",
       "      <td>264575</td>\n",
       "      <td>274</td>\n",
       "    </tr>\n",
       "    <tr>\n",
       "      <th>2</th>\n",
       "      <td>3.708368</td>\n",
       "      <td>1547</td>\n",
       "      <td>0.0</td>\n",
       "      <td>0.0</td>\n",
       "      <td>8179</td>\n",
       "      <td>129</td>\n",
       "      <td>643.0</td>\n",
       "      <td>1217</td>\n",
       "      <td>5992</td>\n",
       "      <td>104740</td>\n",
       "      <td>59.858198</td>\n",
       "      <td>30.229024</td>\n",
       "      <td>252847</td>\n",
       "      <td>250</td>\n",
       "    </tr>\n",
       "    <tr>\n",
       "      <th>3</th>\n",
       "      <td>2.787498</td>\n",
       "      <td>1547</td>\n",
       "      <td>0.0</td>\n",
       "      <td>0.0</td>\n",
       "      <td>7805</td>\n",
       "      <td>129</td>\n",
       "      <td>643.0</td>\n",
       "      <td>1217</td>\n",
       "      <td>5261</td>\n",
       "      <td>2960</td>\n",
       "      <td>59.844072</td>\n",
       "      <td>30.179153</td>\n",
       "      <td>122687</td>\n",
       "      <td>226</td>\n",
       "    </tr>\n",
       "    <tr>\n",
       "      <th>4</th>\n",
       "      <td>2.892510</td>\n",
       "      <td>1547</td>\n",
       "      <td>0.0</td>\n",
       "      <td>0.0</td>\n",
       "      <td>7805</td>\n",
       "      <td>129</td>\n",
       "      <td>643.0</td>\n",
       "      <td>1217</td>\n",
       "      <td>5261</td>\n",
       "      <td>2960</td>\n",
       "      <td>59.844072</td>\n",
       "      <td>30.179153</td>\n",
       "      <td>6310</td>\n",
       "      <td>161</td>\n",
       "    </tr>\n",
       "  </tbody>\n",
       "</table>\n",
       "</div>"
      ],
      "text/plain": [
       "     amount  atm_address  atm_address_lat  atm_address_lon  city  country  \\\n",
       "0  2.884034         1547              0.0              0.0  7805      129   \n",
       "1  2.775633         1547              0.0              0.0  7805      129   \n",
       "2  3.708368         1547              0.0              0.0  8179      129   \n",
       "3  2.787498         1547              0.0              0.0  7805      129   \n",
       "4  2.892510         1547              0.0              0.0  7805      129   \n",
       "\n",
       "   currency  customer_id   mcc  pos_address  pos_address_lat  pos_address_lon  \\\n",
       "0     643.0         1217  5261         2960        59.844072        30.179153   \n",
       "1     643.0         1217  5261         2960        59.844072        30.179153   \n",
       "2     643.0         1217  5992       104740        59.858198        30.229024   \n",
       "3     643.0         1217  5261         2960        59.844072        30.179153   \n",
       "4     643.0         1217  5261         2960        59.844072        30.179153   \n",
       "\n",
       "   terminal_id  transaction_date  \n",
       "0        19895               170  \n",
       "1       264575               274  \n",
       "2       252847               250  \n",
       "3       122687               226  \n",
       "4         6310               161  "
      ]
     },
     "execution_count": 87,
     "metadata": {},
     "output_type": "execute_result"
    }
   ],
   "source": [
    "X1.head()"
   ]
  },
  {
   "cell_type": "code",
   "execution_count": 88,
   "metadata": {
    "collapsed": true
   },
   "outputs": [],
   "source": [
    "train_test_split?"
   ]
  },
  {
   "cell_type": "code",
   "execution_count": 90,
   "metadata": {
    "collapsed": true
   },
   "outputs": [],
   "source": [
    "# Разделение на трейн и валидацию\n",
    "X_train, X_valid, Y_train, Y_valid = train_test_split(X1, Y, test_size=0.2, random_state=42, shuffle=False)"
   ]
  },
  {
   "cell_type": "code",
   "execution_count": 91,
   "metadata": {},
   "outputs": [
    {
     "data": {
      "text/html": [
       "<div>\n",
       "<style>\n",
       "    .dataframe thead tr:only-child th {\n",
       "        text-align: right;\n",
       "    }\n",
       "\n",
       "    .dataframe thead th {\n",
       "        text-align: left;\n",
       "    }\n",
       "\n",
       "    .dataframe tbody tr th {\n",
       "        vertical-align: top;\n",
       "    }\n",
       "</style>\n",
       "<table border=\"1\" class=\"dataframe\">\n",
       "  <thead>\n",
       "    <tr style=\"text-align: right;\">\n",
       "      <th></th>\n",
       "      <th>amount</th>\n",
       "      <th>atm_address</th>\n",
       "      <th>atm_address_lat</th>\n",
       "      <th>atm_address_lon</th>\n",
       "      <th>city</th>\n",
       "      <th>country</th>\n",
       "      <th>currency</th>\n",
       "      <th>customer_id</th>\n",
       "      <th>mcc</th>\n",
       "      <th>pos_address</th>\n",
       "      <th>pos_address_lat</th>\n",
       "      <th>pos_address_lon</th>\n",
       "      <th>terminal_id</th>\n",
       "      <th>transaction_date</th>\n",
       "    </tr>\n",
       "  </thead>\n",
       "  <tbody>\n",
       "    <tr>\n",
       "      <th>0</th>\n",
       "      <td>2.884034</td>\n",
       "      <td>1547</td>\n",
       "      <td>0.0</td>\n",
       "      <td>0.0</td>\n",
       "      <td>7805</td>\n",
       "      <td>129</td>\n",
       "      <td>643.0</td>\n",
       "      <td>1217</td>\n",
       "      <td>5261</td>\n",
       "      <td>2960</td>\n",
       "      <td>59.844072</td>\n",
       "      <td>30.179153</td>\n",
       "      <td>19895</td>\n",
       "      <td>170</td>\n",
       "    </tr>\n",
       "    <tr>\n",
       "      <th>1</th>\n",
       "      <td>2.775633</td>\n",
       "      <td>1547</td>\n",
       "      <td>0.0</td>\n",
       "      <td>0.0</td>\n",
       "      <td>7805</td>\n",
       "      <td>129</td>\n",
       "      <td>643.0</td>\n",
       "      <td>1217</td>\n",
       "      <td>5261</td>\n",
       "      <td>2960</td>\n",
       "      <td>59.844072</td>\n",
       "      <td>30.179153</td>\n",
       "      <td>264575</td>\n",
       "      <td>274</td>\n",
       "    </tr>\n",
       "    <tr>\n",
       "      <th>2</th>\n",
       "      <td>3.708368</td>\n",
       "      <td>1547</td>\n",
       "      <td>0.0</td>\n",
       "      <td>0.0</td>\n",
       "      <td>8179</td>\n",
       "      <td>129</td>\n",
       "      <td>643.0</td>\n",
       "      <td>1217</td>\n",
       "      <td>5992</td>\n",
       "      <td>104740</td>\n",
       "      <td>59.858198</td>\n",
       "      <td>30.229024</td>\n",
       "      <td>252847</td>\n",
       "      <td>250</td>\n",
       "    </tr>\n",
       "    <tr>\n",
       "      <th>3</th>\n",
       "      <td>2.787498</td>\n",
       "      <td>1547</td>\n",
       "      <td>0.0</td>\n",
       "      <td>0.0</td>\n",
       "      <td>7805</td>\n",
       "      <td>129</td>\n",
       "      <td>643.0</td>\n",
       "      <td>1217</td>\n",
       "      <td>5261</td>\n",
       "      <td>2960</td>\n",
       "      <td>59.844072</td>\n",
       "      <td>30.179153</td>\n",
       "      <td>122687</td>\n",
       "      <td>226</td>\n",
       "    </tr>\n",
       "    <tr>\n",
       "      <th>4</th>\n",
       "      <td>2.892510</td>\n",
       "      <td>1547</td>\n",
       "      <td>0.0</td>\n",
       "      <td>0.0</td>\n",
       "      <td>7805</td>\n",
       "      <td>129</td>\n",
       "      <td>643.0</td>\n",
       "      <td>1217</td>\n",
       "      <td>5261</td>\n",
       "      <td>2960</td>\n",
       "      <td>59.844072</td>\n",
       "      <td>30.179153</td>\n",
       "      <td>6310</td>\n",
       "      <td>161</td>\n",
       "    </tr>\n",
       "  </tbody>\n",
       "</table>\n",
       "</div>"
      ],
      "text/plain": [
       "     amount  atm_address  atm_address_lat  atm_address_lon  city  country  \\\n",
       "0  2.884034         1547              0.0              0.0  7805      129   \n",
       "1  2.775633         1547              0.0              0.0  7805      129   \n",
       "2  3.708368         1547              0.0              0.0  8179      129   \n",
       "3  2.787498         1547              0.0              0.0  7805      129   \n",
       "4  2.892510         1547              0.0              0.0  7805      129   \n",
       "\n",
       "   currency  customer_id   mcc  pos_address  pos_address_lat  pos_address_lon  \\\n",
       "0     643.0         1217  5261         2960        59.844072        30.179153   \n",
       "1     643.0         1217  5261         2960        59.844072        30.179153   \n",
       "2     643.0         1217  5992       104740        59.858198        30.229024   \n",
       "3     643.0         1217  5261         2960        59.844072        30.179153   \n",
       "4     643.0         1217  5261         2960        59.844072        30.179153   \n",
       "\n",
       "   terminal_id  transaction_date  \n",
       "0        19895               170  \n",
       "1       264575               274  \n",
       "2       252847               250  \n",
       "3       122687               226  \n",
       "4         6310               161  "
      ]
     },
     "execution_count": 91,
     "metadata": {},
     "output_type": "execute_result"
    }
   ],
   "source": [
    "X_train.head()"
   ]
  },
  {
   "cell_type": "code",
   "execution_count": 92,
   "metadata": {},
   "outputs": [
    {
     "data": {
      "text/html": [
       "<div>\n",
       "<style>\n",
       "    .dataframe thead tr:only-child th {\n",
       "        text-align: right;\n",
       "    }\n",
       "\n",
       "    .dataframe thead th {\n",
       "        text-align: left;\n",
       "    }\n",
       "\n",
       "    .dataframe tbody tr th {\n",
       "        vertical-align: top;\n",
       "    }\n",
       "</style>\n",
       "<table border=\"1\" class=\"dataframe\">\n",
       "  <thead>\n",
       "    <tr style=\"text-align: right;\">\n",
       "      <th></th>\n",
       "      <th>home_add_lat</th>\n",
       "      <th>home_add_lon</th>\n",
       "      <th>work_add_lat</th>\n",
       "      <th>work_add_lon</th>\n",
       "    </tr>\n",
       "  </thead>\n",
       "  <tbody>\n",
       "    <tr>\n",
       "      <th>0</th>\n",
       "      <td>59.851</td>\n",
       "      <td>30.232</td>\n",
       "      <td>59.847</td>\n",
       "      <td>30.177</td>\n",
       "    </tr>\n",
       "    <tr>\n",
       "      <th>1</th>\n",
       "      <td>59.851</td>\n",
       "      <td>30.232</td>\n",
       "      <td>59.847</td>\n",
       "      <td>30.177</td>\n",
       "    </tr>\n",
       "    <tr>\n",
       "      <th>2</th>\n",
       "      <td>59.851</td>\n",
       "      <td>30.232</td>\n",
       "      <td>59.847</td>\n",
       "      <td>30.177</td>\n",
       "    </tr>\n",
       "    <tr>\n",
       "      <th>3</th>\n",
       "      <td>59.851</td>\n",
       "      <td>30.232</td>\n",
       "      <td>59.847</td>\n",
       "      <td>30.177</td>\n",
       "    </tr>\n",
       "    <tr>\n",
       "      <th>4</th>\n",
       "      <td>59.851</td>\n",
       "      <td>30.232</td>\n",
       "      <td>59.847</td>\n",
       "      <td>30.177</td>\n",
       "    </tr>\n",
       "  </tbody>\n",
       "</table>\n",
       "</div>"
      ],
      "text/plain": [
       "   home_add_lat  home_add_lon  work_add_lat  work_add_lon\n",
       "0        59.851        30.232        59.847        30.177\n",
       "1        59.851        30.232        59.847        30.177\n",
       "2        59.851        30.232        59.847        30.177\n",
       "3        59.851        30.232        59.847        30.177\n",
       "4        59.851        30.232        59.847        30.177"
      ]
     },
     "execution_count": 92,
     "metadata": {},
     "output_type": "execute_result"
    }
   ],
   "source": [
    "Y_train.head()"
   ]
  },
  {
   "cell_type": "code",
   "execution_count": 93,
   "metadata": {
    "collapsed": true
   },
   "outputs": [],
   "source": [
    "Y_home_lat_train, Y_home_lat_valid = Y_train['home_add_lat'], Y_valid['home_add_lat']\n",
    "Y_home_lon_train, Y_home_lon_valid = Y_train['home_add_lon'], Y_valid['home_add_lon']\n",
    "Y_work_lat_train, Y_work_lat_valid = Y_train['work_add_lat'], Y_valid['work_add_lat']\n",
    "Y_work_lon_train, Y_work_lon_valid = Y_train['work_add_lon'], Y_valid['work_add_lon']"
   ]
  },
  {
   "cell_type": "code",
   "execution_count": 126,
   "metadata": {},
   "outputs": [
    {
     "name": "stdout",
     "output_type": "stream",
     "text": [
      "-1.98134494053\n"
     ]
    }
   ],
   "source": [
    "reg1 = LinearRegression(normalize=True,n_jobs=-1)\n",
    "reg1.fit(X_train, Y_home_lat_train)\n",
    "score1 = reg1.score(X_valid, Y_home_lat_valid)\n",
    "print(score1)"
   ]
  },
  {
   "cell_type": "code",
   "execution_count": 123,
   "metadata": {},
   "outputs": [
    {
     "name": "stdout",
     "output_type": "stream",
     "text": [
      "0.348945759295\n"
     ]
    }
   ],
   "source": [
    "reg2 = LinearRegression(normalize=True,n_jobs=-1)\n",
    "reg2.fit(X_train, Y_home_lon_train)\n",
    "score2 = reg2.score(X_valid, Y_home_lon_valid)\n",
    "print(score2)"
   ]
  },
  {
   "cell_type": "code",
   "execution_count": 124,
   "metadata": {},
   "outputs": [
    {
     "name": "stdout",
     "output_type": "stream",
     "text": [
      "-0.0243447397005\n"
     ]
    }
   ],
   "source": [
    "reg3 = LinearRegression(normalize=True,n_jobs=-1)\n",
    "reg3.fit(X_train, Y_work_lat_train)\n",
    "score3 = reg3.score(X_valid, Y_work_lat_valid)\n",
    "print(score3)"
   ]
  },
  {
   "cell_type": "code",
   "execution_count": 125,
   "metadata": {},
   "outputs": [
    {
     "name": "stdout",
     "output_type": "stream",
     "text": [
      "0.0206550859736\n"
     ]
    }
   ],
   "source": [
    "reg4 = LinearRegression(normalize=True,n_jobs=-1)\n",
    "reg4.fit(X_train, Y_work_lon_train)\n",
    "score4 = reg4.score(X_valid, Y_work_lon_valid)\n",
    "print(score4)"
   ]
  },
  {
   "cell_type": "code",
   "execution_count": 140,
   "metadata": {},
   "outputs": [],
   "source": [
    "X_test = X_test.fillna(value=0)"
   ]
  },
  {
   "cell_type": "code",
   "execution_count": 141,
   "metadata": {},
   "outputs": [
    {
     "name": "stdout",
     "output_type": "stream",
     "text": [
      "<class 'pandas.core.frame.DataFrame'>\n",
      "Int64Index: 1265470 entries, 0 to 1265469\n",
      "Data columns (total 14 columns):\n",
      "amount              1265470 non-null float64\n",
      "atm_address         1265470 non-null int64\n",
      "atm_address_lat     1265470 non-null float64\n",
      "atm_address_lon     1265470 non-null float64\n",
      "city                1265470 non-null int64\n",
      "country             1265470 non-null int64\n",
      "currency            1265470 non-null float64\n",
      "customer_id         1265470 non-null int64\n",
      "mcc                 1265470 non-null float64\n",
      "pos_address         1265470 non-null int64\n",
      "pos_address_lat     1265470 non-null float64\n",
      "pos_address_lon     1265470 non-null float64\n",
      "terminal_id         1265470 non-null int64\n",
      "transaction_date    1265470 non-null int64\n",
      "dtypes: float64(7), int64(7)\n",
      "memory usage: 184.8 MB\n"
     ]
    }
   ],
   "source": [
    "X_test.info()"
   ]
  },
  {
   "cell_type": "code",
   "execution_count": 133,
   "metadata": {
    "collapsed": true
   },
   "outputs": [],
   "source": [
    "X_test['mcc'] = X_test['mcc'].str.replace(\",\",\"\").astype(float)"
   ]
  },
  {
   "cell_type": "code",
   "execution_count": 134,
   "metadata": {},
   "outputs": [
    {
     "data": {
      "text/plain": [
       "0    5411.0\n",
       "1    4111.0\n",
       "2    5411.0\n",
       "3    5411.0\n",
       "4    5814.0\n",
       "Name: mcc, dtype: float64"
      ]
     },
     "execution_count": 134,
     "metadata": {},
     "output_type": "execute_result"
    }
   ],
   "source": [
    "X_test['mcc'].head()"
   ]
  },
  {
   "cell_type": "code",
   "execution_count": 136,
   "metadata": {
    "collapsed": true
   },
   "outputs": [],
   "source": [
    "pred = reg1.predict(X_train)"
   ]
  },
  {
   "cell_type": "code",
   "execution_count": 137,
   "metadata": {},
   "outputs": [
    {
     "data": {
      "text/plain": [
       "0.31226662753812839"
      ]
     },
     "execution_count": 137,
     "metadata": {},
     "output_type": "execute_result"
    }
   ],
   "source": [
    "reg1.score(X_train, Y_home_lat_train)"
   ]
  },
  {
   "cell_type": "code",
   "execution_count": null,
   "metadata": {
    "collapsed": true
   },
   "outputs": [],
   "source": [
    "X_test = X_test."
   ]
  },
  {
   "cell_type": "code",
   "execution_count": 143,
   "metadata": {},
   "outputs": [],
   "source": [
    "pred1 = reg1.predict(X_test)\n",
    "pred2 = reg2.predict(X_test)\n",
    "pred3 = reg3.predict(X_test)\n",
    "pred4 = reg4.predict(X_test)"
   ]
  },
  {
   "cell_type": "code",
   "execution_count": 144,
   "metadata": {},
   "outputs": [
    {
     "data": {
      "text/plain": [
       "array([ 55.57804735,  55.23114428,  56.75879042, ...,  41.09804458,\n",
       "        50.6109604 ,  49.59304147])"
      ]
     },
     "execution_count": 144,
     "metadata": {},
     "output_type": "execute_result"
    }
   ],
   "source": [
    "pred1"
   ]
  },
  {
   "cell_type": "code",
   "execution_count": 152,
   "metadata": {},
   "outputs": [],
   "source": [
    "pred1 = np.round(pred1, 3)    # home_lat\n",
    "pred2 = np.round(pred2, 3)    # home_lon\n",
    "pred3 = np.round(pred3, 3)    # work_lat\n",
    "pred4 = np.round(pred4, 3)    # work_lon"
   ]
  },
  {
   "cell_type": "code",
   "execution_count": 217,
   "metadata": {},
   "outputs": [
    {
     "data": {
      "text/plain": [
       "array([ 55.578,  55.231,  56.759, ...,  41.098,  50.611,  49.593])"
      ]
     },
     "execution_count": 217,
     "metadata": {},
     "output_type": "execute_result"
    }
   ],
   "source": [
    "pred1"
   ]
  },
  {
   "cell_type": "code",
   "execution_count": 145,
   "metadata": {},
   "outputs": [
    {
     "data": {
      "text/html": [
       "<div>\n",
       "<style>\n",
       "    .dataframe thead tr:only-child th {\n",
       "        text-align: right;\n",
       "    }\n",
       "\n",
       "    .dataframe thead th {\n",
       "        text-align: left;\n",
       "    }\n",
       "\n",
       "    .dataframe tbody tr th {\n",
       "        vertical-align: top;\n",
       "    }\n",
       "</style>\n",
       "<table border=\"1\" class=\"dataframe\">\n",
       "  <thead>\n",
       "    <tr style=\"text-align: right;\">\n",
       "      <th></th>\n",
       "      <th>home_add_lat</th>\n",
       "      <th>home_add_lon</th>\n",
       "      <th>work_add_lat</th>\n",
       "      <th>work_add_lon</th>\n",
       "    </tr>\n",
       "  </thead>\n",
       "  <tbody>\n",
       "    <tr>\n",
       "      <th>0</th>\n",
       "      <td>59.851</td>\n",
       "      <td>30.232</td>\n",
       "      <td>59.847</td>\n",
       "      <td>30.177</td>\n",
       "    </tr>\n",
       "    <tr>\n",
       "      <th>1</th>\n",
       "      <td>59.851</td>\n",
       "      <td>30.232</td>\n",
       "      <td>59.847</td>\n",
       "      <td>30.177</td>\n",
       "    </tr>\n",
       "    <tr>\n",
       "      <th>2</th>\n",
       "      <td>59.851</td>\n",
       "      <td>30.232</td>\n",
       "      <td>59.847</td>\n",
       "      <td>30.177</td>\n",
       "    </tr>\n",
       "    <tr>\n",
       "      <th>3</th>\n",
       "      <td>59.851</td>\n",
       "      <td>30.232</td>\n",
       "      <td>59.847</td>\n",
       "      <td>30.177</td>\n",
       "    </tr>\n",
       "    <tr>\n",
       "      <th>4</th>\n",
       "      <td>59.851</td>\n",
       "      <td>30.232</td>\n",
       "      <td>59.847</td>\n",
       "      <td>30.177</td>\n",
       "    </tr>\n",
       "  </tbody>\n",
       "</table>\n",
       "</div>"
      ],
      "text/plain": [
       "   home_add_lat  home_add_lon  work_add_lat  work_add_lon\n",
       "0        59.851        30.232        59.847        30.177\n",
       "1        59.851        30.232        59.847        30.177\n",
       "2        59.851        30.232        59.847        30.177\n",
       "3        59.851        30.232        59.847        30.177\n",
       "4        59.851        30.232        59.847        30.177"
      ]
     },
     "execution_count": 145,
     "metadata": {},
     "output_type": "execute_result"
    }
   ],
   "source": [
    "Y_train.head()"
   ]
  },
  {
   "cell_type": "code",
   "execution_count": 177,
   "metadata": {
    "collapsed": true
   },
   "outputs": [],
   "source": [
    "submit = pd.concat([pd.Series(pred3, index=test['customer_id']), \n",
    "                    pd.Series(pred4, index=test['customer_id']),\n",
    "                    pd.Series(pred1, index=test['customer_id']), \n",
    "                    pd.Series(pred2, index=test['customer_id'])],axis=1)"
   ]
  },
  {
   "cell_type": "code",
   "execution_count": 178,
   "metadata": {},
   "outputs": [
    {
     "data": {
      "text/html": [
       "<div>\n",
       "<style>\n",
       "    .dataframe thead tr:only-child th {\n",
       "        text-align: right;\n",
       "    }\n",
       "\n",
       "    .dataframe thead th {\n",
       "        text-align: left;\n",
       "    }\n",
       "\n",
       "    .dataframe tbody tr th {\n",
       "        vertical-align: top;\n",
       "    }\n",
       "</style>\n",
       "<table border=\"1\" class=\"dataframe\">\n",
       "  <thead>\n",
       "    <tr style=\"text-align: right;\">\n",
       "      <th></th>\n",
       "      <th>0</th>\n",
       "      <th>1</th>\n",
       "      <th>2</th>\n",
       "      <th>3</th>\n",
       "    </tr>\n",
       "    <tr>\n",
       "      <th>customer_id</th>\n",
       "      <th></th>\n",
       "      <th></th>\n",
       "      <th></th>\n",
       "      <th></th>\n",
       "    </tr>\n",
       "  </thead>\n",
       "  <tbody>\n",
       "    <tr>\n",
       "      <th>00fd410f5c580c8351cafa88d82b60f3</th>\n",
       "      <td>29.359</td>\n",
       "      <td>20.859</td>\n",
       "      <td>55.578</td>\n",
       "      <td>38.919</td>\n",
       "    </tr>\n",
       "    <tr>\n",
       "      <th>00fd410f5c580c8351cafa88d82b60f3</th>\n",
       "      <td>26.581</td>\n",
       "      <td>18.883</td>\n",
       "      <td>55.231</td>\n",
       "      <td>38.349</td>\n",
       "    </tr>\n",
       "    <tr>\n",
       "      <th>00fd410f5c580c8351cafa88d82b60f3</th>\n",
       "      <td>31.584</td>\n",
       "      <td>21.395</td>\n",
       "      <td>56.759</td>\n",
       "      <td>38.597</td>\n",
       "    </tr>\n",
       "    <tr>\n",
       "      <th>00fd410f5c580c8351cafa88d82b60f3</th>\n",
       "      <td>29.313</td>\n",
       "      <td>20.811</td>\n",
       "      <td>55.576</td>\n",
       "      <td>38.862</td>\n",
       "    </tr>\n",
       "    <tr>\n",
       "      <th>00fd410f5c580c8351cafa88d82b60f3</th>\n",
       "      <td>28.442</td>\n",
       "      <td>19.730</td>\n",
       "      <td>55.978</td>\n",
       "      <td>38.588</td>\n",
       "    </tr>\n",
       "  </tbody>\n",
       "</table>\n",
       "</div>"
      ],
      "text/plain": [
       "                                       0       1       2       3\n",
       "customer_id                                                     \n",
       "00fd410f5c580c8351cafa88d82b60f3  29.359  20.859  55.578  38.919\n",
       "00fd410f5c580c8351cafa88d82b60f3  26.581  18.883  55.231  38.349\n",
       "00fd410f5c580c8351cafa88d82b60f3  31.584  21.395  56.759  38.597\n",
       "00fd410f5c580c8351cafa88d82b60f3  29.313  20.811  55.576  38.862\n",
       "00fd410f5c580c8351cafa88d82b60f3  28.442  19.730  55.978  38.588"
      ]
     },
     "execution_count": 178,
     "metadata": {},
     "output_type": "execute_result"
    }
   ],
   "source": [
    "submit.head()"
   ]
  },
  {
   "cell_type": "code",
   "execution_count": 179,
   "metadata": {},
   "outputs": [
    {
     "data": {
      "text/html": [
       "<div>\n",
       "<style>\n",
       "    .dataframe thead tr:only-child th {\n",
       "        text-align: right;\n",
       "    }\n",
       "\n",
       "    .dataframe thead th {\n",
       "        text-align: left;\n",
       "    }\n",
       "\n",
       "    .dataframe tbody tr th {\n",
       "        vertical-align: top;\n",
       "    }\n",
       "</style>\n",
       "<table border=\"1\" class=\"dataframe\">\n",
       "  <thead>\n",
       "    <tr style=\"text-align: right;\">\n",
       "      <th></th>\n",
       "      <th>work_add_lat</th>\n",
       "      <th>work_add_lon</th>\n",
       "      <th>home_add_lat</th>\n",
       "      <th>home_add_lon</th>\n",
       "    </tr>\n",
       "    <tr>\n",
       "      <th>customer_id</th>\n",
       "      <th></th>\n",
       "      <th></th>\n",
       "      <th></th>\n",
       "      <th></th>\n",
       "    </tr>\n",
       "  </thead>\n",
       "  <tbody>\n",
       "    <tr>\n",
       "      <th>00fd410f5c580c8351cafa88d82b60f3</th>\n",
       "      <td>29.359</td>\n",
       "      <td>20.859</td>\n",
       "      <td>55.578</td>\n",
       "      <td>38.919</td>\n",
       "    </tr>\n",
       "    <tr>\n",
       "      <th>00fd410f5c580c8351cafa88d82b60f3</th>\n",
       "      <td>26.581</td>\n",
       "      <td>18.883</td>\n",
       "      <td>55.231</td>\n",
       "      <td>38.349</td>\n",
       "    </tr>\n",
       "    <tr>\n",
       "      <th>00fd410f5c580c8351cafa88d82b60f3</th>\n",
       "      <td>31.584</td>\n",
       "      <td>21.395</td>\n",
       "      <td>56.759</td>\n",
       "      <td>38.597</td>\n",
       "    </tr>\n",
       "    <tr>\n",
       "      <th>00fd410f5c580c8351cafa88d82b60f3</th>\n",
       "      <td>29.313</td>\n",
       "      <td>20.811</td>\n",
       "      <td>55.576</td>\n",
       "      <td>38.862</td>\n",
       "    </tr>\n",
       "    <tr>\n",
       "      <th>00fd410f5c580c8351cafa88d82b60f3</th>\n",
       "      <td>28.442</td>\n",
       "      <td>19.730</td>\n",
       "      <td>55.978</td>\n",
       "      <td>38.588</td>\n",
       "    </tr>\n",
       "  </tbody>\n",
       "</table>\n",
       "</div>"
      ],
      "text/plain": [
       "                                  work_add_lat  work_add_lon  home_add_lat  \\\n",
       "customer_id                                                                  \n",
       "00fd410f5c580c8351cafa88d82b60f3        29.359        20.859        55.578   \n",
       "00fd410f5c580c8351cafa88d82b60f3        26.581        18.883        55.231   \n",
       "00fd410f5c580c8351cafa88d82b60f3        31.584        21.395        56.759   \n",
       "00fd410f5c580c8351cafa88d82b60f3        29.313        20.811        55.576   \n",
       "00fd410f5c580c8351cafa88d82b60f3        28.442        19.730        55.978   \n",
       "\n",
       "                                  home_add_lon  \n",
       "customer_id                                     \n",
       "00fd410f5c580c8351cafa88d82b60f3        38.919  \n",
       "00fd410f5c580c8351cafa88d82b60f3        38.349  \n",
       "00fd410f5c580c8351cafa88d82b60f3        38.597  \n",
       "00fd410f5c580c8351cafa88d82b60f3        38.862  \n",
       "00fd410f5c580c8351cafa88d82b60f3        38.588  "
      ]
     },
     "execution_count": 179,
     "metadata": {},
     "output_type": "execute_result"
    }
   ],
   "source": [
    "submit.columns = ['work_add_lat','work_add_lon','home_add_lat','home_add_lon']\n",
    "submit.head()"
   ]
  },
  {
   "cell_type": "code",
   "execution_count": 175,
   "metadata": {
    "collapsed": true
   },
   "outputs": [],
   "source": [
    "submit.index?"
   ]
  },
  {
   "cell_type": "code",
   "execution_count": 180,
   "metadata": {
    "collapsed": true
   },
   "outputs": [],
   "source": [
    "submit.to_csv('submit1.csv')"
   ]
  },
  {
   "cell_type": "code",
   "execution_count": 182,
   "metadata": {},
   "outputs": [
    {
     "data": {
      "text/plain": [
       "9997"
      ]
     },
     "execution_count": 182,
     "metadata": {},
     "output_type": "execute_result"
    }
   ],
   "source": [
    "len(test['customer_id'].unique())"
   ]
  },
  {
   "cell_type": "code",
   "execution_count": 190,
   "metadata": {},
   "outputs": [
    {
     "data": {
      "text/plain": [
       "Index(['00fd410f5c580c8351cafa88d82b60f3', '00fd410f5c580c8351cafa88d82b60f3',\n",
       "       '00fd410f5c580c8351cafa88d82b60f3', '00fd410f5c580c8351cafa88d82b60f3',\n",
       "       '00fd410f5c580c8351cafa88d82b60f3', '00fd410f5c580c8351cafa88d82b60f3',\n",
       "       '00fd410f5c580c8351cafa88d82b60f3', '00fd410f5c580c8351cafa88d82b60f3',\n",
       "       '00fd410f5c580c8351cafa88d82b60f3', '00fd410f5c580c8351cafa88d82b60f3',\n",
       "       ...\n",
       "       '3504d15e1000658c22db9e974956fd26', '3504d15e1000658c22db9e974956fd26',\n",
       "       '159673c2adc0b2be66aa48e9f80f738a', '159673c2adc0b2be66aa48e9f80f738a',\n",
       "       '159673c2adc0b2be66aa48e9f80f738a', '159673c2adc0b2be66aa48e9f80f738a',\n",
       "       '9c3bb46e374df29c69b44a19cdbf929b', '90309ee8223cddc27349e9f32eb8ad1e',\n",
       "       '3696f3e678c786b53f8aecd9e1a7b647', '213e6bbf6548701df2a23762c92da044'],\n",
       "      dtype='object', name='customer_id', length=1265470)"
      ]
     },
     "execution_count": 190,
     "metadata": {},
     "output_type": "execute_result"
    }
   ],
   "source": [
    "submit.index"
   ]
  },
  {
   "cell_type": "code",
   "execution_count": 184,
   "metadata": {},
   "outputs": [
    {
     "ename": "AttributeError",
     "evalue": "'DataFrameGroupBy' object has no attribute 'count_values'",
     "output_type": "error",
     "traceback": [
      "\u001b[1;31m---------------------------------------------------------------------------\u001b[0m",
      "\u001b[1;31mAttributeError\u001b[0m                            Traceback (most recent call last)",
      "\u001b[1;32m<ipython-input-184-dc37bbe42174>\u001b[0m in \u001b[0;36m<module>\u001b[1;34m()\u001b[0m\n\u001b[1;32m----> 1\u001b[1;33m \u001b[0msubmit\u001b[0m\u001b[1;33m.\u001b[0m\u001b[0mgroupby\u001b[0m\u001b[1;33m(\u001b[0m\u001b[1;34m'customer_id'\u001b[0m\u001b[1;33m)\u001b[0m\u001b[1;33m.\u001b[0m\u001b[0mcount_values\u001b[0m\u001b[1;33m(\u001b[0m\u001b[1;33m)\u001b[0m\u001b[1;33m\u001b[0m\u001b[0m\n\u001b[0m",
      "\u001b[1;32mD:\\Miniconda3\\lib\\site-packages\\pandas\\core\\groupby.py\u001b[0m in \u001b[0;36m__getattr__\u001b[1;34m(self, attr)\u001b[0m\n\u001b[0;32m    549\u001b[0m \u001b[1;33m\u001b[0m\u001b[0m\n\u001b[0;32m    550\u001b[0m         raise AttributeError(\"%r object has no attribute %r\" %\n\u001b[1;32m--> 551\u001b[1;33m                              (type(self).__name__, attr))\n\u001b[0m\u001b[0;32m    552\u001b[0m \u001b[1;33m\u001b[0m\u001b[0m\n\u001b[0;32m    553\u001b[0m     \u001b[0mplot\u001b[0m \u001b[1;33m=\u001b[0m \u001b[0mproperty\u001b[0m\u001b[1;33m(\u001b[0m\u001b[0mGroupByPlot\u001b[0m\u001b[1;33m)\u001b[0m\u001b[1;33m\u001b[0m\u001b[0m\n",
      "\u001b[1;31mAttributeError\u001b[0m: 'DataFrameGroupBy' object has no attribute 'count_values'"
     ]
    }
   ],
   "source": [
    "submit.groupby('customer_id').count_values()"
   ]
  },
  {
   "cell_type": "code",
   "execution_count": 191,
   "metadata": {
    "collapsed": true
   },
   "outputs": [],
   "source": [
    "sample = pd.read_csv('sample.csv')"
   ]
  },
  {
   "cell_type": "code",
   "execution_count": 192,
   "metadata": {
    "scrolled": true
   },
   "outputs": [
    {
     "data": {
      "text/html": [
       "<div>\n",
       "<style>\n",
       "    .dataframe thead tr:only-child th {\n",
       "        text-align: right;\n",
       "    }\n",
       "\n",
       "    .dataframe thead th {\n",
       "        text-align: left;\n",
       "    }\n",
       "\n",
       "    .dataframe tbody tr th {\n",
       "        vertical-align: top;\n",
       "    }\n",
       "</style>\n",
       "<table border=\"1\" class=\"dataframe\">\n",
       "  <thead>\n",
       "    <tr style=\"text-align: right;\">\n",
       "      <th></th>\n",
       "      <th>customer_id</th>\n",
       "      <th>work_add_lat</th>\n",
       "      <th>work_add_lon</th>\n",
       "      <th>home_add_lat</th>\n",
       "      <th>home_add_lon</th>\n",
       "    </tr>\n",
       "  </thead>\n",
       "  <tbody>\n",
       "    <tr>\n",
       "      <th>0</th>\n",
       "      <td>00021683ccb416637fe9a4cd35e4606e</td>\n",
       "      <td>0</td>\n",
       "      <td>0</td>\n",
       "      <td>0</td>\n",
       "      <td>0</td>\n",
       "    </tr>\n",
       "    <tr>\n",
       "      <th>1</th>\n",
       "      <td>0002d0f8a642272b41c292c12ab6e602</td>\n",
       "      <td>0</td>\n",
       "      <td>0</td>\n",
       "      <td>0</td>\n",
       "      <td>0</td>\n",
       "    </tr>\n",
       "    <tr>\n",
       "      <th>2</th>\n",
       "      <td>0004d182d9fede3ba2534b2d5e5ad27e</td>\n",
       "      <td>0</td>\n",
       "      <td>0</td>\n",
       "      <td>0</td>\n",
       "      <td>0</td>\n",
       "    </tr>\n",
       "    <tr>\n",
       "      <th>3</th>\n",
       "      <td>0008c2445518c9392cb356c5c3db3392</td>\n",
       "      <td>0</td>\n",
       "      <td>0</td>\n",
       "      <td>0</td>\n",
       "      <td>0</td>\n",
       "    </tr>\n",
       "    <tr>\n",
       "      <th>4</th>\n",
       "      <td>000b373cc4969c0be8e0933c08da67e1</td>\n",
       "      <td>0</td>\n",
       "      <td>0</td>\n",
       "      <td>0</td>\n",
       "      <td>0</td>\n",
       "    </tr>\n",
       "  </tbody>\n",
       "</table>\n",
       "</div>"
      ],
      "text/plain": [
       "                        customer_id  work_add_lat  work_add_lon  home_add_lat  \\\n",
       "0  00021683ccb416637fe9a4cd35e4606e             0             0             0   \n",
       "1  0002d0f8a642272b41c292c12ab6e602             0             0             0   \n",
       "2  0004d182d9fede3ba2534b2d5e5ad27e             0             0             0   \n",
       "3  0008c2445518c9392cb356c5c3db3392             0             0             0   \n",
       "4  000b373cc4969c0be8e0933c08da67e1             0             0             0   \n",
       "\n",
       "   home_add_lon  \n",
       "0             0  \n",
       "1             0  \n",
       "2             0  \n",
       "3             0  \n",
       "4             0  "
      ]
     },
     "execution_count": 192,
     "metadata": {},
     "output_type": "execute_result"
    }
   ],
   "source": [
    "sample.head()"
   ]
  },
  {
   "cell_type": "code",
   "execution_count": 193,
   "metadata": {},
   "outputs": [
    {
     "data": {
      "text/html": [
       "<div>\n",
       "<style>\n",
       "    .dataframe thead tr:only-child th {\n",
       "        text-align: right;\n",
       "    }\n",
       "\n",
       "    .dataframe thead th {\n",
       "        text-align: left;\n",
       "    }\n",
       "\n",
       "    .dataframe tbody tr th {\n",
       "        vertical-align: top;\n",
       "    }\n",
       "</style>\n",
       "<table border=\"1\" class=\"dataframe\">\n",
       "  <thead>\n",
       "    <tr style=\"text-align: right;\">\n",
       "      <th></th>\n",
       "      <th>customer_id</th>\n",
       "      <th>work_add_lat</th>\n",
       "      <th>work_add_lon</th>\n",
       "      <th>home_add_lat</th>\n",
       "      <th>home_add_lon</th>\n",
       "    </tr>\n",
       "  </thead>\n",
       "  <tbody>\n",
       "    <tr>\n",
       "      <th>0</th>\n",
       "      <td>00fd410f5c580c8351cafa88d82b60f3</td>\n",
       "      <td>29.359</td>\n",
       "      <td>20.859</td>\n",
       "      <td>55.578</td>\n",
       "      <td>38.919</td>\n",
       "    </tr>\n",
       "    <tr>\n",
       "      <th>1</th>\n",
       "      <td>00fd410f5c580c8351cafa88d82b60f3</td>\n",
       "      <td>26.581</td>\n",
       "      <td>18.883</td>\n",
       "      <td>55.231</td>\n",
       "      <td>38.349</td>\n",
       "    </tr>\n",
       "    <tr>\n",
       "      <th>2</th>\n",
       "      <td>00fd410f5c580c8351cafa88d82b60f3</td>\n",
       "      <td>31.584</td>\n",
       "      <td>21.395</td>\n",
       "      <td>56.759</td>\n",
       "      <td>38.597</td>\n",
       "    </tr>\n",
       "    <tr>\n",
       "      <th>3</th>\n",
       "      <td>00fd410f5c580c8351cafa88d82b60f3</td>\n",
       "      <td>29.313</td>\n",
       "      <td>20.811</td>\n",
       "      <td>55.576</td>\n",
       "      <td>38.862</td>\n",
       "    </tr>\n",
       "    <tr>\n",
       "      <th>4</th>\n",
       "      <td>00fd410f5c580c8351cafa88d82b60f3</td>\n",
       "      <td>28.442</td>\n",
       "      <td>19.730</td>\n",
       "      <td>55.978</td>\n",
       "      <td>38.588</td>\n",
       "    </tr>\n",
       "  </tbody>\n",
       "</table>\n",
       "</div>"
      ],
      "text/plain": [
       "                        customer_id  work_add_lat  work_add_lon  home_add_lat  \\\n",
       "0  00fd410f5c580c8351cafa88d82b60f3        29.359        20.859        55.578   \n",
       "1  00fd410f5c580c8351cafa88d82b60f3        26.581        18.883        55.231   \n",
       "2  00fd410f5c580c8351cafa88d82b60f3        31.584        21.395        56.759   \n",
       "3  00fd410f5c580c8351cafa88d82b60f3        29.313        20.811        55.576   \n",
       "4  00fd410f5c580c8351cafa88d82b60f3        28.442        19.730        55.978   \n",
       "\n",
       "   home_add_lon  \n",
       "0        38.919  \n",
       "1        38.349  \n",
       "2        38.597  \n",
       "3        38.862  \n",
       "4        38.588  "
      ]
     },
     "execution_count": 193,
     "metadata": {},
     "output_type": "execute_result"
    }
   ],
   "source": [
    "sample2 = pd.read_csv('submit1.csv')\n",
    "sample2.head()"
   ]
  },
  {
   "cell_type": "code",
   "execution_count": 194,
   "metadata": {
    "collapsed": true
   },
   "outputs": [],
   "source": [
    "sample.to_csv('sample1.csv')"
   ]
  },
  {
   "cell_type": "code",
   "execution_count": 198,
   "metadata": {},
   "outputs": [
    {
     "data": {
      "text/plain": [
       "'00fd410f5c580c8351cafa88d82b60f3'"
      ]
     },
     "execution_count": 198,
     "metadata": {},
     "output_type": "execute_result"
    }
   ],
   "source": [
    "submit.index[0]"
   ]
  },
  {
   "cell_type": "code",
   "execution_count": 201,
   "metadata": {},
   "outputs": [],
   "source": [
    "submit1 = pd.concat([test['customer_id'],\n",
    "                    pd.Series(pred3), \n",
    "                    pd.Series(pred4),\n",
    "                    pd.Series(pred1), \n",
    "                    pd.Series(pred2)],axis=1)"
   ]
  },
  {
   "cell_type": "code",
   "execution_count": 206,
   "metadata": {},
   "outputs": [
    {
     "data": {
      "text/html": [
       "<div>\n",
       "<style>\n",
       "    .dataframe thead tr:only-child th {\n",
       "        text-align: right;\n",
       "    }\n",
       "\n",
       "    .dataframe thead th {\n",
       "        text-align: left;\n",
       "    }\n",
       "\n",
       "    .dataframe tbody tr th {\n",
       "        vertical-align: top;\n",
       "    }\n",
       "</style>\n",
       "<table border=\"1\" class=\"dataframe\">\n",
       "  <thead>\n",
       "    <tr style=\"text-align: right;\">\n",
       "      <th></th>\n",
       "      <th>customer_id</th>\n",
       "      <th>work_add_lat</th>\n",
       "      <th>work_add_lon</th>\n",
       "      <th>home_add_lat</th>\n",
       "      <th>home_add_lon</th>\n",
       "    </tr>\n",
       "  </thead>\n",
       "  <tbody>\n",
       "    <tr>\n",
       "      <th>0</th>\n",
       "      <td>00fd410f5c580c8351cafa88d82b60f3</td>\n",
       "      <td>29.359</td>\n",
       "      <td>20.859</td>\n",
       "      <td>55.578</td>\n",
       "      <td>38.919</td>\n",
       "    </tr>\n",
       "    <tr>\n",
       "      <th>1</th>\n",
       "      <td>00fd410f5c580c8351cafa88d82b60f3</td>\n",
       "      <td>26.581</td>\n",
       "      <td>18.883</td>\n",
       "      <td>55.231</td>\n",
       "      <td>38.349</td>\n",
       "    </tr>\n",
       "    <tr>\n",
       "      <th>2</th>\n",
       "      <td>00fd410f5c580c8351cafa88d82b60f3</td>\n",
       "      <td>31.584</td>\n",
       "      <td>21.395</td>\n",
       "      <td>56.759</td>\n",
       "      <td>38.597</td>\n",
       "    </tr>\n",
       "    <tr>\n",
       "      <th>3</th>\n",
       "      <td>00fd410f5c580c8351cafa88d82b60f3</td>\n",
       "      <td>29.313</td>\n",
       "      <td>20.811</td>\n",
       "      <td>55.576</td>\n",
       "      <td>38.862</td>\n",
       "    </tr>\n",
       "    <tr>\n",
       "      <th>4</th>\n",
       "      <td>00fd410f5c580c8351cafa88d82b60f3</td>\n",
       "      <td>28.442</td>\n",
       "      <td>19.730</td>\n",
       "      <td>55.978</td>\n",
       "      <td>38.588</td>\n",
       "    </tr>\n",
       "  </tbody>\n",
       "</table>\n",
       "</div>"
      ],
      "text/plain": [
       "                        customer_id  work_add_lat  work_add_lon  home_add_lat  \\\n",
       "0  00fd410f5c580c8351cafa88d82b60f3        29.359        20.859        55.578   \n",
       "1  00fd410f5c580c8351cafa88d82b60f3        26.581        18.883        55.231   \n",
       "2  00fd410f5c580c8351cafa88d82b60f3        31.584        21.395        56.759   \n",
       "3  00fd410f5c580c8351cafa88d82b60f3        29.313        20.811        55.576   \n",
       "4  00fd410f5c580c8351cafa88d82b60f3        28.442        19.730        55.978   \n",
       "\n",
       "   home_add_lon  \n",
       "0        38.919  \n",
       "1        38.349  \n",
       "2        38.597  \n",
       "3        38.862  \n",
       "4        38.588  "
      ]
     },
     "execution_count": 206,
     "metadata": {},
     "output_type": "execute_result"
    }
   ],
   "source": [
    "submit1.columns = ['customer_id','work_add_lat','work_add_lon','home_add_lat','home_add_lon']\n",
    "submit1.head()"
   ]
  },
  {
   "cell_type": "code",
   "execution_count": 207,
   "metadata": {},
   "outputs": [
    {
     "data": {
      "text/plain": [
       "(1265470, 5)"
      ]
     },
     "execution_count": 207,
     "metadata": {},
     "output_type": "execute_result"
    }
   ],
   "source": [
    "submit1.shape"
   ]
  },
  {
   "cell_type": "code",
   "execution_count": 208,
   "metadata": {},
   "outputs": [
    {
     "data": {
      "text/plain": [
       "(9997, 5)"
      ]
     },
     "execution_count": 208,
     "metadata": {},
     "output_type": "execute_result"
    }
   ],
   "source": [
    "sample.shape"
   ]
  },
  {
   "cell_type": "code",
   "execution_count": 211,
   "metadata": {},
   "outputs": [
    {
     "data": {
      "text/plain": [
       "'00021683ccb416637fe9a4cd35e4606e'"
      ]
     },
     "execution_count": 211,
     "metadata": {},
     "output_type": "execute_result"
    }
   ],
   "source": [
    "sample['customer_id'][0]"
   ]
  },
  {
   "cell_type": "code",
   "execution_count": 215,
   "metadata": {},
   "outputs": [],
   "source": [
    "submit1 = submit1.groupby('customer_id').mean()"
   ]
  },
  {
   "cell_type": "code",
   "execution_count": 216,
   "metadata": {
    "collapsed": true
   },
   "outputs": [],
   "source": [
    "submit1.to_csv('submit1.csv')"
   ]
  },
  {
   "cell_type": "code",
   "execution_count": null,
   "metadata": {
    "collapsed": true
   },
   "outputs": [],
   "source": []
  },
  {
   "cell_type": "code",
   "execution_count": 212,
   "metadata": {},
   "outputs": [
    {
     "data": {
      "text/html": [
       "<div>\n",
       "<style>\n",
       "    .dataframe thead tr:only-child th {\n",
       "        text-align: right;\n",
       "    }\n",
       "\n",
       "    .dataframe thead th {\n",
       "        text-align: left;\n",
       "    }\n",
       "\n",
       "    .dataframe tbody tr th {\n",
       "        vertical-align: top;\n",
       "    }\n",
       "</style>\n",
       "<table border=\"1\" class=\"dataframe\">\n",
       "  <thead>\n",
       "    <tr style=\"text-align: right;\">\n",
       "      <th></th>\n",
       "      <th>customer_id</th>\n",
       "      <th>work_add_lat</th>\n",
       "      <th>work_add_lon</th>\n",
       "      <th>home_add_lat</th>\n",
       "      <th>home_add_lon</th>\n",
       "    </tr>\n",
       "  </thead>\n",
       "  <tbody>\n",
       "    <tr>\n",
       "      <th>802502</th>\n",
       "      <td>00021683ccb416637fe9a4cd35e4606e</td>\n",
       "      <td>35.665</td>\n",
       "      <td>44.514</td>\n",
       "      <td>54.327</td>\n",
       "      <td>73.504</td>\n",
       "    </tr>\n",
       "    <tr>\n",
       "      <th>802503</th>\n",
       "      <td>00021683ccb416637fe9a4cd35e4606e</td>\n",
       "      <td>31.487</td>\n",
       "      <td>41.810</td>\n",
       "      <td>54.067</td>\n",
       "      <td>73.495</td>\n",
       "    </tr>\n",
       "    <tr>\n",
       "      <th>802504</th>\n",
       "      <td>00021683ccb416637fe9a4cd35e4606e</td>\n",
       "      <td>36.182</td>\n",
       "      <td>44.955</td>\n",
       "      <td>54.207</td>\n",
       "      <td>73.559</td>\n",
       "    </tr>\n",
       "    <tr>\n",
       "      <th>802505</th>\n",
       "      <td>00021683ccb416637fe9a4cd35e4606e</td>\n",
       "      <td>32.941</td>\n",
       "      <td>43.794</td>\n",
       "      <td>54.050</td>\n",
       "      <td>75.497</td>\n",
       "    </tr>\n",
       "    <tr>\n",
       "      <th>802506</th>\n",
       "      <td>00021683ccb416637fe9a4cd35e4606e</td>\n",
       "      <td>33.316</td>\n",
       "      <td>43.097</td>\n",
       "      <td>53.975</td>\n",
       "      <td>73.498</td>\n",
       "    </tr>\n",
       "    <tr>\n",
       "      <th>802507</th>\n",
       "      <td>00021683ccb416637fe9a4cd35e4606e</td>\n",
       "      <td>32.765</td>\n",
       "      <td>42.612</td>\n",
       "      <td>54.002</td>\n",
       "      <td>73.324</td>\n",
       "    </tr>\n",
       "    <tr>\n",
       "      <th>802508</th>\n",
       "      <td>00021683ccb416637fe9a4cd35e4606e</td>\n",
       "      <td>35.006</td>\n",
       "      <td>44.164</td>\n",
       "      <td>54.410</td>\n",
       "      <td>73.772</td>\n",
       "    </tr>\n",
       "    <tr>\n",
       "      <th>802509</th>\n",
       "      <td>00021683ccb416637fe9a4cd35e4606e</td>\n",
       "      <td>33.471</td>\n",
       "      <td>40.850</td>\n",
       "      <td>54.261</td>\n",
       "      <td>69.398</td>\n",
       "    </tr>\n",
       "    <tr>\n",
       "      <th>802510</th>\n",
       "      <td>00021683ccb416637fe9a4cd35e4606e</td>\n",
       "      <td>35.457</td>\n",
       "      <td>44.274</td>\n",
       "      <td>53.968</td>\n",
       "      <td>72.963</td>\n",
       "    </tr>\n",
       "    <tr>\n",
       "      <th>802511</th>\n",
       "      <td>00021683ccb416637fe9a4cd35e4606e</td>\n",
       "      <td>34.012</td>\n",
       "      <td>43.486</td>\n",
       "      <td>54.335</td>\n",
       "      <td>73.668</td>\n",
       "    </tr>\n",
       "    <tr>\n",
       "      <th>802512</th>\n",
       "      <td>00021683ccb416637fe9a4cd35e4606e</td>\n",
       "      <td>30.831</td>\n",
       "      <td>41.390</td>\n",
       "      <td>54.067</td>\n",
       "      <td>73.542</td>\n",
       "    </tr>\n",
       "    <tr>\n",
       "      <th>802513</th>\n",
       "      <td>00021683ccb416637fe9a4cd35e4606e</td>\n",
       "      <td>36.351</td>\n",
       "      <td>44.999</td>\n",
       "      <td>54.267</td>\n",
       "      <td>73.482</td>\n",
       "    </tr>\n",
       "    <tr>\n",
       "      <th>802514</th>\n",
       "      <td>00021683ccb416637fe9a4cd35e4606e</td>\n",
       "      <td>36.594</td>\n",
       "      <td>45.190</td>\n",
       "      <td>54.406</td>\n",
       "      <td>73.662</td>\n",
       "    </tr>\n",
       "    <tr>\n",
       "      <th>802515</th>\n",
       "      <td>00021683ccb416637fe9a4cd35e4606e</td>\n",
       "      <td>33.516</td>\n",
       "      <td>43.200</td>\n",
       "      <td>54.237</td>\n",
       "      <td>73.642</td>\n",
       "    </tr>\n",
       "    <tr>\n",
       "      <th>802516</th>\n",
       "      <td>00021683ccb416637fe9a4cd35e4606e</td>\n",
       "      <td>31.500</td>\n",
       "      <td>42.001</td>\n",
       "      <td>54.051</td>\n",
       "      <td>73.801</td>\n",
       "    </tr>\n",
       "    <tr>\n",
       "      <th>802517</th>\n",
       "      <td>00021683ccb416637fe9a4cd35e4606e</td>\n",
       "      <td>31.502</td>\n",
       "      <td>41.814</td>\n",
       "      <td>53.957</td>\n",
       "      <td>73.362</td>\n",
       "    </tr>\n",
       "    <tr>\n",
       "      <th>802518</th>\n",
       "      <td>00021683ccb416637fe9a4cd35e4606e</td>\n",
       "      <td>33.142</td>\n",
       "      <td>42.769</td>\n",
       "      <td>53.874</td>\n",
       "      <td>73.001</td>\n",
       "    </tr>\n",
       "    <tr>\n",
       "      <th>802519</th>\n",
       "      <td>00021683ccb416637fe9a4cd35e4606e</td>\n",
       "      <td>32.041</td>\n",
       "      <td>42.145</td>\n",
       "      <td>53.934</td>\n",
       "      <td>73.294</td>\n",
       "    </tr>\n",
       "    <tr>\n",
       "      <th>802520</th>\n",
       "      <td>00021683ccb416637fe9a4cd35e4606e</td>\n",
       "      <td>32.264</td>\n",
       "      <td>42.289</td>\n",
       "      <td>53.959</td>\n",
       "      <td>73.308</td>\n",
       "    </tr>\n",
       "    <tr>\n",
       "      <th>802521</th>\n",
       "      <td>00021683ccb416637fe9a4cd35e4606e</td>\n",
       "      <td>31.752</td>\n",
       "      <td>41.867</td>\n",
       "      <td>53.669</td>\n",
       "      <td>72.853</td>\n",
       "    </tr>\n",
       "    <tr>\n",
       "      <th>802522</th>\n",
       "      <td>00021683ccb416637fe9a4cd35e4606e</td>\n",
       "      <td>36.105</td>\n",
       "      <td>44.878</td>\n",
       "      <td>54.403</td>\n",
       "      <td>73.693</td>\n",
       "    </tr>\n",
       "    <tr>\n",
       "      <th>802523</th>\n",
       "      <td>00021683ccb416637fe9a4cd35e4606e</td>\n",
       "      <td>35.685</td>\n",
       "      <td>44.459</td>\n",
       "      <td>54.091</td>\n",
       "      <td>73.132</td>\n",
       "    </tr>\n",
       "    <tr>\n",
       "      <th>802524</th>\n",
       "      <td>00021683ccb416637fe9a4cd35e4606e</td>\n",
       "      <td>32.929</td>\n",
       "      <td>42.920</td>\n",
       "      <td>54.126</td>\n",
       "      <td>73.791</td>\n",
       "    </tr>\n",
       "    <tr>\n",
       "      <th>802525</th>\n",
       "      <td>00021683ccb416637fe9a4cd35e4606e</td>\n",
       "      <td>34.404</td>\n",
       "      <td>43.678</td>\n",
       "      <td>54.174</td>\n",
       "      <td>73.381</td>\n",
       "    </tr>\n",
       "    <tr>\n",
       "      <th>802526</th>\n",
       "      <td>00021683ccb416637fe9a4cd35e4606e</td>\n",
       "      <td>36.131</td>\n",
       "      <td>44.713</td>\n",
       "      <td>54.077</td>\n",
       "      <td>73.063</td>\n",
       "    </tr>\n",
       "    <tr>\n",
       "      <th>802527</th>\n",
       "      <td>00021683ccb416637fe9a4cd35e4606e</td>\n",
       "      <td>35.650</td>\n",
       "      <td>44.374</td>\n",
       "      <td>53.883</td>\n",
       "      <td>72.834</td>\n",
       "    </tr>\n",
       "    <tr>\n",
       "      <th>802528</th>\n",
       "      <td>00021683ccb416637fe9a4cd35e4606e</td>\n",
       "      <td>31.834</td>\n",
       "      <td>42.029</td>\n",
       "      <td>53.996</td>\n",
       "      <td>73.386</td>\n",
       "    </tr>\n",
       "    <tr>\n",
       "      <th>802529</th>\n",
       "      <td>00021683ccb416637fe9a4cd35e4606e</td>\n",
       "      <td>32.113</td>\n",
       "      <td>42.208</td>\n",
       "      <td>54.006</td>\n",
       "      <td>73.378</td>\n",
       "    </tr>\n",
       "    <tr>\n",
       "      <th>802530</th>\n",
       "      <td>00021683ccb416637fe9a4cd35e4606e</td>\n",
       "      <td>34.943</td>\n",
       "      <td>43.940</td>\n",
       "      <td>53.893</td>\n",
       "      <td>72.924</td>\n",
       "    </tr>\n",
       "    <tr>\n",
       "      <th>802531</th>\n",
       "      <td>00021683ccb416637fe9a4cd35e4606e</td>\n",
       "      <td>33.204</td>\n",
       "      <td>42.894</td>\n",
       "      <td>54.016</td>\n",
       "      <td>73.311</td>\n",
       "    </tr>\n",
       "    <tr>\n",
       "      <th>...</th>\n",
       "      <td>...</td>\n",
       "      <td>...</td>\n",
       "      <td>...</td>\n",
       "      <td>...</td>\n",
       "      <td>...</td>\n",
       "    </tr>\n",
       "    <tr>\n",
       "      <th>802550</th>\n",
       "      <td>00021683ccb416637fe9a4cd35e4606e</td>\n",
       "      <td>34.609</td>\n",
       "      <td>43.721</td>\n",
       "      <td>53.897</td>\n",
       "      <td>72.934</td>\n",
       "    </tr>\n",
       "    <tr>\n",
       "      <th>802551</th>\n",
       "      <td>00021683ccb416637fe9a4cd35e4606e</td>\n",
       "      <td>35.212</td>\n",
       "      <td>44.205</td>\n",
       "      <td>54.093</td>\n",
       "      <td>73.280</td>\n",
       "    </tr>\n",
       "    <tr>\n",
       "      <th>802552</th>\n",
       "      <td>00021683ccb416637fe9a4cd35e4606e</td>\n",
       "      <td>33.059</td>\n",
       "      <td>42.692</td>\n",
       "      <td>53.805</td>\n",
       "      <td>72.912</td>\n",
       "    </tr>\n",
       "    <tr>\n",
       "      <th>802553</th>\n",
       "      <td>00021683ccb416637fe9a4cd35e4606e</td>\n",
       "      <td>35.549</td>\n",
       "      <td>44.444</td>\n",
       "      <td>54.235</td>\n",
       "      <td>73.407</td>\n",
       "    </tr>\n",
       "    <tr>\n",
       "      <th>802554</th>\n",
       "      <td>00021683ccb416637fe9a4cd35e4606e</td>\n",
       "      <td>31.483</td>\n",
       "      <td>41.749</td>\n",
       "      <td>53.858</td>\n",
       "      <td>73.185</td>\n",
       "    </tr>\n",
       "    <tr>\n",
       "      <th>802555</th>\n",
       "      <td>00021683ccb416637fe9a4cd35e4606e</td>\n",
       "      <td>34.161</td>\n",
       "      <td>43.546</td>\n",
       "      <td>54.183</td>\n",
       "      <td>73.438</td>\n",
       "    </tr>\n",
       "    <tr>\n",
       "      <th>802556</th>\n",
       "      <td>00021683ccb416637fe9a4cd35e4606e</td>\n",
       "      <td>34.539</td>\n",
       "      <td>41.564</td>\n",
       "      <td>54.460</td>\n",
       "      <td>69.575</td>\n",
       "    </tr>\n",
       "    <tr>\n",
       "      <th>802557</th>\n",
       "      <td>00021683ccb416637fe9a4cd35e4606e</td>\n",
       "      <td>32.506</td>\n",
       "      <td>42.445</td>\n",
       "      <td>53.968</td>\n",
       "      <td>73.303</td>\n",
       "    </tr>\n",
       "    <tr>\n",
       "      <th>802558</th>\n",
       "      <td>00021683ccb416637fe9a4cd35e4606e</td>\n",
       "      <td>32.279</td>\n",
       "      <td>42.299</td>\n",
       "      <td>53.971</td>\n",
       "      <td>73.322</td>\n",
       "    </tr>\n",
       "    <tr>\n",
       "      <th>802559</th>\n",
       "      <td>00021683ccb416637fe9a4cd35e4606e</td>\n",
       "      <td>33.868</td>\n",
       "      <td>41.123</td>\n",
       "      <td>54.409</td>\n",
       "      <td>69.554</td>\n",
       "    </tr>\n",
       "    <tr>\n",
       "      <th>802560</th>\n",
       "      <td>00021683ccb416637fe9a4cd35e4606e</td>\n",
       "      <td>31.422</td>\n",
       "      <td>41.796</td>\n",
       "      <td>54.095</td>\n",
       "      <td>73.544</td>\n",
       "    </tr>\n",
       "    <tr>\n",
       "      <th>802561</th>\n",
       "      <td>00021683ccb416637fe9a4cd35e4606e</td>\n",
       "      <td>35.348</td>\n",
       "      <td>42.128</td>\n",
       "      <td>54.660</td>\n",
       "      <td>69.780</td>\n",
       "    </tr>\n",
       "    <tr>\n",
       "      <th>802562</th>\n",
       "      <td>00021683ccb416637fe9a4cd35e4606e</td>\n",
       "      <td>36.231</td>\n",
       "      <td>44.840</td>\n",
       "      <td>54.168</td>\n",
       "      <td>73.240</td>\n",
       "    </tr>\n",
       "    <tr>\n",
       "      <th>802563</th>\n",
       "      <td>00021683ccb416637fe9a4cd35e4606e</td>\n",
       "      <td>34.301</td>\n",
       "      <td>41.454</td>\n",
       "      <td>54.575</td>\n",
       "      <td>69.752</td>\n",
       "    </tr>\n",
       "    <tr>\n",
       "      <th>802564</th>\n",
       "      <td>00021683ccb416637fe9a4cd35e4606e</td>\n",
       "      <td>35.723</td>\n",
       "      <td>42.370</td>\n",
       "      <td>54.691</td>\n",
       "      <td>69.791</td>\n",
       "    </tr>\n",
       "    <tr>\n",
       "      <th>802565</th>\n",
       "      <td>00021683ccb416637fe9a4cd35e4606e</td>\n",
       "      <td>32.466</td>\n",
       "      <td>42.418</td>\n",
       "      <td>53.949</td>\n",
       "      <td>73.282</td>\n",
       "    </tr>\n",
       "    <tr>\n",
       "      <th>802566</th>\n",
       "      <td>00021683ccb416637fe9a4cd35e4606e</td>\n",
       "      <td>32.427</td>\n",
       "      <td>42.393</td>\n",
       "      <td>53.958</td>\n",
       "      <td>73.296</td>\n",
       "    </tr>\n",
       "    <tr>\n",
       "      <th>802567</th>\n",
       "      <td>00021683ccb416637fe9a4cd35e4606e</td>\n",
       "      <td>35.358</td>\n",
       "      <td>44.207</td>\n",
       "      <td>53.939</td>\n",
       "      <td>72.933</td>\n",
       "    </tr>\n",
       "    <tr>\n",
       "      <th>802568</th>\n",
       "      <td>00021683ccb416637fe9a4cd35e4606e</td>\n",
       "      <td>30.797</td>\n",
       "      <td>40.924</td>\n",
       "      <td>53.584</td>\n",
       "      <td>72.089</td>\n",
       "    </tr>\n",
       "    <tr>\n",
       "      <th>802569</th>\n",
       "      <td>00021683ccb416637fe9a4cd35e4606e</td>\n",
       "      <td>33.575</td>\n",
       "      <td>43.041</td>\n",
       "      <td>53.911</td>\n",
       "      <td>73.011</td>\n",
       "    </tr>\n",
       "    <tr>\n",
       "      <th>802570</th>\n",
       "      <td>00021683ccb416637fe9a4cd35e4606e</td>\n",
       "      <td>37.731</td>\n",
       "      <td>45.829</td>\n",
       "      <td>54.234</td>\n",
       "      <td>73.277</td>\n",
       "    </tr>\n",
       "    <tr>\n",
       "      <th>802571</th>\n",
       "      <td>00021683ccb416637fe9a4cd35e4606e</td>\n",
       "      <td>33.846</td>\n",
       "      <td>42.885</td>\n",
       "      <td>53.750</td>\n",
       "      <td>72.073</td>\n",
       "    </tr>\n",
       "    <tr>\n",
       "      <th>802572</th>\n",
       "      <td>00021683ccb416637fe9a4cd35e4606e</td>\n",
       "      <td>35.693</td>\n",
       "      <td>44.658</td>\n",
       "      <td>54.129</td>\n",
       "      <td>73.633</td>\n",
       "    </tr>\n",
       "    <tr>\n",
       "      <th>802573</th>\n",
       "      <td>00021683ccb416637fe9a4cd35e4606e</td>\n",
       "      <td>33.492</td>\n",
       "      <td>43.150</td>\n",
       "      <td>54.274</td>\n",
       "      <td>73.631</td>\n",
       "    </tr>\n",
       "    <tr>\n",
       "      <th>802574</th>\n",
       "      <td>00021683ccb416637fe9a4cd35e4606e</td>\n",
       "      <td>31.912</td>\n",
       "      <td>41.640</td>\n",
       "      <td>53.630</td>\n",
       "      <td>72.065</td>\n",
       "    </tr>\n",
       "    <tr>\n",
       "      <th>1107762</th>\n",
       "      <td>00021683ccb416637fe9a4cd35e4606e</td>\n",
       "      <td>38.399</td>\n",
       "      <td>54.409</td>\n",
       "      <td>54.378</td>\n",
       "      <td>80.059</td>\n",
       "    </tr>\n",
       "    <tr>\n",
       "      <th>1107763</th>\n",
       "      <td>00021683ccb416637fe9a4cd35e4606e</td>\n",
       "      <td>40.496</td>\n",
       "      <td>55.742</td>\n",
       "      <td>54.264</td>\n",
       "      <td>79.768</td>\n",
       "    </tr>\n",
       "    <tr>\n",
       "      <th>1142911</th>\n",
       "      <td>00021683ccb416637fe9a4cd35e4606e</td>\n",
       "      <td>37.231</td>\n",
       "      <td>53.643</td>\n",
       "      <td>54.256</td>\n",
       "      <td>79.984</td>\n",
       "    </tr>\n",
       "    <tr>\n",
       "      <th>1142912</th>\n",
       "      <td>00021683ccb416637fe9a4cd35e4606e</td>\n",
       "      <td>36.280</td>\n",
       "      <td>53.033</td>\n",
       "      <td>54.222</td>\n",
       "      <td>80.012</td>\n",
       "    </tr>\n",
       "    <tr>\n",
       "      <th>1142913</th>\n",
       "      <td>00021683ccb416637fe9a4cd35e4606e</td>\n",
       "      <td>35.776</td>\n",
       "      <td>52.705</td>\n",
       "      <td>54.117</td>\n",
       "      <td>79.923</td>\n",
       "    </tr>\n",
       "  </tbody>\n",
       "</table>\n",
       "<p>78 rows × 5 columns</p>\n",
       "</div>"
      ],
      "text/plain": [
       "                              customer_id  work_add_lat  work_add_lon  \\\n",
       "802502   00021683ccb416637fe9a4cd35e4606e        35.665        44.514   \n",
       "802503   00021683ccb416637fe9a4cd35e4606e        31.487        41.810   \n",
       "802504   00021683ccb416637fe9a4cd35e4606e        36.182        44.955   \n",
       "802505   00021683ccb416637fe9a4cd35e4606e        32.941        43.794   \n",
       "802506   00021683ccb416637fe9a4cd35e4606e        33.316        43.097   \n",
       "802507   00021683ccb416637fe9a4cd35e4606e        32.765        42.612   \n",
       "802508   00021683ccb416637fe9a4cd35e4606e        35.006        44.164   \n",
       "802509   00021683ccb416637fe9a4cd35e4606e        33.471        40.850   \n",
       "802510   00021683ccb416637fe9a4cd35e4606e        35.457        44.274   \n",
       "802511   00021683ccb416637fe9a4cd35e4606e        34.012        43.486   \n",
       "802512   00021683ccb416637fe9a4cd35e4606e        30.831        41.390   \n",
       "802513   00021683ccb416637fe9a4cd35e4606e        36.351        44.999   \n",
       "802514   00021683ccb416637fe9a4cd35e4606e        36.594        45.190   \n",
       "802515   00021683ccb416637fe9a4cd35e4606e        33.516        43.200   \n",
       "802516   00021683ccb416637fe9a4cd35e4606e        31.500        42.001   \n",
       "802517   00021683ccb416637fe9a4cd35e4606e        31.502        41.814   \n",
       "802518   00021683ccb416637fe9a4cd35e4606e        33.142        42.769   \n",
       "802519   00021683ccb416637fe9a4cd35e4606e        32.041        42.145   \n",
       "802520   00021683ccb416637fe9a4cd35e4606e        32.264        42.289   \n",
       "802521   00021683ccb416637fe9a4cd35e4606e        31.752        41.867   \n",
       "802522   00021683ccb416637fe9a4cd35e4606e        36.105        44.878   \n",
       "802523   00021683ccb416637fe9a4cd35e4606e        35.685        44.459   \n",
       "802524   00021683ccb416637fe9a4cd35e4606e        32.929        42.920   \n",
       "802525   00021683ccb416637fe9a4cd35e4606e        34.404        43.678   \n",
       "802526   00021683ccb416637fe9a4cd35e4606e        36.131        44.713   \n",
       "802527   00021683ccb416637fe9a4cd35e4606e        35.650        44.374   \n",
       "802528   00021683ccb416637fe9a4cd35e4606e        31.834        42.029   \n",
       "802529   00021683ccb416637fe9a4cd35e4606e        32.113        42.208   \n",
       "802530   00021683ccb416637fe9a4cd35e4606e        34.943        43.940   \n",
       "802531   00021683ccb416637fe9a4cd35e4606e        33.204        42.894   \n",
       "...                                   ...           ...           ...   \n",
       "802550   00021683ccb416637fe9a4cd35e4606e        34.609        43.721   \n",
       "802551   00021683ccb416637fe9a4cd35e4606e        35.212        44.205   \n",
       "802552   00021683ccb416637fe9a4cd35e4606e        33.059        42.692   \n",
       "802553   00021683ccb416637fe9a4cd35e4606e        35.549        44.444   \n",
       "802554   00021683ccb416637fe9a4cd35e4606e        31.483        41.749   \n",
       "802555   00021683ccb416637fe9a4cd35e4606e        34.161        43.546   \n",
       "802556   00021683ccb416637fe9a4cd35e4606e        34.539        41.564   \n",
       "802557   00021683ccb416637fe9a4cd35e4606e        32.506        42.445   \n",
       "802558   00021683ccb416637fe9a4cd35e4606e        32.279        42.299   \n",
       "802559   00021683ccb416637fe9a4cd35e4606e        33.868        41.123   \n",
       "802560   00021683ccb416637fe9a4cd35e4606e        31.422        41.796   \n",
       "802561   00021683ccb416637fe9a4cd35e4606e        35.348        42.128   \n",
       "802562   00021683ccb416637fe9a4cd35e4606e        36.231        44.840   \n",
       "802563   00021683ccb416637fe9a4cd35e4606e        34.301        41.454   \n",
       "802564   00021683ccb416637fe9a4cd35e4606e        35.723        42.370   \n",
       "802565   00021683ccb416637fe9a4cd35e4606e        32.466        42.418   \n",
       "802566   00021683ccb416637fe9a4cd35e4606e        32.427        42.393   \n",
       "802567   00021683ccb416637fe9a4cd35e4606e        35.358        44.207   \n",
       "802568   00021683ccb416637fe9a4cd35e4606e        30.797        40.924   \n",
       "802569   00021683ccb416637fe9a4cd35e4606e        33.575        43.041   \n",
       "802570   00021683ccb416637fe9a4cd35e4606e        37.731        45.829   \n",
       "802571   00021683ccb416637fe9a4cd35e4606e        33.846        42.885   \n",
       "802572   00021683ccb416637fe9a4cd35e4606e        35.693        44.658   \n",
       "802573   00021683ccb416637fe9a4cd35e4606e        33.492        43.150   \n",
       "802574   00021683ccb416637fe9a4cd35e4606e        31.912        41.640   \n",
       "1107762  00021683ccb416637fe9a4cd35e4606e        38.399        54.409   \n",
       "1107763  00021683ccb416637fe9a4cd35e4606e        40.496        55.742   \n",
       "1142911  00021683ccb416637fe9a4cd35e4606e        37.231        53.643   \n",
       "1142912  00021683ccb416637fe9a4cd35e4606e        36.280        53.033   \n",
       "1142913  00021683ccb416637fe9a4cd35e4606e        35.776        52.705   \n",
       "\n",
       "         home_add_lat  home_add_lon  \n",
       "802502         54.327        73.504  \n",
       "802503         54.067        73.495  \n",
       "802504         54.207        73.559  \n",
       "802505         54.050        75.497  \n",
       "802506         53.975        73.498  \n",
       "802507         54.002        73.324  \n",
       "802508         54.410        73.772  \n",
       "802509         54.261        69.398  \n",
       "802510         53.968        72.963  \n",
       "802511         54.335        73.668  \n",
       "802512         54.067        73.542  \n",
       "802513         54.267        73.482  \n",
       "802514         54.406        73.662  \n",
       "802515         54.237        73.642  \n",
       "802516         54.051        73.801  \n",
       "802517         53.957        73.362  \n",
       "802518         53.874        73.001  \n",
       "802519         53.934        73.294  \n",
       "802520         53.959        73.308  \n",
       "802521         53.669        72.853  \n",
       "802522         54.403        73.693  \n",
       "802523         54.091        73.132  \n",
       "802524         54.126        73.791  \n",
       "802525         54.174        73.381  \n",
       "802526         54.077        73.063  \n",
       "802527         53.883        72.834  \n",
       "802528         53.996        73.386  \n",
       "802529         54.006        73.378  \n",
       "802530         53.893        72.924  \n",
       "802531         54.016        73.311  \n",
       "...               ...           ...  \n",
       "802550         53.897        72.934  \n",
       "802551         54.093        73.280  \n",
       "802552         53.805        72.912  \n",
       "802553         54.235        73.407  \n",
       "802554         53.858        73.185  \n",
       "802555         54.183        73.438  \n",
       "802556         54.460        69.575  \n",
       "802557         53.968        73.303  \n",
       "802558         53.971        73.322  \n",
       "802559         54.409        69.554  \n",
       "802560         54.095        73.544  \n",
       "802561         54.660        69.780  \n",
       "802562         54.168        73.240  \n",
       "802563         54.575        69.752  \n",
       "802564         54.691        69.791  \n",
       "802565         53.949        73.282  \n",
       "802566         53.958        73.296  \n",
       "802567         53.939        72.933  \n",
       "802568         53.584        72.089  \n",
       "802569         53.911        73.011  \n",
       "802570         54.234        73.277  \n",
       "802571         53.750        72.073  \n",
       "802572         54.129        73.633  \n",
       "802573         54.274        73.631  \n",
       "802574         53.630        72.065  \n",
       "1107762        54.378        80.059  \n",
       "1107763        54.264        79.768  \n",
       "1142911        54.256        79.984  \n",
       "1142912        54.222        80.012  \n",
       "1142913        54.117        79.923  \n",
       "\n",
       "[78 rows x 5 columns]"
      ]
     },
     "execution_count": 212,
     "metadata": {},
     "output_type": "execute_result"
    }
   ],
   "source": [
    "submit1.loc[submit1['customer_id'] == sample['customer_id'][0]];"
   ]
  },
  {
   "cell_type": "code",
   "execution_count": null,
   "metadata": {
    "collapsed": true
   },
   "outputs": [],
   "source": []
  },
  {
   "cell_type": "code",
   "execution_count": 210,
   "metadata": {},
   "outputs": [
    {
     "ename": "ValueError",
     "evalue": "Can only compare identically-labeled Series objects",
     "output_type": "error",
     "traceback": [
      "\u001b[1;31m---------------------------------------------------------------------------\u001b[0m",
      "\u001b[1;31mValueError\u001b[0m                                Traceback (most recent call last)",
      "\u001b[1;32m<ipython-input-210-3b5191ea9cc8>\u001b[0m in \u001b[0;36m<module>\u001b[1;34m()\u001b[0m\n\u001b[1;32m----> 1\u001b[1;33m \u001b[0mnp\u001b[0m\u001b[1;33m.\u001b[0m\u001b[0mwhere\u001b[0m\u001b[1;33m(\u001b[0m\u001b[0msample\u001b[0m\u001b[1;33m[\u001b[0m\u001b[1;34m'customer_id'\u001b[0m\u001b[1;33m]\u001b[0m \u001b[1;33m==\u001b[0m \u001b[0msubmit1\u001b[0m\u001b[1;33m[\u001b[0m\u001b[1;34m'customer_id'\u001b[0m\u001b[1;33m]\u001b[0m\u001b[1;33m)\u001b[0m\u001b[1;33m\u001b[0m\u001b[0m\n\u001b[0m",
      "\u001b[1;32mD:\\Miniconda3\\lib\\site-packages\\pandas\\core\\ops.py\u001b[0m in \u001b[0;36mwrapper\u001b[1;34m(self, other, axis)\u001b[0m\n\u001b[0;32m    816\u001b[0m             \u001b[1;32mif\u001b[0m \u001b[1;32mnot\u001b[0m \u001b[0mself\u001b[0m\u001b[1;33m.\u001b[0m\u001b[0m_indexed_same\u001b[0m\u001b[1;33m(\u001b[0m\u001b[0mother\u001b[0m\u001b[1;33m)\u001b[0m\u001b[1;33m:\u001b[0m\u001b[1;33m\u001b[0m\u001b[0m\n\u001b[0;32m    817\u001b[0m                 \u001b[0mmsg\u001b[0m \u001b[1;33m=\u001b[0m \u001b[1;34m'Can only compare identically-labeled Series objects'\u001b[0m\u001b[1;33m\u001b[0m\u001b[0m\n\u001b[1;32m--> 818\u001b[1;33m                 \u001b[1;32mraise\u001b[0m \u001b[0mValueError\u001b[0m\u001b[1;33m(\u001b[0m\u001b[0mmsg\u001b[0m\u001b[1;33m)\u001b[0m\u001b[1;33m\u001b[0m\u001b[0m\n\u001b[0m\u001b[0;32m    819\u001b[0m             return self._constructor(na_op(self.values, other.values),\n\u001b[0;32m    820\u001b[0m                                      index=self.index, name=name)\n",
      "\u001b[1;31mValueError\u001b[0m: Can only compare identically-labeled Series objects"
     ]
    }
   ],
   "source": [
    "np.where(sample['customer_id'] == submit1['customer_id'])"
   ]
  },
  {
   "cell_type": "code",
   "execution_count": null,
   "metadata": {
    "collapsed": true
   },
   "outputs": [],
   "source": []
  }
 ],
 "metadata": {
  "kernelspec": {
   "display_name": "Python 3",
   "language": "python",
   "name": "python3"
  },
  "language_info": {
   "codemirror_mode": {
    "name": "ipython",
    "version": 3
   },
   "file_extension": ".py",
   "mimetype": "text/x-python",
   "name": "python",
   "nbconvert_exporter": "python",
   "pygments_lexer": "ipython3",
   "version": "3.6.3"
  }
 },
 "nbformat": 4,
 "nbformat_minor": 2
}
