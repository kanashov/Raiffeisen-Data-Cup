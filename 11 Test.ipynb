{
 "cells": [
  {
   "cell_type": "code",
   "execution_count": 1,
   "metadata": {},
   "outputs": [],
   "source": [
    "import numpy as np\n",
    "import pandas as pd\n",
    "import seaborn as sns\n",
    "import matplotlib.pyplot as plt\n",
    "%matplotlib inline\n",
    "import folium\n",
    "from sklearn.preprocessing import LabelEncoder\n",
    "from geopy.geocoders import Yandex\n",
    "from geopy.distance import vincenty\n",
    "import time\n",
    "from tqdm import tqdm"
   ]
  },
  {
   "cell_type": "code",
   "execution_count": 2,
   "metadata": {},
   "outputs": [
    {
     "name": "stderr",
     "output_type": "stream",
     "text": [
      "D:\\Miniconda3\\lib\\site-packages\\IPython\\core\\interactiveshell.py:2698: DtypeWarning: Columns (1,11) have mixed types. Specify dtype option on import or set low_memory=False.\n",
      "  interactivity=interactivity, compiler=compiler, result=result)\n",
      "D:\\Miniconda3\\lib\\site-packages\\IPython\\core\\interactiveshell.py:2698: DtypeWarning: Columns (1,8,9) have mixed types. Specify dtype option on import or set low_memory=False.\n",
      "  interactivity=interactivity, compiler=compiler, result=result)\n"
     ]
    }
   ],
   "source": [
    "train = pd.read_csv('data/train_set.csv')\n",
    "test = pd.read_csv('data/test_set.csv')\n",
    "\n",
    "train.rename(columns={ 'pos_adress_lat' : 'pos_address_lat', \n",
    "                       'pos_adress_lon' : 'pos_address_lon'}, inplace=True)"
   ]
  },
  {
   "cell_type": "code",
   "execution_count": 3,
   "metadata": {},
   "outputs": [
    {
     "name": "stdout",
     "output_type": "stream",
     "text": [
      "<class 'pandas.core.frame.DataFrame'>\n",
      "RangeIndex: 1265470 entries, 0 to 1265469\n",
      "Data columns (total 14 columns):\n",
      "amount              1265470 non-null float64\n",
      "atm_address         277497 non-null object\n",
      "atm_address_lat     194058 non-null float64\n",
      "atm_address_lon     194058 non-null float64\n",
      "city                1265462 non-null object\n",
      "country             1265470 non-null object\n",
      "currency            1265469 non-null float64\n",
      "customer_id         1265470 non-null object\n",
      "mcc                 1265470 non-null object\n",
      "pos_address         950360 non-null object\n",
      "pos_address_lat     972913 non-null float64\n",
      "pos_address_lon     972913 non-null float64\n",
      "terminal_id         1265454 non-null object\n",
      "transaction_date    1265469 non-null object\n",
      "dtypes: float64(6), object(8)\n",
      "memory usage: 135.2+ MB\n"
     ]
    }
   ],
   "source": [
    "test.info()"
   ]
  },
  {
   "cell_type": "code",
   "execution_count": 21,
   "metadata": {},
   "outputs": [
    {
     "data": {
      "text/plain": [
       "'CHANGE BOOTH(CHAWENG)\\\\RAT THANI   T\\\\84320     807THA'"
      ]
     },
     "execution_count": 21,
     "metadata": {},
     "output_type": "execute_result"
    }
   ],
   "source": [
    "test[test['terminal_id'].isnull() == True]['atm_address'].unique()[0]"
   ]
  },
  {
   "cell_type": "code",
   "execution_count": null,
   "metadata": {},
   "outputs": [],
   "source": []
  }
 ],
 "metadata": {
  "kernelspec": {
   "display_name": "Python 3",
   "language": "python",
   "name": "python3"
  },
  "language_info": {
   "codemirror_mode": {
    "name": "ipython",
    "version": 3
   },
   "file_extension": ".py",
   "mimetype": "text/x-python",
   "name": "python",
   "nbconvert_exporter": "python",
   "pygments_lexer": "ipython3",
   "version": "3.6.3"
  }
 },
 "nbformat": 4,
 "nbformat_minor": 2
}
