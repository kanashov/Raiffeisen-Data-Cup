{
 "cells": [
  {
   "cell_type": "code",
   "execution_count": 1,
   "metadata": {},
   "outputs": [],
   "source": [
    "import numpy as np\n",
    "import pandas as pd\n",
    "import seaborn as sns\n",
    "%matplotlib inline"
   ]
  },
  {
   "cell_type": "code",
   "execution_count": 3,
   "metadata": {
    "collapsed": true
   },
   "outputs": [],
   "source": [
    "import lightgbm as lgb"
   ]
  },
  {
   "cell_type": "code",
   "execution_count": 2,
   "metadata": {},
   "outputs": [
    {
     "name": "stderr",
     "output_type": "stream",
     "text": [
      "D:\\Miniconda3\\lib\\site-packages\\IPython\\core\\interactiveshell.py:2698: DtypeWarning: Columns (1,11) have mixed types. Specify dtype option on import or set low_memory=False.\n",
      "  interactivity=interactivity, compiler=compiler, result=result)\n",
      "D:\\Miniconda3\\lib\\site-packages\\IPython\\core\\interactiveshell.py:2698: DtypeWarning: Columns (1,8,9) have mixed types. Specify dtype option on import or set low_memory=False.\n",
      "  interactivity=interactivity, compiler=compiler, result=result)\n"
     ]
    }
   ],
   "source": [
    "train = pd.read_csv('data/train_set.csv')\n",
    "test = pd.read_csv('data/test_set.csv')\n",
    "\n",
    "train.rename(columns={ 'pos_adress_lat' : 'pos_address_lat', \n",
    "                       'pos_adress_lon' : 'pos_address_lon'}, inplace=True)"
   ]
  },
  {
   "cell_type": "code",
   "execution_count": 6,
   "metadata": {},
   "outputs": [
    {
     "data": {
      "text/plain": [
       "18"
      ]
     },
     "execution_count": 6,
     "metadata": {},
     "output_type": "execute_result"
    }
   ],
   "source": [
    "len(train.columns)"
   ]
  },
  {
   "cell_type": "code",
   "execution_count": null,
   "metadata": {
    "collapsed": true
   },
   "outputs": [],
   "source": [
    "train['pos_adress_lat']."
   ]
  },
  {
   "cell_type": "code",
   "execution_count": 36,
   "metadata": {
    "collapsed": true
   },
   "outputs": [],
   "source": [
    "a = pd.DataFrame()"
   ]
  },
  {
   "cell_type": "code",
   "execution_count": 38,
   "metadata": {},
   "outputs": [
    {
     "data": {
      "text/html": [
       "<div>\n",
       "<style>\n",
       "    .dataframe thead tr:only-child th {\n",
       "        text-align: right;\n",
       "    }\n",
       "\n",
       "    .dataframe thead th {\n",
       "        text-align: left;\n",
       "    }\n",
       "\n",
       "    .dataframe tbody tr th {\n",
       "        vertical-align: top;\n",
       "    }\n",
       "</style>\n",
       "<table border=\"1\" class=\"dataframe\">\n",
       "  <thead>\n",
       "    <tr style=\"text-align: right;\">\n",
       "      <th></th>\n",
       "      <th>ab</th>\n",
       "      <th>bc</th>\n",
       "    </tr>\n",
       "  </thead>\n",
       "  <tbody>\n",
       "    <tr>\n",
       "      <th>0</th>\n",
       "      <td>0</td>\n",
       "      <td>2</td>\n",
       "    </tr>\n",
       "    <tr>\n",
       "      <th>1</th>\n",
       "      <td>1</td>\n",
       "      <td>3</td>\n",
       "    </tr>\n",
       "  </tbody>\n",
       "</table>\n",
       "</div>"
      ],
      "text/plain": [
       "   ab  bc\n",
       "0   0   2\n",
       "1   1   3"
      ]
     },
     "execution_count": 38,
     "metadata": {},
     "output_type": "execute_result"
    }
   ],
   "source": [
    "a['ab'] = 0,1\n",
    "a['bc'] = 2,3\n",
    "a"
   ]
  },
  {
   "cell_type": "code",
   "execution_count": 39,
   "metadata": {
    "collapsed": true
   },
   "outputs": [],
   "source": [
    "a.rename(columns={ 'ab' : 'abc'}, inplace=True)"
   ]
  },
  {
   "cell_type": "code",
   "execution_count": 40,
   "metadata": {},
   "outputs": [
    {
     "data": {
      "text/html": [
       "<div>\n",
       "<style>\n",
       "    .dataframe thead tr:only-child th {\n",
       "        text-align: right;\n",
       "    }\n",
       "\n",
       "    .dataframe thead th {\n",
       "        text-align: left;\n",
       "    }\n",
       "\n",
       "    .dataframe tbody tr th {\n",
       "        vertical-align: top;\n",
       "    }\n",
       "</style>\n",
       "<table border=\"1\" class=\"dataframe\">\n",
       "  <thead>\n",
       "    <tr style=\"text-align: right;\">\n",
       "      <th></th>\n",
       "      <th>abc</th>\n",
       "      <th>bc</th>\n",
       "    </tr>\n",
       "  </thead>\n",
       "  <tbody>\n",
       "    <tr>\n",
       "      <th>0</th>\n",
       "      <td>0</td>\n",
       "      <td>2</td>\n",
       "    </tr>\n",
       "    <tr>\n",
       "      <th>1</th>\n",
       "      <td>1</td>\n",
       "      <td>3</td>\n",
       "    </tr>\n",
       "  </tbody>\n",
       "</table>\n",
       "</div>"
      ],
      "text/plain": [
       "   abc  bc\n",
       "0    0   2\n",
       "1    1   3"
      ]
     },
     "execution_count": 40,
     "metadata": {},
     "output_type": "execute_result"
    }
   ],
   "source": [
    "a"
   ]
  },
  {
   "cell_type": "code",
   "execution_count": 4,
   "metadata": {},
   "outputs": [
    {
     "data": {
      "text/html": [
       "<div>\n",
       "<style>\n",
       "    .dataframe thead tr:only-child th {\n",
       "        text-align: right;\n",
       "    }\n",
       "\n",
       "    .dataframe thead th {\n",
       "        text-align: left;\n",
       "    }\n",
       "\n",
       "    .dataframe tbody tr th {\n",
       "        vertical-align: top;\n",
       "    }\n",
       "</style>\n",
       "<table border=\"1\" class=\"dataframe\">\n",
       "  <thead>\n",
       "    <tr style=\"text-align: right;\">\n",
       "      <th></th>\n",
       "      <th>amount</th>\n",
       "      <th>atm_address</th>\n",
       "      <th>atm_address_lat</th>\n",
       "      <th>atm_address_lon</th>\n",
       "      <th>city</th>\n",
       "      <th>country</th>\n",
       "      <th>currency</th>\n",
       "      <th>customer_id</th>\n",
       "      <th>home_add_lat</th>\n",
       "      <th>home_add_lon</th>\n",
       "      <th>mcc</th>\n",
       "      <th>pos_address</th>\n",
       "      <th>pos_adress_lat</th>\n",
       "      <th>pos_adress_lon</th>\n",
       "      <th>terminal_id</th>\n",
       "      <th>transaction_date</th>\n",
       "      <th>work_add_lat</th>\n",
       "      <th>work_add_lon</th>\n",
       "    </tr>\n",
       "  </thead>\n",
       "  <tbody>\n",
       "    <tr>\n",
       "      <th>0</th>\n",
       "      <td>2.884034</td>\n",
       "      <td>NaN</td>\n",
       "      <td>NaN</td>\n",
       "      <td>NaN</td>\n",
       "      <td>ST PETERSBURG</td>\n",
       "      <td>RUS</td>\n",
       "      <td>643.0</td>\n",
       "      <td>0dc0137d280a2a82d2dc89282450ff1b</td>\n",
       "      <td>59.851</td>\n",
       "      <td>30.232</td>\n",
       "      <td>5261</td>\n",
       "      <td>NaN</td>\n",
       "      <td>59.844072</td>\n",
       "      <td>30.179153</td>\n",
       "      <td>11606fde0c814ce78e0d726e39a0a5ee</td>\n",
       "      <td>2017-07-15</td>\n",
       "      <td>59.847</td>\n",
       "      <td>30.177</td>\n",
       "    </tr>\n",
       "    <tr>\n",
       "      <th>1</th>\n",
       "      <td>2.775633</td>\n",
       "      <td>NaN</td>\n",
       "      <td>NaN</td>\n",
       "      <td>NaN</td>\n",
       "      <td>ST PETERSBURG</td>\n",
       "      <td>RUS</td>\n",
       "      <td>643.0</td>\n",
       "      <td>0dc0137d280a2a82d2dc89282450ff1b</td>\n",
       "      <td>59.851</td>\n",
       "      <td>30.232</td>\n",
       "      <td>5261</td>\n",
       "      <td>NaN</td>\n",
       "      <td>59.844072</td>\n",
       "      <td>30.179153</td>\n",
       "      <td>e9647a5e1eacfb06713b6af755ccc595</td>\n",
       "      <td>2017-10-27</td>\n",
       "      <td>59.847</td>\n",
       "      <td>30.177</td>\n",
       "    </tr>\n",
       "    <tr>\n",
       "      <th>2</th>\n",
       "      <td>3.708368</td>\n",
       "      <td>NaN</td>\n",
       "      <td>NaN</td>\n",
       "      <td>NaN</td>\n",
       "      <td>St Petersburg</td>\n",
       "      <td>RUS</td>\n",
       "      <td>643.0</td>\n",
       "      <td>0dc0137d280a2a82d2dc89282450ff1b</td>\n",
       "      <td>59.851</td>\n",
       "      <td>30.232</td>\n",
       "      <td>5992</td>\n",
       "      <td>PR.MARSHALA ZHUKOVA,31St Petersburg190000    7...</td>\n",
       "      <td>59.858198</td>\n",
       "      <td>30.229024</td>\n",
       "      <td>df06c1fcd3718a514535ae822785f716</td>\n",
       "      <td>2017-10-03</td>\n",
       "      <td>59.847</td>\n",
       "      <td>30.177</td>\n",
       "    </tr>\n",
       "    <tr>\n",
       "      <th>3</th>\n",
       "      <td>2.787498</td>\n",
       "      <td>NaN</td>\n",
       "      <td>NaN</td>\n",
       "      <td>NaN</td>\n",
       "      <td>ST PETERSBURG</td>\n",
       "      <td>RUS</td>\n",
       "      <td>643.0</td>\n",
       "      <td>0dc0137d280a2a82d2dc89282450ff1b</td>\n",
       "      <td>59.851</td>\n",
       "      <td>30.232</td>\n",
       "      <td>5261</td>\n",
       "      <td>NaN</td>\n",
       "      <td>59.844072</td>\n",
       "      <td>30.179153</td>\n",
       "      <td>6c5e5793ebc984fb72875feffff62854</td>\n",
       "      <td>2017-09-09</td>\n",
       "      <td>59.847</td>\n",
       "      <td>30.177</td>\n",
       "    </tr>\n",
       "    <tr>\n",
       "      <th>4</th>\n",
       "      <td>2.892510</td>\n",
       "      <td>NaN</td>\n",
       "      <td>NaN</td>\n",
       "      <td>NaN</td>\n",
       "      <td>ST PETERSBURG</td>\n",
       "      <td>RUS</td>\n",
       "      <td>643.0</td>\n",
       "      <td>0dc0137d280a2a82d2dc89282450ff1b</td>\n",
       "      <td>59.851</td>\n",
       "      <td>30.232</td>\n",
       "      <td>5261</td>\n",
       "      <td>NaN</td>\n",
       "      <td>59.844072</td>\n",
       "      <td>30.179153</td>\n",
       "      <td>0576445d74e374c92c0902e612fca356</td>\n",
       "      <td>2017-07-06</td>\n",
       "      <td>59.847</td>\n",
       "      <td>30.177</td>\n",
       "    </tr>\n",
       "  </tbody>\n",
       "</table>\n",
       "</div>"
      ],
      "text/plain": [
       "     amount atm_address  atm_address_lat  atm_address_lon           city  \\\n",
       "0  2.884034         NaN              NaN              NaN  ST PETERSBURG   \n",
       "1  2.775633         NaN              NaN              NaN  ST PETERSBURG   \n",
       "2  3.708368         NaN              NaN              NaN  St Petersburg   \n",
       "3  2.787498         NaN              NaN              NaN  ST PETERSBURG   \n",
       "4  2.892510         NaN              NaN              NaN  ST PETERSBURG   \n",
       "\n",
       "  country  currency                       customer_id  home_add_lat  \\\n",
       "0     RUS     643.0  0dc0137d280a2a82d2dc89282450ff1b        59.851   \n",
       "1     RUS     643.0  0dc0137d280a2a82d2dc89282450ff1b        59.851   \n",
       "2     RUS     643.0  0dc0137d280a2a82d2dc89282450ff1b        59.851   \n",
       "3     RUS     643.0  0dc0137d280a2a82d2dc89282450ff1b        59.851   \n",
       "4     RUS     643.0  0dc0137d280a2a82d2dc89282450ff1b        59.851   \n",
       "\n",
       "   home_add_lon   mcc                                        pos_address  \\\n",
       "0        30.232  5261                                                NaN   \n",
       "1        30.232  5261                                                NaN   \n",
       "2        30.232  5992  PR.MARSHALA ZHUKOVA,31St Petersburg190000    7...   \n",
       "3        30.232  5261                                                NaN   \n",
       "4        30.232  5261                                                NaN   \n",
       "\n",
       "   pos_adress_lat  pos_adress_lon                       terminal_id  \\\n",
       "0       59.844072       30.179153  11606fde0c814ce78e0d726e39a0a5ee   \n",
       "1       59.844072       30.179153  e9647a5e1eacfb06713b6af755ccc595   \n",
       "2       59.858198       30.229024  df06c1fcd3718a514535ae822785f716   \n",
       "3       59.844072       30.179153  6c5e5793ebc984fb72875feffff62854   \n",
       "4       59.844072       30.179153  0576445d74e374c92c0902e612fca356   \n",
       "\n",
       "  transaction_date  work_add_lat  work_add_lon  \n",
       "0       2017-07-15        59.847        30.177  \n",
       "1       2017-10-27        59.847        30.177  \n",
       "2       2017-10-03        59.847        30.177  \n",
       "3       2017-09-09        59.847        30.177  \n",
       "4       2017-07-06        59.847        30.177  "
      ]
     },
     "execution_count": 4,
     "metadata": {},
     "output_type": "execute_result"
    }
   ],
   "source": [
    "train.head()"
   ]
  },
  {
   "cell_type": "code",
   "execution_count": 5,
   "metadata": {},
   "outputs": [
    {
     "data": {
      "text/html": [
       "<div>\n",
       "<style>\n",
       "    .dataframe thead tr:only-child th {\n",
       "        text-align: right;\n",
       "    }\n",
       "\n",
       "    .dataframe thead th {\n",
       "        text-align: left;\n",
       "    }\n",
       "\n",
       "    .dataframe tbody tr th {\n",
       "        vertical-align: top;\n",
       "    }\n",
       "</style>\n",
       "<table border=\"1\" class=\"dataframe\">\n",
       "  <thead>\n",
       "    <tr style=\"text-align: right;\">\n",
       "      <th></th>\n",
       "      <th>amount</th>\n",
       "      <th>atm_address</th>\n",
       "      <th>atm_address_lat</th>\n",
       "      <th>atm_address_lon</th>\n",
       "      <th>city</th>\n",
       "      <th>country</th>\n",
       "      <th>currency</th>\n",
       "      <th>customer_id</th>\n",
       "      <th>mcc</th>\n",
       "      <th>pos_address</th>\n",
       "      <th>pos_address_lat</th>\n",
       "      <th>pos_address_lon</th>\n",
       "      <th>terminal_id</th>\n",
       "      <th>transaction_date</th>\n",
       "    </tr>\n",
       "  </thead>\n",
       "  <tbody>\n",
       "    <tr>\n",
       "      <th>0</th>\n",
       "      <td>2.211818</td>\n",
       "      <td>NaN</td>\n",
       "      <td>NaN</td>\n",
       "      <td>NaN</td>\n",
       "      <td>IVANTEEVKA</td>\n",
       "      <td>RUS</td>\n",
       "      <td>643.0</td>\n",
       "      <td>00fd410f5c580c8351cafa88d82b60f3</td>\n",
       "      <td>5,411</td>\n",
       "      <td>2-1 TOLMACHEVA STRIVANTEEVKA141280    RUSRUS</td>\n",
       "      <td>55.967487</td>\n",
       "      <td>37.913682</td>\n",
       "      <td>ff0476dae4b098a7b16aabe93d4268df</td>\n",
       "      <td>2017-08-24</td>\n",
       "    </tr>\n",
       "    <tr>\n",
       "      <th>1</th>\n",
       "      <td>1.331379</td>\n",
       "      <td>NaN</td>\n",
       "      <td>NaN</td>\n",
       "      <td>NaN</td>\n",
       "      <td>IVANTEEVKA</td>\n",
       "      <td>RUS</td>\n",
       "      <td>643.0</td>\n",
       "      <td>00fd410f5c580c8351cafa88d82b60f3</td>\n",
       "      <td>4,111</td>\n",
       "      <td>SOVETSKIJ, 32IVANTEEVKA141282    RUSRUS</td>\n",
       "      <td>55.971296</td>\n",
       "      <td>37.905184</td>\n",
       "      <td>7cfd9a60282459d4692ecc85b856072e</td>\n",
       "      <td>2017-08-12</td>\n",
       "    </tr>\n",
       "    <tr>\n",
       "      <th>2</th>\n",
       "      <td>2.608004</td>\n",
       "      <td>NaN</td>\n",
       "      <td>NaN</td>\n",
       "      <td>NaN</td>\n",
       "      <td>PUSHKINO</td>\n",
       "      <td>RUS</td>\n",
       "      <td>643.0</td>\n",
       "      <td>00fd410f5c580c8351cafa88d82b60f3</td>\n",
       "      <td>5,411</td>\n",
       "      <td>105,KRASOARMEYSKOE SHPUSHKINO141206    RUSRUS</td>\n",
       "      <td>56.016591</td>\n",
       "      <td>37.909098</td>\n",
       "      <td>7e5a532f0029861d8a9c4f0479b9450b</td>\n",
       "      <td>2017-06-17</td>\n",
       "    </tr>\n",
       "    <tr>\n",
       "      <th>3</th>\n",
       "      <td>1.916752</td>\n",
       "      <td>NaN</td>\n",
       "      <td>NaN</td>\n",
       "      <td>NaN</td>\n",
       "      <td>IVANTEEVKA</td>\n",
       "      <td>RUS</td>\n",
       "      <td>643.0</td>\n",
       "      <td>00fd410f5c580c8351cafa88d82b60f3</td>\n",
       "      <td>5,411</td>\n",
       "      <td>G. IVANTEEVKA, UL.TOLMACHEVA, D.6IVANTEEVKA141...</td>\n",
       "      <td>55.964507</td>\n",
       "      <td>37.937912</td>\n",
       "      <td>2afe7d1bc61b86c449f413bdf2119032</td>\n",
       "      <td>2017-08-12</td>\n",
       "    </tr>\n",
       "    <tr>\n",
       "      <th>4</th>\n",
       "      <td>1.981067</td>\n",
       "      <td>NaN</td>\n",
       "      <td>NaN</td>\n",
       "      <td>NaN</td>\n",
       "      <td>MOSCOW</td>\n",
       "      <td>RUS</td>\n",
       "      <td>643.0</td>\n",
       "      <td>00fd410f5c580c8351cafa88d82b60f3</td>\n",
       "      <td>5,814</td>\n",
       "      <td>5 KOMSOMOLSKAYA SQMOSCOW101000    RUSRUS</td>\n",
       "      <td>55.776802</td>\n",
       "      <td>37.657352</td>\n",
       "      <td>ab4f00601ff1d949afc59ee3f804c79c</td>\n",
       "      <td>2017-04-26</td>\n",
       "    </tr>\n",
       "  </tbody>\n",
       "</table>\n",
       "</div>"
      ],
      "text/plain": [
       "     amount atm_address  atm_address_lat  atm_address_lon        city country  \\\n",
       "0  2.211818         NaN              NaN              NaN  IVANTEEVKA     RUS   \n",
       "1  1.331379         NaN              NaN              NaN  IVANTEEVKA     RUS   \n",
       "2  2.608004         NaN              NaN              NaN    PUSHKINO     RUS   \n",
       "3  1.916752         NaN              NaN              NaN  IVANTEEVKA     RUS   \n",
       "4  1.981067         NaN              NaN              NaN      MOSCOW     RUS   \n",
       "\n",
       "   currency                       customer_id    mcc  \\\n",
       "0     643.0  00fd410f5c580c8351cafa88d82b60f3  5,411   \n",
       "1     643.0  00fd410f5c580c8351cafa88d82b60f3  4,111   \n",
       "2     643.0  00fd410f5c580c8351cafa88d82b60f3  5,411   \n",
       "3     643.0  00fd410f5c580c8351cafa88d82b60f3  5,411   \n",
       "4     643.0  00fd410f5c580c8351cafa88d82b60f3  5,814   \n",
       "\n",
       "                                         pos_address  pos_address_lat  \\\n",
       "0       2-1 TOLMACHEVA STRIVANTEEVKA141280    RUSRUS        55.967487   \n",
       "1            SOVETSKIJ, 32IVANTEEVKA141282    RUSRUS        55.971296   \n",
       "2      105,KRASOARMEYSKOE SHPUSHKINO141206    RUSRUS        56.016591   \n",
       "3  G. IVANTEEVKA, UL.TOLMACHEVA, D.6IVANTEEVKA141...        55.964507   \n",
       "4           5 KOMSOMOLSKAYA SQMOSCOW101000    RUSRUS        55.776802   \n",
       "\n",
       "   pos_address_lon                       terminal_id transaction_date  \n",
       "0        37.913682  ff0476dae4b098a7b16aabe93d4268df       2017-08-24  \n",
       "1        37.905184  7cfd9a60282459d4692ecc85b856072e       2017-08-12  \n",
       "2        37.909098  7e5a532f0029861d8a9c4f0479b9450b       2017-06-17  \n",
       "3        37.937912  2afe7d1bc61b86c449f413bdf2119032       2017-08-12  \n",
       "4        37.657352  ab4f00601ff1d949afc59ee3f804c79c       2017-04-26  "
      ]
     },
     "execution_count": 5,
     "metadata": {},
     "output_type": "execute_result"
    }
   ],
   "source": [
    "test.head()"
   ]
  },
  {
   "cell_type": "code",
   "execution_count": 27,
   "metadata": {},
   "outputs": [
    {
     "name": "stdout",
     "output_type": "stream",
     "text": [
      "<class 'pandas.core.frame.DataFrame'>\n",
      "RangeIndex: 1224734 entries, 0 to 1224733\n",
      "Data columns (total 18 columns):\n",
      "amount              1224734 non-null float64\n",
      "atm_address         269473 non-null object\n",
      "atm_address_lat     184680 non-null float64\n",
      "atm_address_lon     184680 non-null float64\n",
      "city                1224725 non-null object\n",
      "country             1224734 non-null object\n",
      "currency            1224690 non-null float64\n",
      "customer_id         1224734 non-null object\n",
      "home_add_lat        1224718 non-null float64\n",
      "home_add_lon        1224718 non-null float64\n",
      "mcc                 1224734 non-null int64\n",
      "pos_address         924991 non-null object\n",
      "pos_adress_lat      942614 non-null float64\n",
      "pos_adress_lon      942614 non-null float64\n",
      "terminal_id         1224705 non-null object\n",
      "transaction_date    1224690 non-null object\n",
      "work_add_lat        664660 non-null float64\n",
      "work_add_lon        664660 non-null float64\n",
      "dtypes: float64(10), int64(1), object(7)\n",
      "memory usage: 168.2+ MB\n"
     ]
    }
   ],
   "source": [
    "train.info()"
   ]
  },
  {
   "cell_type": "code",
   "execution_count": 28,
   "metadata": {
    "scrolled": true
   },
   "outputs": [
    {
     "data": {
      "text/html": [
       "<div>\n",
       "<style>\n",
       "    .dataframe thead tr:only-child th {\n",
       "        text-align: right;\n",
       "    }\n",
       "\n",
       "    .dataframe thead th {\n",
       "        text-align: left;\n",
       "    }\n",
       "\n",
       "    .dataframe tbody tr th {\n",
       "        vertical-align: top;\n",
       "    }\n",
       "</style>\n",
       "<table border=\"1\" class=\"dataframe\">\n",
       "  <thead>\n",
       "    <tr style=\"text-align: right;\">\n",
       "      <th></th>\n",
       "      <th>amount</th>\n",
       "      <th>atm_address_lat</th>\n",
       "      <th>atm_address_lon</th>\n",
       "      <th>currency</th>\n",
       "      <th>home_add_lat</th>\n",
       "      <th>home_add_lon</th>\n",
       "      <th>mcc</th>\n",
       "      <th>pos_adress_lat</th>\n",
       "      <th>pos_adress_lon</th>\n",
       "      <th>work_add_lat</th>\n",
       "      <th>work_add_lon</th>\n",
       "    </tr>\n",
       "  </thead>\n",
       "  <tbody>\n",
       "    <tr>\n",
       "      <th>count</th>\n",
       "      <td>1.224734e+06</td>\n",
       "      <td>184680.000000</td>\n",
       "      <td>184680.000000</td>\n",
       "      <td>1.224690e+06</td>\n",
       "      <td>1.224718e+06</td>\n",
       "      <td>1.224718e+06</td>\n",
       "      <td>1.224734e+06</td>\n",
       "      <td>942614.000000</td>\n",
       "      <td>942614.000000</td>\n",
       "      <td>664660.000000</td>\n",
       "      <td>664660.000000</td>\n",
       "    </tr>\n",
       "    <tr>\n",
       "      <th>mean</th>\n",
       "      <td>2.828950e+00</td>\n",
       "      <td>56.070154</td>\n",
       "      <td>40.256464</td>\n",
       "      <td>6.440719e+02</td>\n",
       "      <td>5.613301e+01</td>\n",
       "      <td>4.067607e+01</td>\n",
       "      <td>5.698178e+03</td>\n",
       "      <td>56.179663</td>\n",
       "      <td>40.317367</td>\n",
       "      <td>56.232291</td>\n",
       "      <td>40.453782</td>\n",
       "    </tr>\n",
       "    <tr>\n",
       "      <th>std</th>\n",
       "      <td>7.247219e-01</td>\n",
       "      <td>3.437232</td>\n",
       "      <td>12.830634</td>\n",
       "      <td>2.196238e+01</td>\n",
       "      <td>3.349861e+00</td>\n",
       "      <td>1.360609e+01</td>\n",
       "      <td>5.007560e+02</td>\n",
       "      <td>3.306415</td>\n",
       "      <td>13.334232</td>\n",
       "      <td>3.163262</td>\n",
       "      <td>13.414844</td>\n",
       "    </tr>\n",
       "    <tr>\n",
       "      <th>min</th>\n",
       "      <td>-2.012356e+00</td>\n",
       "      <td>42.053000</td>\n",
       "      <td>20.169000</td>\n",
       "      <td>8.000000e+00</td>\n",
       "      <td>4.211100e+01</td>\n",
       "      <td>1.991000e+01</td>\n",
       "      <td>5.000000e+01</td>\n",
       "      <td>42.102032</td>\n",
       "      <td>19.887847</td>\n",
       "      <td>43.110000</td>\n",
       "      <td>19.911000</td>\n",
       "    </tr>\n",
       "    <tr>\n",
       "      <th>25%</th>\n",
       "      <td>2.328945e+00</td>\n",
       "      <td>55.648000</td>\n",
       "      <td>36.412000</td>\n",
       "      <td>6.430000e+02</td>\n",
       "      <td>5.561500e+01</td>\n",
       "      <td>3.619200e+01</td>\n",
       "      <td>5.411000e+03</td>\n",
       "      <td>55.646963</td>\n",
       "      <td>36.054865</td>\n",
       "      <td>55.702000</td>\n",
       "      <td>36.565000</td>\n",
       "    </tr>\n",
       "    <tr>\n",
       "      <th>50%</th>\n",
       "      <td>2.738351e+00</td>\n",
       "      <td>55.781000</td>\n",
       "      <td>37.602000</td>\n",
       "      <td>6.430000e+02</td>\n",
       "      <td>5.580100e+01</td>\n",
       "      <td>3.759200e+01</td>\n",
       "      <td>5.812000e+03</td>\n",
       "      <td>55.789848</td>\n",
       "      <td>37.587280</td>\n",
       "      <td>55.776000</td>\n",
       "      <td>37.594000</td>\n",
       "    </tr>\n",
       "    <tr>\n",
       "      <th>75%</th>\n",
       "      <td>3.279038e+00</td>\n",
       "      <td>59.122000</td>\n",
       "      <td>37.928000</td>\n",
       "      <td>6.430000e+02</td>\n",
       "      <td>5.911800e+01</td>\n",
       "      <td>3.844000e+01</td>\n",
       "      <td>6.011000e+03</td>\n",
       "      <td>59.117524</td>\n",
       "      <td>37.972392</td>\n",
       "      <td>59.134000</td>\n",
       "      <td>37.820000</td>\n",
       "    </tr>\n",
       "    <tr>\n",
       "      <th>max</th>\n",
       "      <td>6.075307e+00</td>\n",
       "      <td>69.361000</td>\n",
       "      <td>142.735000</td>\n",
       "      <td>9.850000e+02</td>\n",
       "      <td>6.939900e+01</td>\n",
       "      <td>1.508440e+02</td>\n",
       "      <td>9.402000e+03</td>\n",
       "      <td>71.581001</td>\n",
       "      <td>159.892567</td>\n",
       "      <td>64.597000</td>\n",
       "      <td>142.742000</td>\n",
       "    </tr>\n",
       "  </tbody>\n",
       "</table>\n",
       "</div>"
      ],
      "text/plain": [
       "             amount  atm_address_lat  atm_address_lon      currency  \\\n",
       "count  1.224734e+06    184680.000000    184680.000000  1.224690e+06   \n",
       "mean   2.828950e+00        56.070154        40.256464  6.440719e+02   \n",
       "std    7.247219e-01         3.437232        12.830634  2.196238e+01   \n",
       "min   -2.012356e+00        42.053000        20.169000  8.000000e+00   \n",
       "25%    2.328945e+00        55.648000        36.412000  6.430000e+02   \n",
       "50%    2.738351e+00        55.781000        37.602000  6.430000e+02   \n",
       "75%    3.279038e+00        59.122000        37.928000  6.430000e+02   \n",
       "max    6.075307e+00        69.361000       142.735000  9.850000e+02   \n",
       "\n",
       "       home_add_lat  home_add_lon           mcc  pos_adress_lat  \\\n",
       "count  1.224718e+06  1.224718e+06  1.224734e+06   942614.000000   \n",
       "mean   5.613301e+01  4.067607e+01  5.698178e+03       56.179663   \n",
       "std    3.349861e+00  1.360609e+01  5.007560e+02        3.306415   \n",
       "min    4.211100e+01  1.991000e+01  5.000000e+01       42.102032   \n",
       "25%    5.561500e+01  3.619200e+01  5.411000e+03       55.646963   \n",
       "50%    5.580100e+01  3.759200e+01  5.812000e+03       55.789848   \n",
       "75%    5.911800e+01  3.844000e+01  6.011000e+03       59.117524   \n",
       "max    6.939900e+01  1.508440e+02  9.402000e+03       71.581001   \n",
       "\n",
       "       pos_adress_lon   work_add_lat   work_add_lon  \n",
       "count   942614.000000  664660.000000  664660.000000  \n",
       "mean        40.317367      56.232291      40.453782  \n",
       "std         13.334232       3.163262      13.414844  \n",
       "min         19.887847      43.110000      19.911000  \n",
       "25%         36.054865      55.702000      36.565000  \n",
       "50%         37.587280      55.776000      37.594000  \n",
       "75%         37.972392      59.134000      37.820000  \n",
       "max        159.892567      64.597000     142.742000  "
      ]
     },
     "execution_count": 28,
     "metadata": {},
     "output_type": "execute_result"
    }
   ],
   "source": [
    "train.describe()"
   ]
  },
  {
   "cell_type": "code",
   "execution_count": 29,
   "metadata": {},
   "outputs": [
    {
     "data": {
      "text/plain": [
       "(1224734, 18)"
      ]
     },
     "execution_count": 29,
     "metadata": {},
     "output_type": "execute_result"
    }
   ],
   "source": [
    "train.shape"
   ]
  },
  {
   "cell_type": "code",
   "execution_count": 30,
   "metadata": {},
   "outputs": [
    {
     "data": {
      "text/plain": [
       "Index(['amount', 'atm_address', 'atm_address_lat', 'atm_address_lon', 'city',\n",
       "       'country', 'currency', 'customer_id', 'home_add_lat', 'home_add_lon',\n",
       "       'mcc', 'pos_address', 'pos_adress_lat', 'pos_adress_lon', 'terminal_id',\n",
       "       'transaction_date', 'work_add_lat', 'work_add_lon'],\n",
       "      dtype='object')"
      ]
     },
     "execution_count": 30,
     "metadata": {},
     "output_type": "execute_result"
    }
   ],
   "source": [
    "train.columns"
   ]
  },
  {
   "cell_type": "code",
   "execution_count": 41,
   "metadata": {},
   "outputs": [
    {
     "data": {
      "text/plain": [
       "Index(['amount', 'atm_address', 'atm_address_lat', 'atm_address_lon', 'city',\n",
       "       'country', 'currency', 'customer_id', 'mcc', 'pos_address',\n",
       "       'pos_address_lat', 'pos_address_lon', 'terminal_id',\n",
       "       'transaction_date'],\n",
       "      dtype='object')"
      ]
     },
     "execution_count": 41,
     "metadata": {},
     "output_type": "execute_result"
    }
   ],
   "source": [
    "test.columns"
   ]
  },
  {
   "cell_type": "code",
   "execution_count": 31,
   "metadata": {},
   "outputs": [
    {
     "data": {
      "text/plain": [
       "<matplotlib.axes._subplots.AxesSubplot at 0x180bbac2da0>"
      ]
     },
     "execution_count": 31,
     "metadata": {},
     "output_type": "execute_result"
    },
    {
     "data": {
      "image/png": "[encoded data removed]",
      "text/plain": [
       "<matplotlib.figure.Figure at 0x180bbac2630>"
      ]
     },
     "metadata": {},
     "output_type": "display_data"
    }
   ],
   "source": [
    "sns.distplot(train['amount'])"
   ]
  },
  {
   "cell_type": "code",
   "execution_count": 32,
   "metadata": {},
   "outputs": [
    {
     "data": {
      "image/png": "[encoded data removed]",
      "text/plain": [
       "<matplotlib.figure.Figure at 0x180bbc0d0b8>"
      ]
     },
     "metadata": {},
     "output_type": "display_data"
    }
   ],
   "source": [
    "train['amount'].hist();"
   ]
  },
  {
   "cell_type": "code",
   "execution_count": 33,
   "metadata": {},
   "outputs": [
    {
     "data": {
      "text/html": [
       "<div>\n",
       "<style>\n",
       "    .dataframe thead tr:only-child th {\n",
       "        text-align: right;\n",
       "    }\n",
       "\n",
       "    .dataframe thead th {\n",
       "        text-align: left;\n",
       "    }\n",
       "\n",
       "    .dataframe tbody tr th {\n",
       "        vertical-align: top;\n",
       "    }\n",
       "</style>\n",
       "<table border=\"1\" class=\"dataframe\">\n",
       "  <thead>\n",
       "    <tr style=\"text-align: right;\">\n",
       "      <th></th>\n",
       "      <th>atm_address</th>\n",
       "      <th>city</th>\n",
       "      <th>country</th>\n",
       "      <th>customer_id</th>\n",
       "      <th>pos_address</th>\n",
       "      <th>terminal_id</th>\n",
       "      <th>transaction_date</th>\n",
       "    </tr>\n",
       "  </thead>\n",
       "  <tbody>\n",
       "    <tr>\n",
       "      <th>count</th>\n",
       "      <td>269473</td>\n",
       "      <td>1224725</td>\n",
       "      <td>1224734</td>\n",
       "      <td>1224734</td>\n",
       "      <td>924991</td>\n",
       "      <td>1224705</td>\n",
       "      <td>1224690</td>\n",
       "    </tr>\n",
       "    <tr>\n",
       "      <th>unique</th>\n",
       "      <td>17693</td>\n",
       "      <td>7085</td>\n",
       "      <td>127</td>\n",
       "      <td>10000</td>\n",
       "      <td>88957</td>\n",
       "      <td>208383</td>\n",
       "      <td>316</td>\n",
       "    </tr>\n",
       "    <tr>\n",
       "      <th>top</th>\n",
       "      <td>Череповец, ул. Мира, д. 30</td>\n",
       "      <td>MOSCOW</td>\n",
       "      <td>RUS</td>\n",
       "      <td>f1075f6513de30f64d69cef2e4bb7b35</td>\n",
       "      <td>VOLGOGRADSKIIY PR-T, 42MOSKVA       109316    ...</td>\n",
       "      <td>9663c3a3f047f284926a166405f30856</td>\n",
       "      <td>2017-06-09</td>\n",
       "    </tr>\n",
       "    <tr>\n",
       "      <th>freq</th>\n",
       "      <td>1488</td>\n",
       "      <td>267527</td>\n",
       "      <td>1214411</td>\n",
       "      <td>1891</td>\n",
       "      <td>1513</td>\n",
       "      <td>622</td>\n",
       "      <td>7051</td>\n",
       "    </tr>\n",
       "  </tbody>\n",
       "</table>\n",
       "</div>"
      ],
      "text/plain": [
       "                       atm_address     city  country  \\\n",
       "count                       269473  1224725  1224734   \n",
       "unique                       17693     7085      127   \n",
       "top     Череповец, ул. Мира, д. 30   MOSCOW      RUS   \n",
       "freq                          1488   267527  1214411   \n",
       "\n",
       "                             customer_id  \\\n",
       "count                            1224734   \n",
       "unique                             10000   \n",
       "top     f1075f6513de30f64d69cef2e4bb7b35   \n",
       "freq                                1891   \n",
       "\n",
       "                                              pos_address  \\\n",
       "count                                              924991   \n",
       "unique                                              88957   \n",
       "top     VOLGOGRADSKIIY PR-T, 42MOSKVA       109316    ...   \n",
       "freq                                                 1513   \n",
       "\n",
       "                             terminal_id transaction_date  \n",
       "count                            1224705          1224690  \n",
       "unique                            208383              316  \n",
       "top     9663c3a3f047f284926a166405f30856       2017-06-09  \n",
       "freq                                 622             7051  "
      ]
     },
     "execution_count": 33,
     "metadata": {},
     "output_type": "execute_result"
    }
   ],
   "source": [
    "train.describe(include=['object'])"
   ]
  },
  {
   "cell_type": "code",
   "execution_count": 35,
   "metadata": {},
   "outputs": [
    {
     "data": {
      "text/plain": [
       "Череповец, ул. Мира, д. 30                                                 1488\n",
       "Санкт-Петербург, ш. Левашовское, д. 20А, Курортный район, г. Сестрорецк    1072\n",
       "Санкт-Петербург, бул. Новаторов, д. 11                                      994\n",
       "Санкт-Петербург, ул. Смоленская, д. 18А                                     967\n",
       "Санкт-Петербург, пр. Комендантский, д. 13, корп.1                           919\n",
       "Москва, ул. Василисы Кожиной, д. 1, корп.1                                  862\n",
       "Санкт-Петербург, пр. Большевиков, д. 3, корп.1, стр.А                       857\n",
       "Санкт-Петербург, пр. Просвещения, д. 36/141А                                805\n",
       "Санкт-Петербург, пр. Московский, д. 216                                     796\n",
       "Подольск, пр. Революционный, д. 62                                          763\n",
       "Name: atm_address, dtype: int64"
      ]
     },
     "execution_count": 35,
     "metadata": {},
     "output_type": "execute_result"
    }
   ],
   "source": [
    "train['atm_address'].value_counts()[:10]"
   ]
  },
  {
   "cell_type": "code",
   "execution_count": 5,
   "metadata": {},
   "outputs": [
    {
     "data": {
      "text/plain": [
       "Index(['amount', 'atm_address', 'atm_address_lat', 'atm_address_lon', 'city',\n",
       "       'country', 'currency', 'customer_id', 'home_add_lat', 'home_add_lon',\n",
       "       'mcc', 'pos_address', 'pos_address_lat', 'pos_address_lon',\n",
       "       'terminal_id', 'transaction_date', 'work_add_lat', 'work_add_lon'],\n",
       "      dtype='object')"
      ]
     },
     "execution_count": 5,
     "metadata": {},
     "output_type": "execute_result"
    }
   ],
   "source": [
    "train.columns"
   ]
  },
  {
   "cell_type": "code",
   "execution_count": 21,
   "metadata": {
    "collapsed": true
   },
   "outputs": [],
   "source": [
    "X_train = train.drop(['home_add_lat', 'home_add_lon','work_add_lat', 'work_add_lon'], axis=1)"
   ]
  },
  {
   "cell_type": "code",
   "execution_count": 23,
   "metadata": {},
   "outputs": [
    {
     "data": {
      "text/html": [
       "<div>\n",
       "<style>\n",
       "    .dataframe thead tr:only-child th {\n",
       "        text-align: right;\n",
       "    }\n",
       "\n",
       "    .dataframe thead th {\n",
       "        text-align: left;\n",
       "    }\n",
       "\n",
       "    .dataframe tbody tr th {\n",
       "        vertical-align: top;\n",
       "    }\n",
       "</style>\n",
       "<table border=\"1\" class=\"dataframe\">\n",
       "  <thead>\n",
       "    <tr style=\"text-align: right;\">\n",
       "      <th></th>\n",
       "      <th>amount</th>\n",
       "      <th>atm_address</th>\n",
       "      <th>atm_address_lat</th>\n",
       "      <th>atm_address_lon</th>\n",
       "      <th>city</th>\n",
       "      <th>country</th>\n",
       "      <th>currency</th>\n",
       "      <th>customer_id</th>\n",
       "      <th>mcc</th>\n",
       "      <th>pos_address</th>\n",
       "      <th>pos_address_lat</th>\n",
       "      <th>pos_address_lon</th>\n",
       "      <th>terminal_id</th>\n",
       "      <th>transaction_date</th>\n",
       "    </tr>\n",
       "  </thead>\n",
       "  <tbody>\n",
       "    <tr>\n",
       "      <th>0</th>\n",
       "      <td>2.884034</td>\n",
       "      <td>NaN</td>\n",
       "      <td>NaN</td>\n",
       "      <td>NaN</td>\n",
       "      <td>ST PETERSBURG</td>\n",
       "      <td>RUS</td>\n",
       "      <td>643.0</td>\n",
       "      <td>0dc0137d280a2a82d2dc89282450ff1b</td>\n",
       "      <td>5261</td>\n",
       "      <td>NaN</td>\n",
       "      <td>59.844072</td>\n",
       "      <td>30.179153</td>\n",
       "      <td>11606fde0c814ce78e0d726e39a0a5ee</td>\n",
       "      <td>2017-07-15</td>\n",
       "    </tr>\n",
       "    <tr>\n",
       "      <th>1</th>\n",
       "      <td>2.775633</td>\n",
       "      <td>NaN</td>\n",
       "      <td>NaN</td>\n",
       "      <td>NaN</td>\n",
       "      <td>ST PETERSBURG</td>\n",
       "      <td>RUS</td>\n",
       "      <td>643.0</td>\n",
       "      <td>0dc0137d280a2a82d2dc89282450ff1b</td>\n",
       "      <td>5261</td>\n",
       "      <td>NaN</td>\n",
       "      <td>59.844072</td>\n",
       "      <td>30.179153</td>\n",
       "      <td>e9647a5e1eacfb06713b6af755ccc595</td>\n",
       "      <td>2017-10-27</td>\n",
       "    </tr>\n",
       "  </tbody>\n",
       "</table>\n",
       "</div>"
      ],
      "text/plain": [
       "     amount atm_address  atm_address_lat  atm_address_lon           city  \\\n",
       "0  2.884034         NaN              NaN              NaN  ST PETERSBURG   \n",
       "1  2.775633         NaN              NaN              NaN  ST PETERSBURG   \n",
       "\n",
       "  country  currency                       customer_id   mcc pos_address  \\\n",
       "0     RUS     643.0  0dc0137d280a2a82d2dc89282450ff1b  5261         NaN   \n",
       "1     RUS     643.0  0dc0137d280a2a82d2dc89282450ff1b  5261         NaN   \n",
       "\n",
       "   pos_address_lat  pos_address_lon                       terminal_id  \\\n",
       "0        59.844072        30.179153  11606fde0c814ce78e0d726e39a0a5ee   \n",
       "1        59.844072        30.179153  e9647a5e1eacfb06713b6af755ccc595   \n",
       "\n",
       "  transaction_date  \n",
       "0       2017-07-15  \n",
       "1       2017-10-27  "
      ]
     },
     "execution_count": 23,
     "metadata": {},
     "output_type": "execute_result"
    }
   ],
   "source": [
    "X_train[:2]"
   ]
  },
  {
   "cell_type": "code",
   "execution_count": 24,
   "metadata": {
    "collapsed": true
   },
   "outputs": [],
   "source": [
    "Y_train_home_lat = train['home_add_lat']\n",
    "Y_train_home_lon = train['home_add_lon']\n",
    "Y_train_work_lat = train['work_add_lat']\n",
    "Y_train_work_lon = train['work_add_lon']"
   ]
  },
  {
   "cell_type": "code",
   "execution_count": 30,
   "metadata": {
    "collapsed": true
   },
   "outputs": [],
   "source": [
    "X_train_lgb = lgb.Dataset(X_train, Y_train_home_lat)"
   ]
  },
  {
   "cell_type": "code",
   "execution_count": 31,
   "metadata": {},
   "outputs": [
    {
     "data": {
      "text/plain": [
       "<lightgbm.basic.Dataset at 0x2001a36ff60>"
      ]
     },
     "execution_count": 31,
     "metadata": {},
     "output_type": "execute_result"
    }
   ],
   "source": [
    "X_train_lgb."
   ]
  },
  {
   "cell_type": "code",
   "execution_count": 32,
   "metadata": {
    "collapsed": true
   },
   "outputs": [],
   "source": [
    "param = {'num_trees': 100000,\n",
    "         'application':'regression',\n",
    "         'learning_rate': 0.01, 'num_threads': 7, \n",
    "         'max_depth': 10,\n",
    "         'lambda_l2': 1e-3}\n",
    "param['metric'] = 'mse'"
   ]
  },
  {
   "cell_type": "code",
   "execution_count": 35,
   "metadata": {
    "collapsed": true
   },
   "outputs": [],
   "source": [
    "lgb.train?"
   ]
  },
  {
   "cell_type": "code",
   "execution_count": null,
   "metadata": {
    "collapsed": true
   },
   "outputs": [],
   "source": [
    "bst = lgb.train(param, X_train_lgb, early_stopping_rounds=200)"
   ]
  },
  {
   "cell_type": "code",
   "execution_count": 38,
   "metadata": {},
   "outputs": [
    {
     "data": {
      "text/html": [
       "<div>\n",
       "<style>\n",
       "    .dataframe thead tr:only-child th {\n",
       "        text-align: right;\n",
       "    }\n",
       "\n",
       "    .dataframe thead th {\n",
       "        text-align: left;\n",
       "    }\n",
       "\n",
       "    .dataframe tbody tr th {\n",
       "        vertical-align: top;\n",
       "    }\n",
       "</style>\n",
       "<table border=\"1\" class=\"dataframe\">\n",
       "  <thead>\n",
       "    <tr style=\"text-align: right;\">\n",
       "      <th></th>\n",
       "      <th>amount</th>\n",
       "      <th>atm_address</th>\n",
       "      <th>atm_address_lat</th>\n",
       "      <th>atm_address_lon</th>\n",
       "      <th>city</th>\n",
       "      <th>country</th>\n",
       "      <th>currency</th>\n",
       "      <th>customer_id</th>\n",
       "      <th>home_add_lat</th>\n",
       "      <th>home_add_lon</th>\n",
       "      <th>mcc</th>\n",
       "      <th>pos_address</th>\n",
       "      <th>pos_address_lat</th>\n",
       "      <th>pos_address_lon</th>\n",
       "      <th>terminal_id</th>\n",
       "      <th>transaction_date</th>\n",
       "      <th>work_add_lat</th>\n",
       "      <th>work_add_lon</th>\n",
       "    </tr>\n",
       "  </thead>\n",
       "  <tbody>\n",
       "    <tr>\n",
       "      <th>0</th>\n",
       "      <td>2.884034</td>\n",
       "      <td>NaN</td>\n",
       "      <td>NaN</td>\n",
       "      <td>NaN</td>\n",
       "      <td>ST PETERSBURG</td>\n",
       "      <td>RUS</td>\n",
       "      <td>643.0</td>\n",
       "      <td>0dc0137d280a2a82d2dc89282450ff1b</td>\n",
       "      <td>59.851</td>\n",
       "      <td>30.232</td>\n",
       "      <td>5261</td>\n",
       "      <td>NaN</td>\n",
       "      <td>59.844072</td>\n",
       "      <td>30.179153</td>\n",
       "      <td>11606fde0c814ce78e0d726e39a0a5ee</td>\n",
       "      <td>2017-07-15</td>\n",
       "      <td>59.847</td>\n",
       "      <td>30.177</td>\n",
       "    </tr>\n",
       "    <tr>\n",
       "      <th>1</th>\n",
       "      <td>2.775633</td>\n",
       "      <td>NaN</td>\n",
       "      <td>NaN</td>\n",
       "      <td>NaN</td>\n",
       "      <td>ST PETERSBURG</td>\n",
       "      <td>RUS</td>\n",
       "      <td>643.0</td>\n",
       "      <td>0dc0137d280a2a82d2dc89282450ff1b</td>\n",
       "      <td>59.851</td>\n",
       "      <td>30.232</td>\n",
       "      <td>5261</td>\n",
       "      <td>NaN</td>\n",
       "      <td>59.844072</td>\n",
       "      <td>30.179153</td>\n",
       "      <td>e9647a5e1eacfb06713b6af755ccc595</td>\n",
       "      <td>2017-10-27</td>\n",
       "      <td>59.847</td>\n",
       "      <td>30.177</td>\n",
       "    </tr>\n",
       "    <tr>\n",
       "      <th>2</th>\n",
       "      <td>3.708368</td>\n",
       "      <td>NaN</td>\n",
       "      <td>NaN</td>\n",
       "      <td>NaN</td>\n",
       "      <td>St Petersburg</td>\n",
       "      <td>RUS</td>\n",
       "      <td>643.0</td>\n",
       "      <td>0dc0137d280a2a82d2dc89282450ff1b</td>\n",
       "      <td>59.851</td>\n",
       "      <td>30.232</td>\n",
       "      <td>5992</td>\n",
       "      <td>PR.MARSHALA ZHUKOVA,31St Petersburg190000    7...</td>\n",
       "      <td>59.858198</td>\n",
       "      <td>30.229024</td>\n",
       "      <td>df06c1fcd3718a514535ae822785f716</td>\n",
       "      <td>2017-10-03</td>\n",
       "      <td>59.847</td>\n",
       "      <td>30.177</td>\n",
       "    </tr>\n",
       "    <tr>\n",
       "      <th>3</th>\n",
       "      <td>2.787498</td>\n",
       "      <td>NaN</td>\n",
       "      <td>NaN</td>\n",
       "      <td>NaN</td>\n",
       "      <td>ST PETERSBURG</td>\n",
       "      <td>RUS</td>\n",
       "      <td>643.0</td>\n",
       "      <td>0dc0137d280a2a82d2dc89282450ff1b</td>\n",
       "      <td>59.851</td>\n",
       "      <td>30.232</td>\n",
       "      <td>5261</td>\n",
       "      <td>NaN</td>\n",
       "      <td>59.844072</td>\n",
       "      <td>30.179153</td>\n",
       "      <td>6c5e5793ebc984fb72875feffff62854</td>\n",
       "      <td>2017-09-09</td>\n",
       "      <td>59.847</td>\n",
       "      <td>30.177</td>\n",
       "    </tr>\n",
       "    <tr>\n",
       "      <th>4</th>\n",
       "      <td>2.892510</td>\n",
       "      <td>NaN</td>\n",
       "      <td>NaN</td>\n",
       "      <td>NaN</td>\n",
       "      <td>ST PETERSBURG</td>\n",
       "      <td>RUS</td>\n",
       "      <td>643.0</td>\n",
       "      <td>0dc0137d280a2a82d2dc89282450ff1b</td>\n",
       "      <td>59.851</td>\n",
       "      <td>30.232</td>\n",
       "      <td>5261</td>\n",
       "      <td>NaN</td>\n",
       "      <td>59.844072</td>\n",
       "      <td>30.179153</td>\n",
       "      <td>0576445d74e374c92c0902e612fca356</td>\n",
       "      <td>2017-07-06</td>\n",
       "      <td>59.847</td>\n",
       "      <td>30.177</td>\n",
       "    </tr>\n",
       "  </tbody>\n",
       "</table>\n",
       "</div>"
      ],
      "text/plain": [
       "     amount atm_address  atm_address_lat  atm_address_lon           city  \\\n",
       "0  2.884034         NaN              NaN              NaN  ST PETERSBURG   \n",
       "1  2.775633         NaN              NaN              NaN  ST PETERSBURG   \n",
       "2  3.708368         NaN              NaN              NaN  St Petersburg   \n",
       "3  2.787498         NaN              NaN              NaN  ST PETERSBURG   \n",
       "4  2.892510         NaN              NaN              NaN  ST PETERSBURG   \n",
       "\n",
       "  country  currency                       customer_id  home_add_lat  \\\n",
       "0     RUS     643.0  0dc0137d280a2a82d2dc89282450ff1b        59.851   \n",
       "1     RUS     643.0  0dc0137d280a2a82d2dc89282450ff1b        59.851   \n",
       "2     RUS     643.0  0dc0137d280a2a82d2dc89282450ff1b        59.851   \n",
       "3     RUS     643.0  0dc0137d280a2a82d2dc89282450ff1b        59.851   \n",
       "4     RUS     643.0  0dc0137d280a2a82d2dc89282450ff1b        59.851   \n",
       "\n",
       "   home_add_lon   mcc                                        pos_address  \\\n",
       "0        30.232  5261                                                NaN   \n",
       "1        30.232  5261                                                NaN   \n",
       "2        30.232  5992  PR.MARSHALA ZHUKOVA,31St Petersburg190000    7...   \n",
       "3        30.232  5261                                                NaN   \n",
       "4        30.232  5261                                                NaN   \n",
       "\n",
       "   pos_address_lat  pos_address_lon                       terminal_id  \\\n",
       "0        59.844072        30.179153  11606fde0c814ce78e0d726e39a0a5ee   \n",
       "1        59.844072        30.179153  e9647a5e1eacfb06713b6af755ccc595   \n",
       "2        59.858198        30.229024  df06c1fcd3718a514535ae822785f716   \n",
       "3        59.844072        30.179153  6c5e5793ebc984fb72875feffff62854   \n",
       "4        59.844072        30.179153  0576445d74e374c92c0902e612fca356   \n",
       "\n",
       "  transaction_date  work_add_lat  work_add_lon  \n",
       "0       2017-07-15        59.847        30.177  \n",
       "1       2017-10-27        59.847        30.177  \n",
       "2       2017-10-03        59.847        30.177  \n",
       "3       2017-09-09        59.847        30.177  \n",
       "4       2017-07-06        59.847        30.177  "
      ]
     },
     "execution_count": 38,
     "metadata": {},
     "output_type": "execute_result"
    }
   ],
   "source": [
    "train.head()"
   ]
  },
  {
   "cell_type": "code",
   "execution_count": 40,
   "metadata": {},
   "outputs": [
    {
     "data": {
      "text/html": [
       "<div>\n",
       "<style>\n",
       "    .dataframe thead tr:only-child th {\n",
       "        text-align: right;\n",
       "    }\n",
       "\n",
       "    .dataframe thead th {\n",
       "        text-align: left;\n",
       "    }\n",
       "\n",
       "    .dataframe tbody tr th {\n",
       "        vertical-align: top;\n",
       "    }\n",
       "</style>\n",
       "<table border=\"1\" class=\"dataframe\">\n",
       "  <thead>\n",
       "    <tr style=\"text-align: right;\">\n",
       "      <th></th>\n",
       "      <th>amount</th>\n",
       "      <th>atm_address_lat</th>\n",
       "      <th>atm_address_lon</th>\n",
       "      <th>currency</th>\n",
       "      <th>home_add_lat</th>\n",
       "      <th>home_add_lon</th>\n",
       "      <th>mcc</th>\n",
       "      <th>pos_address_lat</th>\n",
       "      <th>pos_address_lon</th>\n",
       "      <th>work_add_lat</th>\n",
       "      <th>work_add_lon</th>\n",
       "    </tr>\n",
       "  </thead>\n",
       "  <tbody>\n",
       "    <tr>\n",
       "      <th>count</th>\n",
       "      <td>1.224734e+06</td>\n",
       "      <td>184680.000000</td>\n",
       "      <td>184680.000000</td>\n",
       "      <td>1.224690e+06</td>\n",
       "      <td>1.224718e+06</td>\n",
       "      <td>1.224718e+06</td>\n",
       "      <td>1.224734e+06</td>\n",
       "      <td>942614.000000</td>\n",
       "      <td>942614.000000</td>\n",
       "      <td>664660.000000</td>\n",
       "      <td>664660.000000</td>\n",
       "    </tr>\n",
       "    <tr>\n",
       "      <th>mean</th>\n",
       "      <td>2.828950e+00</td>\n",
       "      <td>56.070154</td>\n",
       "      <td>40.256464</td>\n",
       "      <td>6.440719e+02</td>\n",
       "      <td>5.613301e+01</td>\n",
       "      <td>4.067607e+01</td>\n",
       "      <td>5.698178e+03</td>\n",
       "      <td>56.179663</td>\n",
       "      <td>40.317367</td>\n",
       "      <td>56.232291</td>\n",
       "      <td>40.453782</td>\n",
       "    </tr>\n",
       "    <tr>\n",
       "      <th>std</th>\n",
       "      <td>7.247219e-01</td>\n",
       "      <td>3.437232</td>\n",
       "      <td>12.830634</td>\n",
       "      <td>2.196238e+01</td>\n",
       "      <td>3.349861e+00</td>\n",
       "      <td>1.360609e+01</td>\n",
       "      <td>5.007560e+02</td>\n",
       "      <td>3.306415</td>\n",
       "      <td>13.334232</td>\n",
       "      <td>3.163262</td>\n",
       "      <td>13.414844</td>\n",
       "    </tr>\n",
       "    <tr>\n",
       "      <th>min</th>\n",
       "      <td>-2.012356e+00</td>\n",
       "      <td>42.053000</td>\n",
       "      <td>20.169000</td>\n",
       "      <td>8.000000e+00</td>\n",
       "      <td>4.211100e+01</td>\n",
       "      <td>1.991000e+01</td>\n",
       "      <td>5.000000e+01</td>\n",
       "      <td>42.102032</td>\n",
       "      <td>19.887847</td>\n",
       "      <td>43.110000</td>\n",
       "      <td>19.911000</td>\n",
       "    </tr>\n",
       "    <tr>\n",
       "      <th>25%</th>\n",
       "      <td>2.328945e+00</td>\n",
       "      <td>55.648000</td>\n",
       "      <td>36.412000</td>\n",
       "      <td>6.430000e+02</td>\n",
       "      <td>5.561500e+01</td>\n",
       "      <td>3.619200e+01</td>\n",
       "      <td>5.411000e+03</td>\n",
       "      <td>55.646963</td>\n",
       "      <td>36.054865</td>\n",
       "      <td>55.702000</td>\n",
       "      <td>36.565000</td>\n",
       "    </tr>\n",
       "    <tr>\n",
       "      <th>50%</th>\n",
       "      <td>2.738351e+00</td>\n",
       "      <td>55.781000</td>\n",
       "      <td>37.602000</td>\n",
       "      <td>6.430000e+02</td>\n",
       "      <td>5.580100e+01</td>\n",
       "      <td>3.759200e+01</td>\n",
       "      <td>5.812000e+03</td>\n",
       "      <td>55.789848</td>\n",
       "      <td>37.587280</td>\n",
       "      <td>55.776000</td>\n",
       "      <td>37.594000</td>\n",
       "    </tr>\n",
       "    <tr>\n",
       "      <th>75%</th>\n",
       "      <td>3.279038e+00</td>\n",
       "      <td>59.122000</td>\n",
       "      <td>37.928000</td>\n",
       "      <td>6.430000e+02</td>\n",
       "      <td>5.911800e+01</td>\n",
       "      <td>3.844000e+01</td>\n",
       "      <td>6.011000e+03</td>\n",
       "      <td>59.117524</td>\n",
       "      <td>37.972392</td>\n",
       "      <td>59.134000</td>\n",
       "      <td>37.820000</td>\n",
       "    </tr>\n",
       "    <tr>\n",
       "      <th>max</th>\n",
       "      <td>6.075307e+00</td>\n",
       "      <td>69.361000</td>\n",
       "      <td>142.735000</td>\n",
       "      <td>9.850000e+02</td>\n",
       "      <td>6.939900e+01</td>\n",
       "      <td>1.508440e+02</td>\n",
       "      <td>9.402000e+03</td>\n",
       "      <td>71.581001</td>\n",
       "      <td>159.892567</td>\n",
       "      <td>64.597000</td>\n",
       "      <td>142.742000</td>\n",
       "    </tr>\n",
       "  </tbody>\n",
       "</table>\n",
       "</div>"
      ],
      "text/plain": [
       "             amount  atm_address_lat  atm_address_lon      currency  \\\n",
       "count  1.224734e+06    184680.000000    184680.000000  1.224690e+06   \n",
       "mean   2.828950e+00        56.070154        40.256464  6.440719e+02   \n",
       "std    7.247219e-01         3.437232        12.830634  2.196238e+01   \n",
       "min   -2.012356e+00        42.053000        20.169000  8.000000e+00   \n",
       "25%    2.328945e+00        55.648000        36.412000  6.430000e+02   \n",
       "50%    2.738351e+00        55.781000        37.602000  6.430000e+02   \n",
       "75%    3.279038e+00        59.122000        37.928000  6.430000e+02   \n",
       "max    6.075307e+00        69.361000       142.735000  9.850000e+02   \n",
       "\n",
       "       home_add_lat  home_add_lon           mcc  pos_address_lat  \\\n",
       "count  1.224718e+06  1.224718e+06  1.224734e+06    942614.000000   \n",
       "mean   5.613301e+01  4.067607e+01  5.698178e+03        56.179663   \n",
       "std    3.349861e+00  1.360609e+01  5.007560e+02         3.306415   \n",
       "min    4.211100e+01  1.991000e+01  5.000000e+01        42.102032   \n",
       "25%    5.561500e+01  3.619200e+01  5.411000e+03        55.646963   \n",
       "50%    5.580100e+01  3.759200e+01  5.812000e+03        55.789848   \n",
       "75%    5.911800e+01  3.844000e+01  6.011000e+03        59.117524   \n",
       "max    6.939900e+01  1.508440e+02  9.402000e+03        71.581001   \n",
       "\n",
       "       pos_address_lon   work_add_lat   work_add_lon  \n",
       "count    942614.000000  664660.000000  664660.000000  \n",
       "mean         40.317367      56.232291      40.453782  \n",
       "std          13.334232       3.163262      13.414844  \n",
       "min          19.887847      43.110000      19.911000  \n",
       "25%          36.054865      55.702000      36.565000  \n",
       "50%          37.587280      55.776000      37.594000  \n",
       "75%          37.972392      59.134000      37.820000  \n",
       "max         159.892567      64.597000     142.742000  "
      ]
     },
     "execution_count": 40,
     "metadata": {},
     "output_type": "execute_result"
    }
   ],
   "source": [
    "train.describe()"
   ]
  },
  {
   "cell_type": "code",
   "execution_count": 41,
   "metadata": {},
   "outputs": [
    {
     "name": "stdout",
     "output_type": "stream",
     "text": [
      "<class 'pandas.core.frame.DataFrame'>\n",
      "RangeIndex: 1224734 entries, 0 to 1224733\n",
      "Data columns (total 18 columns):\n",
      "amount              1224734 non-null float64\n",
      "atm_address         269473 non-null object\n",
      "atm_address_lat     184680 non-null float64\n",
      "atm_address_lon     184680 non-null float64\n",
      "city                1224725 non-null object\n",
      "country             1224734 non-null object\n",
      "currency            1224690 non-null float64\n",
      "customer_id         1224734 non-null object\n",
      "home_add_lat        1224718 non-null float64\n",
      "home_add_lon        1224718 non-null float64\n",
      "mcc                 1224734 non-null int64\n",
      "pos_address         924991 non-null object\n",
      "pos_address_lat     942614 non-null float64\n",
      "pos_address_lon     942614 non-null float64\n",
      "terminal_id         1224705 non-null object\n",
      "transaction_date    1224690 non-null object\n",
      "work_add_lat        664660 non-null float64\n",
      "work_add_lon        664660 non-null float64\n",
      "dtypes: float64(10), int64(1), object(7)\n",
      "memory usage: 168.2+ MB\n"
     ]
    }
   ],
   "source": [
    "train.info()"
   ]
  },
  {
   "cell_type": "code",
   "execution_count": 42,
   "metadata": {},
   "outputs": [
    {
     "data": {
      "text/html": [
       "<div>\n",
       "<style>\n",
       "    .dataframe thead tr:only-child th {\n",
       "        text-align: right;\n",
       "    }\n",
       "\n",
       "    .dataframe thead th {\n",
       "        text-align: left;\n",
       "    }\n",
       "\n",
       "    .dataframe tbody tr th {\n",
       "        vertical-align: top;\n",
       "    }\n",
       "</style>\n",
       "<table border=\"1\" class=\"dataframe\">\n",
       "  <thead>\n",
       "    <tr style=\"text-align: right;\">\n",
       "      <th></th>\n",
       "      <th>atm_address</th>\n",
       "      <th>city</th>\n",
       "      <th>country</th>\n",
       "      <th>customer_id</th>\n",
       "      <th>pos_address</th>\n",
       "      <th>terminal_id</th>\n",
       "      <th>transaction_date</th>\n",
       "    </tr>\n",
       "  </thead>\n",
       "  <tbody>\n",
       "    <tr>\n",
       "      <th>count</th>\n",
       "      <td>269473</td>\n",
       "      <td>1224725</td>\n",
       "      <td>1224734</td>\n",
       "      <td>1224734</td>\n",
       "      <td>924991</td>\n",
       "      <td>1224705</td>\n",
       "      <td>1224690</td>\n",
       "    </tr>\n",
       "    <tr>\n",
       "      <th>unique</th>\n",
       "      <td>17693</td>\n",
       "      <td>7085</td>\n",
       "      <td>127</td>\n",
       "      <td>10000</td>\n",
       "      <td>88957</td>\n",
       "      <td>208383</td>\n",
       "      <td>316</td>\n",
       "    </tr>\n",
       "    <tr>\n",
       "      <th>top</th>\n",
       "      <td>Череповец, ул. Мира, д. 30</td>\n",
       "      <td>MOSCOW</td>\n",
       "      <td>RUS</td>\n",
       "      <td>f1075f6513de30f64d69cef2e4bb7b35</td>\n",
       "      <td>VOLGOGRADSKIIY PR-T, 42MOSKVA       109316    ...</td>\n",
       "      <td>9663c3a3f047f284926a166405f30856</td>\n",
       "      <td>2017-06-09</td>\n",
       "    </tr>\n",
       "    <tr>\n",
       "      <th>freq</th>\n",
       "      <td>1488</td>\n",
       "      <td>267527</td>\n",
       "      <td>1214411</td>\n",
       "      <td>1891</td>\n",
       "      <td>1513</td>\n",
       "      <td>622</td>\n",
       "      <td>7051</td>\n",
       "    </tr>\n",
       "  </tbody>\n",
       "</table>\n",
       "</div>"
      ],
      "text/plain": [
       "                       atm_address     city  country  \\\n",
       "count                       269473  1224725  1224734   \n",
       "unique                       17693     7085      127   \n",
       "top     Череповец, ул. Мира, д. 30   MOSCOW      RUS   \n",
       "freq                          1488   267527  1214411   \n",
       "\n",
       "                             customer_id  \\\n",
       "count                            1224734   \n",
       "unique                             10000   \n",
       "top     f1075f6513de30f64d69cef2e4bb7b35   \n",
       "freq                                1891   \n",
       "\n",
       "                                              pos_address  \\\n",
       "count                                              924991   \n",
       "unique                                              88957   \n",
       "top     VOLGOGRADSKIIY PR-T, 42MOSKVA       109316    ...   \n",
       "freq                                                 1513   \n",
       "\n",
       "                             terminal_id transaction_date  \n",
       "count                            1224705          1224690  \n",
       "unique                            208383              316  \n",
       "top     9663c3a3f047f284926a166405f30856       2017-06-09  \n",
       "freq                                 622             7051  "
      ]
     },
     "execution_count": 42,
     "metadata": {},
     "output_type": "execute_result"
    }
   ],
   "source": [
    "train.describe(include=['object'])"
   ]
  },
  {
   "cell_type": "markdown",
   "metadata": {},
   "source": [
    "Признак atm_address"
   ]
  },
  {
   "cell_type": "code",
   "execution_count": 50,
   "metadata": {},
   "outputs": [
    {
     "data": {
      "text/plain": [
       "array([nan, 'R\\\\MINERALNYE VO\\\\357202    RUSRUS',\n",
       "       'YA STR  3\\\\MOSCOW\\\\109341    RUSRUS', ...,\n",
       "       'IY PR-T BLD G\\\\MOSCOW\\\\125057    RUSRUS',\n",
       "       'R MULYAVINA,6\\\\MINSK        \\\\220005    BLRBLR',\n",
       "       'Саратов, ул. Аэропорт, д. 14'], dtype=object)"
      ]
     },
     "execution_count": 50,
     "metadata": {},
     "output_type": "execute_result"
    }
   ],
   "source": [
    "train['atm_address'].unique()"
   ]
  },
  {
   "cell_type": "code",
   "execution_count": 53,
   "metadata": {},
   "outputs": [
    {
     "data": {
      "text/plain": [
       "Череповец, ул. Мира, д. 30                                                 1488\n",
       "Санкт-Петербург, ш. Левашовское, д. 20А, Курортный район, г. Сестрорецк    1072\n",
       "Санкт-Петербург, бул. Новаторов, д. 11                                      994\n",
       "Санкт-Петербург, ул. Смоленская, д. 18А                                     967\n",
       "Санкт-Петербург, пр. Комендантский, д. 13, корп.1                           919\n",
       "Москва, ул. Василисы Кожиной, д. 1, корп.1                                  862\n",
       "Санкт-Петербург, пр. Большевиков, д. 3, корп.1, стр.А                       857\n",
       "Санкт-Петербург, пр. Просвещения, д. 36/141А                                805\n",
       "Санкт-Петербург, пр. Московский, д. 216                                     796\n",
       "Подольск, пр. Революционный, д. 62                                          763\n",
       "Name: atm_address, dtype: int64"
      ]
     },
     "execution_count": 53,
     "metadata": {},
     "output_type": "execute_result"
    }
   ],
   "source": [
    "train['atm_address'].value_counts()[:10]"
   ]
  },
  {
   "cell_type": "code",
   "execution_count": 54,
   "metadata": {
    "collapsed": true
   },
   "outputs": [],
   "source": [
    "atm_address = train['atm_address']"
   ]
  },
  {
   "cell_type": "code",
   "execution_count": 58,
   "metadata": {},
   "outputs": [
    {
     "data": {
      "text/plain": [
       "False    955261\n",
       "True     269473\n",
       "Name: atm_address, dtype: int64"
      ]
     },
     "execution_count": 58,
     "metadata": {},
     "output_type": "execute_result"
    }
   ],
   "source": [
    "# Количество NaN (False)\n",
    "atm_address.notnull().value_counts()"
   ]
  },
  {
   "cell_type": "code",
   "execution_count": 62,
   "metadata": {
    "collapsed": true
   },
   "outputs": [],
   "source": [
    "# Замена NaN нулями\n",
    "atm_address.fillna(value=0, inplace=True)"
   ]
  },
  {
   "cell_type": "code",
   "execution_count": 63,
   "metadata": {},
   "outputs": [
    {
     "data": {
      "text/plain": [
       "True    1224734\n",
       "Name: atm_address, dtype: int64"
      ]
     },
     "execution_count": 63,
     "metadata": {},
     "output_type": "execute_result"
    }
   ],
   "source": [
    "# Количество NaN (False)\n",
    "atm_address.notnull().value_counts()"
   ]
  },
  {
   "cell_type": "code",
   "execution_count": null,
   "metadata": {
    "collapsed": true
   },
   "outputs": [],
   "source": [
    "onehot_encoder = OneHotEncoder(sparse=False)\n",
    "\n",
    "encoded_categorical_columns = pd.DataFrame(onehot_encoder.fit_transform(df[categorical_columns]))\n",
    "encoded_categorical_columns.head()"
   ]
  },
  {
   "cell_type": "markdown",
   "metadata": {},
   "source": [
    "Признак atm_address_lat"
   ]
  },
  {
   "cell_type": "code",
   "execution_count": 66,
   "metadata": {
    "collapsed": true
   },
   "outputs": [],
   "source": [
    "atm_address_lat = train['atm_address_lat']"
   ]
  },
  {
   "cell_type": "code",
   "execution_count": 72,
   "metadata": {},
   "outputs": [
    {
     "data": {
      "text/plain": [
       "0   NaN\n",
       "1   NaN\n",
       "2   NaN\n",
       "3   NaN\n",
       "4   NaN\n",
       "Name: atm_address_lat, dtype: float64"
      ]
     },
     "execution_count": 72,
     "metadata": {},
     "output_type": "execute_result"
    }
   ],
   "source": [
    "atm_address_lat.head()"
   ]
  },
  {
   "cell_type": "code",
   "execution_count": 73,
   "metadata": {},
   "outputs": [
    {
     "data": {
      "text/plain": [
       "False    1040054\n",
       "True      184680\n",
       "Name: atm_address_lat, dtype: int64"
      ]
     },
     "execution_count": 73,
     "metadata": {},
     "output_type": "execute_result"
    }
   ],
   "source": [
    "# Количество NaN (False)\n",
    "atm_address_lat.notnull().value_counts()"
   ]
  },
  {
   "cell_type": "code",
   "execution_count": 74,
   "metadata": {
    "collapsed": true
   },
   "outputs": [],
   "source": [
    "# Замена NaN нулями\n",
    "atm_address_lat.fillna(value=0, inplace=True)"
   ]
  },
  {
   "cell_type": "code",
   "execution_count": 75,
   "metadata": {},
   "outputs": [
    {
     "data": {
      "text/plain": [
       "True    1224734\n",
       "Name: atm_address_lat, dtype: int64"
      ]
     },
     "execution_count": 75,
     "metadata": {},
     "output_type": "execute_result"
    }
   ],
   "source": [
    "# Количество NaN (False)\n",
    "atm_address_lat.notnull().value_counts()"
   ]
  },
  {
   "cell_type": "markdown",
   "metadata": {},
   "source": [
    "Признак atm_address_lon"
   ]
  },
  {
   "cell_type": "code",
   "execution_count": 77,
   "metadata": {
    "collapsed": true
   },
   "outputs": [],
   "source": [
    "atm_address_lon = train['atm_address_lon']"
   ]
  },
  {
   "cell_type": "code",
   "execution_count": 79,
   "metadata": {},
   "outputs": [
    {
     "data": {
      "text/plain": [
       "0   NaN\n",
       "1   NaN\n",
       "2   NaN\n",
       "3   NaN\n",
       "4   NaN\n",
       "Name: atm_address_lon, dtype: float64"
      ]
     },
     "execution_count": 79,
     "metadata": {},
     "output_type": "execute_result"
    }
   ],
   "source": [
    "atm_address_lon.head()"
   ]
  },
  {
   "cell_type": "code",
   "execution_count": 80,
   "metadata": {},
   "outputs": [
    {
     "data": {
      "text/plain": [
       "False    1040054\n",
       "True      184680\n",
       "Name: atm_address_lon, dtype: int64"
      ]
     },
     "execution_count": 80,
     "metadata": {},
     "output_type": "execute_result"
    }
   ],
   "source": [
    "# Количество NaN (False)\n",
    "atm_address_lon.notnull().value_counts()"
   ]
  },
  {
   "cell_type": "code",
   "execution_count": 81,
   "metadata": {
    "collapsed": true
   },
   "outputs": [],
   "source": [
    "# Замена NaN нулями\n",
    "atm_address_lon.fillna(value=0, inplace=True)"
   ]
  },
  {
   "cell_type": "code",
   "execution_count": 82,
   "metadata": {},
   "outputs": [
    {
     "data": {
      "text/plain": [
       "True    1224734\n",
       "Name: atm_address_lon, dtype: int64"
      ]
     },
     "execution_count": 82,
     "metadata": {},
     "output_type": "execute_result"
    }
   ],
   "source": [
    "# Количество NaN (False)\n",
    "atm_address_lon.notnull().value_counts()"
   ]
  },
  {
   "cell_type": "markdown",
   "metadata": {},
   "source": [
    "Признак city"
   ]
  },
  {
   "cell_type": "code",
   "execution_count": 84,
   "metadata": {
    "collapsed": true
   },
   "outputs": [],
   "source": [
    "city = train['city']"
   ]
  },
  {
   "cell_type": "code",
   "execution_count": 86,
   "metadata": {},
   "outputs": [
    {
     "data": {
      "text/plain": [
       "True     1224725\n",
       "False          9\n",
       "Name: city, dtype: int64"
      ]
     },
     "execution_count": 86,
     "metadata": {},
     "output_type": "execute_result"
    }
   ],
   "source": [
    "# Количество NaN (False)\n",
    "city.notnull().value_counts()"
   ]
  },
  {
   "cell_type": "code",
   "execution_count": 87,
   "metadata": {
    "collapsed": true
   },
   "outputs": [],
   "source": [
    "# Замена NaN нулями\n",
    "city.fillna(value=0, inplace=True)"
   ]
  },
  {
   "cell_type": "code",
   "execution_count": 88,
   "metadata": {},
   "outputs": [
    {
     "data": {
      "text/plain": [
       "True    1224734\n",
       "Name: city, dtype: int64"
      ]
     },
     "execution_count": 88,
     "metadata": {},
     "output_type": "execute_result"
    }
   ],
   "source": [
    "# Количество NaN (False)\n",
    "city.notnull().value_counts()"
   ]
  },
  {
   "cell_type": "markdown",
   "metadata": {},
   "source": [
    "Признак country - все значения"
   ]
  },
  {
   "cell_type": "markdown",
   "metadata": {},
   "source": [
    "Признак currency"
   ]
  },
  {
   "cell_type": "code",
   "execution_count": 92,
   "metadata": {
    "collapsed": true
   },
   "outputs": [],
   "source": [
    "currency = train['currency']"
   ]
  },
  {
   "cell_type": "code",
   "execution_count": 93,
   "metadata": {},
   "outputs": [
    {
     "data": {
      "text/plain": [
       "True     1224690\n",
       "False         44\n",
       "Name: currency, dtype: int64"
      ]
     },
     "execution_count": 93,
     "metadata": {},
     "output_type": "execute_result"
    }
   ],
   "source": [
    "# Количество NaN (False)\n",
    "currency.notnull().value_counts()"
   ]
  },
  {
   "cell_type": "code",
   "execution_count": 95,
   "metadata": {
    "collapsed": true
   },
   "outputs": [],
   "source": [
    "# Замена NaN нулями\n",
    "currency.fillna(value=0, inplace=True)"
   ]
  },
  {
   "cell_type": "code",
   "execution_count": 96,
   "metadata": {},
   "outputs": [
    {
     "data": {
      "text/plain": [
       "True    1224734\n",
       "Name: currency, dtype: int64"
      ]
     },
     "execution_count": 96,
     "metadata": {},
     "output_type": "execute_result"
    }
   ],
   "source": [
    "# Количество NaN (False)\n",
    "currency.notnull().value_counts()"
   ]
  },
  {
   "cell_type": "markdown",
   "metadata": {},
   "source": [
    "Признак customer_id - все значения"
   ]
  },
  {
   "cell_type": "markdown",
   "metadata": {},
   "source": [
    "Признак home_add_lat"
   ]
  },
  {
   "cell_type": "code",
   "execution_count": null,
   "metadata": {
    "collapsed": true
   },
   "outputs": [],
   "source": []
  },
  {
   "cell_type": "code",
   "execution_count": null,
   "metadata": {
    "collapsed": true
   },
   "outputs": [],
   "source": []
  },
  {
   "cell_type": "code",
   "execution_count": null,
   "metadata": {
    "collapsed": true
   },
   "outputs": [],
   "source": [
    "home_add_lat"
   ]
  },
  {
   "cell_type": "code",
   "execution_count": null,
   "metadata": {
    "collapsed": true
   },
   "outputs": [],
   "source": []
  }
 ],
 "metadata": {
  "kernelspec": {
   "display_name": "Python 3",
   "language": "python",
   "name": "python3"
  },
  "language_info": {
   "codemirror_mode": {
    "name": "ipython",
    "version": 3
   },
   "file_extension": ".py",
   "mimetype": "text/x-python",
   "name": "python",
   "nbconvert_exporter": "python",
   "pygments_lexer": "ipython3",
   "version": "3.6.3"
  }
 },
 "nbformat": 4,
 "nbformat_minor": 2
}
